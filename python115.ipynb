{
 "cells": [
  {
   "cell_type": "markdown",
   "id": "d582fba1",
   "metadata": {},
   "source": [
    "# 1. Write a Python program to swap the values of two variables without using a temporary variable."
   ]
  },
  {
   "cell_type": "code",
   "execution_count": 1,
   "id": "8c97b92d",
   "metadata": {},
   "outputs": [
    {
     "name": "stdout",
     "output_type": "stream",
     "text": [
      "20\n",
      "10\n"
     ]
    }
   ],
   "source": [
    "a = 10\n",
    "b = 20\n",
    "\n",
    "a = a + b\n",
    "b = a - b\n",
    "a = a - b\n",
    "print(a)\n",
    "print(b)"
   ]
  },
  {
   "cell_type": "markdown",
   "id": "61185044",
   "metadata": {},
   "source": [
    "# 2.Write a Python program that takes an integer as input and prints whether it is even or odd"
   ]
  },
  {
   "cell_type": "code",
   "execution_count": 2,
   "id": "ec16105e",
   "metadata": {},
   "outputs": [
    {
     "name": "stdout",
     "output_type": "stream",
     "text": [
      "Enter an integer: 3\n",
      "3 is odd.\n"
     ]
    }
   ],
   "source": [
    "num = int(input(\"Enter an integer: \"))\n",
    "\n",
    "if num % 2 == 0:\n",
    "    print(f\"{num} is even.\")\n",
    "else:\n",
    "    print(f\"{num} is odd.\")"
   ]
  },
  {
   "cell_type": "markdown",
   "id": "09a08655",
   "metadata": {},
   "source": [
    "#  3. Write a Python function to reverse a given string and return the reversed string."
   ]
  },
  {
   "cell_type": "code",
   "execution_count": 3,
   "id": "ed849ad2",
   "metadata": {},
   "outputs": [
    {
     "name": "stdout",
     "output_type": "stream",
     "text": [
      "Original String: Hello, World!\n",
      "Reversed String: !dlroW ,olleH\n"
     ]
    }
   ],
   "source": [
    "input_string = \"Hello, World!\"\n",
    "reversed_string = input_string[::-1]\n",
    "print(\"Original String:\", input_string)\n",
    "print(\"Reversed String:\", reversed_string)"
   ]
  },
  {
   "cell_type": "markdown",
   "id": "c3fed211",
   "metadata": {},
   "source": [
    "# 4. Type Conversion: Given a list of integers, write a Python program to convert each element of the list to a string."
   ]
  },
  {
   "cell_type": "code",
   "execution_count": 4,
   "id": "d4de4c4b",
   "metadata": {},
   "outputs": [
    {
     "name": "stdout",
     "output_type": "stream",
     "text": [
      "[10, 20, 30, 40]\n",
      "this is a <class 'list'>\n",
      "[10, 20, 30, 40]\n",
      "this is a <class 'str'>\n"
     ]
    }
   ],
   "source": [
    "int_list = [10, 20, 30, 40]\n",
    "print(int_list)\n",
    "print(\"this is a\", type(int_list))\n",
    "str_list = str(int_list)\n",
    "print(str_list)\n",
    "print(\"this is a\", type(str_list))"
   ]
  },
  {
   "cell_type": "markdown",
   "id": "a6eebef2",
   "metadata": {},
   "source": [
    "# 5. Temperature Converter: Write a Python program that converts a temperature in Celsius to Fahrenheit. Take the Celsius temperature as input from the user."
   ]
  },
  {
   "cell_type": "code",
   "execution_count": 5,
   "id": "536320da",
   "metadata": {},
   "outputs": [
    {
     "name": "stdout",
     "output_type": "stream",
     "text": [
      "temperature in celsius:56\n",
      "132.8\n"
     ]
    }
   ],
   "source": [
    "cel = float(input(\"temperature in celsius:\"))\n",
    "far = (cel * 9 / 5) + 32\n",
    "print(far)"
   ]
  },
  {
   "cell_type": "markdown",
   "id": "ae1a8b60",
   "metadata": {},
   "source": [
    "# 6. Data Type Checker: Write a Python function that takes a variable as input and returns the data type of the variable as a string (e.g., “int”, “float”, “str”, “list”, etc.)."
   ]
  },
  {
   "cell_type": "code",
   "execution_count": 6,
   "id": "f264cdad",
   "metadata": {},
   "outputs": [
    {
     "name": "stdout",
     "output_type": "stream",
     "text": [
      "<class 'int'>\n",
      "<class 'float'>\n",
      "<class 'str'>\n",
      "<class 'list'>\n"
     ]
    }
   ],
   "source": [
    "def data_type(variable):\n",
    "    data_type = type(variable)\n",
    "    return data_type\n",
    "\n",
    "\n",
    "var1 = 10\n",
    "var2 = 3.14\n",
    "var3 = \"Hello, World!\"\n",
    "var4 = [1, 2, 3]\n",
    "\n",
    "print(data_type(var1))\n",
    "print(data_type(var2))\n",
    "print(data_type(var3))\n",
    "print(data_type(var4))"
   ]
  },
  {
   "cell_type": "markdown",
   "id": "c2d29791",
   "metadata": {},
   "source": [
    "# 7. String Palindrome: Write a Python function to check if a given string is a palindrome or not."
   ]
  },
  {
   "cell_type": "code",
   "execution_count": 7,
   "id": "29475507",
   "metadata": {},
   "outputs": [
    {
     "name": "stdout",
     "output_type": "stream",
     "text": [
      "Give me a string: tenet\n",
      "This is a palindrome\n"
     ]
    }
   ],
   "source": [
    "def palindrome(word):\n",
    "    rword = word[::-1]\n",
    "    if word == rword:\n",
    "        print(\"This is a palindrome\")\n",
    "    else:\n",
    "        print(\"This is not a palindrome\")\n",
    "\n",
    "\n",
    "word = input(\"Give me a string: \")\n",
    "palindrome(word)"
   ]
  },
  {
   "cell_type": "markdown",
   "id": "af3cf90f",
   "metadata": {},
   "source": [
    "# 8. String Reversal with Slicing: Write a Python function to reverse a given string using slicing."
   ]
  },
  {
   "cell_type": "code",
   "execution_count": null,
   "id": "1edea655",
   "metadata": {},
   "outputs": [],
   "source": [
    "def r_string(input_string):\n",
    "    r_strings = input_string[::-1]\n",
    "    return r_strings\n",
    "\n",
    "\n",
    "string = input(\"Give a string\")\n",
    "r_string(string)"
   ]
  },
  {
   "cell_type": "markdown",
   "id": "36e3285c",
   "metadata": {},
   "source": [
    "# 9. String Concatenation: Write a Python program that takes two strings as input and concatenates them into a single string without using the `+` operator"
   ]
  },
  {
   "cell_type": "code",
   "execution_count": null,
   "id": "87f3f7b3",
   "metadata": {},
   "outputs": [],
   "source": [
    "def string(s1, s2):\n",
    "    concatenates = s1 + s2\n",
    "    return concatenates\n",
    "\n",
    "\n",
    "s1 = input(\"string1 = \")\n",
    "s2 = input(\"string2 = \")\n",
    "string(s1, s2)"
   ]
  },
  {
   "cell_type": "markdown",
   "id": "83451b3b",
   "metadata": {},
   "source": [
    "# 10. Typecasting Challenge: Given three variables: `a = ‘100’`, `b = 25`, and `c =‘10.5’`, write a Python program to perform the following operations and print the\n",
    "# results:\n",
    "# – Convert `a` to an integer and add it to `b`.\n",
    "# – Convert `c` to a float and subtract it from the result of the first operation.\n",
    "# – Convert the final result to a string and concatenate it with the string ” is the answer.”"
   ]
  },
  {
   "cell_type": "code",
   "execution_count": null,
   "id": "be91bc51",
   "metadata": {},
   "outputs": [],
   "source": [
    "a = '100'\n",
    "b = 25\n",
    "c = '10.5'\n",
    "\n",
    "a = int(a)\n",
    "\n",
    "Result_1 = a + b\n",
    "print(Result_1)\n",
    "\n",
    "c = float(c)\n",
    "Result_2 = Result_1 - c\n",
    "print(Result_2)\n",
    "\n",
    "final_result = str(Result_2)\n",
    "final_result = final_result + \" is the answer \"\n",
    "print(final_result)"
   ]
  },
  {
   "cell_type": "markdown",
   "id": "9a5f6880",
   "metadata": {},
   "source": [
    "# Python Conditional Statements:"
   ]
  },
  {
   "cell_type": "markdown",
   "id": "75b413b7",
   "metadata": {},
   "source": [
    "# 11. Positive, Negative, or Zero: Write a Python program that takes a number as input and prints whether it is positive, negative, or zero."
   ]
  },
  {
   "cell_type": "code",
   "execution_count": null,
   "id": "076e1535",
   "metadata": {},
   "outputs": [],
   "source": [
    "number = float(input(\"Enter a number: \"))\n",
    "if number > 0:\n",
    "    print(\"Positive\")\n",
    "elif number < 0:\n",
    "    print(\"Negative\")\n",
    "else:\n",
    "    print(\"Zero\")"
   ]
  },
  {
   "cell_type": "markdown",
   "id": "c8ebee44",
   "metadata": {},
   "source": [
    "# 12. Largest of Three Numbers: Write a Python program that takes three numbers as input and prints the largest among them"
   ]
  },
  {
   "cell_type": "code",
   "execution_count": null,
   "id": "17266417",
   "metadata": {},
   "outputs": [],
   "source": [
    "num1 = float(input(\"Enter the first number: \"))\n",
    "num2 = float(input(\"Enter the second number: \"))\n",
    "num3 = float(input(\"Enter the third number: \"))\n",
    "\n",
    "if num1 >= num2 and num1 >= num3:\n",
    "    largest = num1\n",
    "elif num2 >= num1 and num2 >= num3:\n",
    "    largest = num2\n",
    "else:\n",
    "    largest = num3\n",
    "\n",
    "print(\"The largest number is:\", largest)"
   ]
  },
  {
   "cell_type": "markdown",
   "id": "3cd87fbb",
   "metadata": {},
   "source": [
    "# 13. Leap Year Checker: Write a Python program that takes a year as input and determines if it is a leap year or not."
   ]
  },
  {
   "cell_type": "code",
   "execution_count": null,
   "id": "3ba7be34",
   "metadata": {},
   "outputs": [],
   "source": [
    "year = int(input(\"Year = \"))\n",
    "\n",
    "if (year % 4 == 0 and year % 100 != 0) or (year % 400 == 0):\n",
    "    print(f\"{year} is a leap year\")\n",
    "else:\n",
    "    print(f\"{year} is not a leap year\")"
   ]
  },
  {
   "cell_type": "markdown",
   "id": "5ffb503b",
   "metadata": {},
   "source": [
    "# 14. Grades Classification: Write a Python program that takes a student’s percentage as input and prints their corresponding grade according to the following criteria:\n",
    "# – 90% or above: A+\n",
    "# – 80-89%: A\n",
    "# – 70-79%: B\n",
    "# – 60-69%: C\n",
    "# – Below 60%: Fail"
   ]
  },
  {
   "cell_type": "code",
   "execution_count": null,
   "id": "1fc10576",
   "metadata": {},
   "outputs": [],
   "source": [
    "a = int(input(\"Marks\"))\n",
    "\n",
    "if a < 60:\n",
    "    print('F')\n",
    "elif a >= 70 and a < 79:\n",
    "    print('B')\n",
    "elif a >= 80 and a < 89:\n",
    "    print('A')\n",
    "else:\n",
    "    print('A+')"
   ]
  },
  {
   "cell_type": "markdown",
   "id": "eabac2cd",
   "metadata": {},
   "source": [
    "# 15. Vowel or Consonant: Write a Python program that takes a single character as input and determines whether it is a vowel or a consonant."
   ]
  },
  {
   "cell_type": "code",
   "execution_count": null,
   "id": "720f1901",
   "metadata": {},
   "outputs": [],
   "source": [
    "char = input(\"Enter a character: \")\n",
    "\n",
    "if char in 'aeiou':\n",
    "    print(\"Vowel\")\n",
    "else:\n",
    "    print(\"Consonant\")"
   ]
  },
  {
   "cell_type": "markdown",
   "id": "8dc9add0",
   "metadata": {},
   "source": [
    "# 16. Time Classification: Write a Python program that takes the time in hours (24-hour format) as input and prints “Good Morning”, “Good Afternoon”, “Good Evening”, or “Good Night” based on the time."
   ]
  },
  {
   "cell_type": "code",
   "execution_count": null,
   "id": "a0cb3265",
   "metadata": {},
   "outputs": [],
   "source": [
    "time = int(input(\"Enter the time : \"))\n",
    "\n",
    "# Print the corresponding greeting based on the time\n",
    "if 0 <= time < 6:\n",
    "    print(\"Good Night\")\n",
    "elif 6 <= time < 12:\n",
    "    print(\"Good Morning\")\n",
    "elif 12 <= time < 18:\n",
    "    print(\"Good Afternoon\")\n",
    "else:\n",
    "    print(\"Good Evening\")"
   ]
  },
  {
   "cell_type": "markdown",
   "id": "f87913ea",
   "metadata": {},
   "source": [
    "# 17. Triangle Type Checker: Write a Python program that takes three sides of a triangle as input and determines whether it forms an equilateral, isosceles, or scalene triangle."
   ]
  },
  {
   "cell_type": "code",
   "execution_count": null,
   "id": "d6115cf9",
   "metadata": {},
   "outputs": [],
   "source": [
    "side1 = float(input(\"Enter the length of side 1: \"))\n",
    "side2 = float(input(\"Enter the length of side 2: \"))\n",
    "side3 = float(input(\"Enter the length of side 3: \"))\n",
    "\n",
    "if side1 == side2 == side3:\n",
    "    print(\"It is an Equilateral triangle.\")\n",
    "elif side1 == side2 or side1 == side3 or side2 == side3:\n",
    "    print(\"It is an Isosceles triangle.\")\n",
    "else:\n",
    "    print(\"It is a Scalene triangle.\")"
   ]
  },
  {
   "cell_type": "markdown",
   "id": "33e3a114",
   "metadata": {},
   "source": [
    "# 18. Quadratic Equation Solver: Write a Python program that takes the coefficients  (a, b, c) of a quadratic equation as input and calculates and prints the real roots (if they exist) or a message indicating the complex roots."
   ]
  },
  {
   "cell_type": "code",
   "execution_count": null,
   "id": "471906eb",
   "metadata": {},
   "outputs": [],
   "source": [
    "import cmath\n",
    "\n",
    "a = float(input(\"Enter coefficient a: \"))\n",
    "b = float(input(\"Enter coefficient b: \"))\n",
    "c = float(input(\"Enter coefficient c: \"))\n",
    "\n",
    "# Calculate the discriminant\n",
    "discriminant = b**2 - 4 * a * c\n",
    "\n",
    "# Calculate and print the roots\n",
    "if discriminant > 0:\n",
    "    root1 = (-b + cmath.sqrt(discriminant)) / (2 * a)\n",
    "    root2 = (-b - cmath.sqrt(discriminant)) / (2 * a)\n",
    "    print(f\"Real roots: {root1} and {root2}\")\n",
    "elif discriminant == 0:\n",
    "    root = -b / (2 * a)\n",
    "    print(f\"Real root: {root}\")\n",
    "else:\n",
    "    real_part = -b / (2 * a)\n",
    "    imaginary_part = cmath.sqrt(abs(discriminant)) / (2 * a)\n",
    "    root1 = complex(real_part, imaginary_part)\n",
    "    root2 = complex(real_part, -imaginary_part)\n",
    "    print(f\"Complex roots: {root1} and {root2}\")"
   ]
  },
  {
   "cell_type": "markdown",
   "id": "877e525e",
   "metadata": {},
   "source": [
    "# 19. Number Ranges: Write a Python program that takes an integer as input and prints whether the number falls within the ranges: 0-50, 51-100, 101-150, or above 150."
   ]
  },
  {
   "cell_type": "code",
   "execution_count": null,
   "id": "a591771e",
   "metadata": {},
   "outputs": [],
   "source": [
    "number = int(input(\"Enter an integer: \"))\n",
    "\n",
    "if number >= 0 and number <= 50:\n",
    "    print(\"The number falls within the range 0-50\")\n",
    "elif number >= 51 and number <= 100:\n",
    "    print(\"The number falls within the range 51-100\")\n",
    "elif number >= 101 and number <= 150:\n",
    "    print(\"The number falls within the range 101-150\")\n",
    "else:\n",
    "    print(\"The number is above 150\")"
   ]
  },
  {
   "cell_type": "markdown",
   "id": "d960b91e",
   "metadata": {},
   "source": [
    "# 20. Sum of N Numbers: Write a Python program using a for loop to calculate the sum of the first N natural numbers, where N is taken as input from the user."
   ]
  },
  {
   "cell_type": "code",
   "execution_count": null,
   "id": "8e7274a3",
   "metadata": {},
   "outputs": [],
   "source": [
    "N = int(input(\"Enter a positive integer N: \"))\n",
    "sum_of_numbers = 0\n",
    "for i in range(1, N + 1):\n",
    "    sum_of_numbers += i\n",
    "\n",
    "print(\"The sum of the first\", N, \"natural numbers is:\", sum_of_numbers)"
   ]
  },
  {
   "cell_type": "markdown",
   "id": "60ac2670",
   "metadata": {},
   "source": [
    "# 21. Factorial Calculator: Write a Python program using a while loop to calculate the factorial of a given number N."
   ]
  },
  {
   "cell_type": "code",
   "execution_count": null,
   "id": "3d1b9bd5",
   "metadata": {},
   "outputs": [],
   "source": [
    "N = int(input())\n",
    "\n",
    "factorial = 1\n",
    "i = 1\n",
    "\n",
    "while i <= N:\n",
    "    factorial *= i\n",
    "    i += 1\n",
    "\n",
    "print(factorial)"
   ]
  },
  {
   "cell_type": "markdown",
   "id": "2af2447b",
   "metadata": {},
   "source": [
    "# 22. Table of a Number: Write a Python program using a for loop to print the multiplication table of a given number N."
   ]
  },
  {
   "cell_type": "code",
   "execution_count": null,
   "id": "29193f69",
   "metadata": {},
   "outputs": [],
   "source": [
    "N = int(input())\n",
    "#N = float(input())\n",
    "#N = str(input())\n",
    "for i in range(1, 11):\n",
    "    result = N * i\n",
    "    print(N, \"x\", i, \"=\", result)"
   ]
  },
  {
   "cell_type": "markdown",
   "id": "adc5d73c",
   "metadata": {},
   "source": [
    "# 23. Count Digits in a Number: Write a Python program using a while loop to count the number of digits in a given integer N."
   ]
  },
  {
   "cell_type": "code",
   "execution_count": null,
   "id": "94a37c7d",
   "metadata": {},
   "outputs": [],
   "source": [
    "Number = int(input(\"Please Enter any Number: \"))\n",
    "Count = 0\n",
    "while Number > 0:\n",
    "    Number = Number // 10\n",
    "    Count = Count + 1\n",
    "\n",
    "print(\"\\n Number of Digits in a Given Number = %d\" % Count)"
   ]
  },
  {
   "cell_type": "markdown",
   "id": "b0ae787d",
   "metadata": {},
   "source": [
    "# 24. Fibonacci Sequence: Write a Python program using a for loop to generate the Fibonacci sequence up to a given limit N."
   ]
  },
  {
   "cell_type": "code",
   "execution_count": null,
   "id": "7aa8f0e0",
   "metadata": {},
   "outputs": [],
   "source": [
    "N = int(input())\n",
    "\n",
    "fibo = [0, 1]\n",
    "\n",
    "if N > 2:\n",
    "    for i in range(2, N):\n",
    "        temp = fibo[i - 1] + fibo[i - 2]\n",
    "        fibo.append(temp)\n",
    "\n",
    "print(fibo)"
   ]
  },
  {
   "cell_type": "markdown",
   "id": "e2dba802",
   "metadata": {},
   "source": [
    "# 25. Sum of Even Numbers: Write a Python program using a while loop to calculate the sum of all even numbers between 1 and N, where N is taken as input from the user"
   ]
  },
  {
   "cell_type": "code",
   "execution_count": null,
   "id": "cf02faed",
   "metadata": {},
   "outputs": [],
   "source": [
    "maxi = int(input(\"Numbers: \"))\n",
    "total = 0\n",
    "\n",
    "for i in range(1, maxi + 1):\n",
    "    if i % 2 == 0:\n",
    "        total += i\n",
    "print(total)"
   ]
  },
  {
   "cell_type": "markdown",
   "id": "b999edd2",
   "metadata": {},
   "source": [
    "# 26. Print Patterns: Write a Python program using nested for loops to print various patterns, such as a right-angled triangle, an inverted right-angled triangle, and soon."
   ]
  },
  {
   "cell_type": "code",
   "execution_count": null,
   "id": "f0827810",
   "metadata": {},
   "outputs": [],
   "source": [
    "rows = int(input(\"number: \"))\n",
    "\n",
    "for i in range(rows + 1):\n",
    "    for j in range(i):\n",
    "        print(\"*\", end=\" \")\n",
    "    print()"
   ]
  },
  {
   "cell_type": "markdown",
   "id": "9c4afe2c",
   "metadata": {},
   "source": [
    "# 27. Prime Number Checker: Write a Python program using a while loop to check if a given number N is prime or not."
   ]
  },
  {
   "cell_type": "code",
   "execution_count": null,
   "id": "1b7b6583",
   "metadata": {},
   "outputs": [],
   "source": [
    "num = int(input())\n",
    "n = 0\n",
    "i = 2\n",
    "while i <= num / 2:\n",
    "    if num % i == 0:\n",
    "        n = 1\n",
    "        break\n",
    "    i = i + 1\n",
    "if n == 0:\n",
    "    print(\"prime number\")\n",
    "else:\n",
    "    print(\"not a prime number\")"
   ]
  },
  {
   "cell_type": "markdown",
   "id": "cfca4cf6",
   "metadata": {},
   "source": [
    "# 28. List Manipulation: Given a list of integers, write a Python program using a for loop to find the sum, average, maximum, and minimum values in the list."
   ]
  },
  {
   "cell_type": "code",
   "execution_count": null,
   "id": "91058c80",
   "metadata": {},
   "outputs": [],
   "source": [
    "L = [4, 5, -1, 2, 9, 7, 10, 8, 21, 86, 89, 45, 74, 1, 958]\n",
    "count = 0\n",
    "\n",
    "for i in L:\n",
    "    count += i\n",
    "\n",
    "avg = count / len(L)\n",
    "\n",
    "print(\"sum = \", count)\n",
    "print(\"average = \", avg)\n",
    "print(\"maximum = \", max(L))\n",
    "print(\"minimum= \", min(L))"
   ]
  },
  {
   "cell_type": "markdown",
   "id": "f222951c",
   "metadata": {},
   "source": [
    "# 29. Reverse String: Write a Python program using a while loop to reverse a given string."
   ]
  },
  {
   "cell_type": "code",
   "execution_count": null,
   "id": "9b6964f7",
   "metadata": {},
   "outputs": [],
   "source": [
    "str = \"Mridul\"\n",
    "reversed = ''\n",
    "length = len(str) - 1\n",
    "while length >= 0:\n",
    "    reversed = reversed + str[length]\n",
    "    length = length - 1\n",
    "\n",
    "print(reversed)"
   ]
  },
  {
   "cell_type": "markdown",
   "id": "053be317",
   "metadata": {},
   "source": [
    "# 30. Multiplication Table: Write a Python program using nested loops to print the multiplication table from 1 to 10."
   ]
  },
  {
   "cell_type": "code",
   "execution_count": null,
   "id": "fed35eb6",
   "metadata": {},
   "outputs": [],
   "source": [
    "for i in range(1, 11):\n",
    "    for j in range(1, 11):\n",
    "        result = i * j\n",
    "        print(i, \"x\", j, \"=\", result)\n",
    "    print()"
   ]
  },
  {
   "cell_type": "markdown",
   "id": "270afe9e",
   "metadata": {},
   "source": [
    "# 31. Print Patterns: Write a Python program using nested loops to print the following pattern:\n",
    "# *\n",
    "# **\n",
    "# ***\n",
    "# ****\n",
    "# *****"
   ]
  },
  {
   "cell_type": "code",
   "execution_count": null,
   "id": "e6744f44",
   "metadata": {},
   "outputs": [],
   "source": [
    "rows = int(input())\n",
    "for i in range(rows + 1):\n",
    "    for j in range(i):\n",
    "        print(\"*\", end=\" \")\n",
    "    print()"
   ]
  },
  {
   "cell_type": "markdown",
   "id": "44df38f0",
   "metadata": {},
   "source": [
    "# 32. Matrix Multiplication: Write a Python program using nested loops to multiply two matrices."
   ]
  },
  {
   "cell_type": "code",
   "execution_count": null,
   "id": "7a0832a0",
   "metadata": {},
   "outputs": [],
   "source": [
    "matrix_A = [[1, 2, 3], [4, 5, 6], [7, 8, 9]]\n",
    "\n",
    "matrix_B = [[9, 8, 7], [6, 5, 4], [3, 2, 1]]\n",
    "\n",
    "result_matrix = [[0, 0, 0], [0, 0, 0], [0, 0, 0]]\n",
    "for i in range(len(matrix_A)):\n",
    "    for j in range(len(matrix_B[0])):\n",
    "        for k in range(len(matrix_B)):\n",
    "            result_matrix[i][j] += matrix_A[i][k] * matrix_B[k][j]\n",
    "for row in result_matrix:\n",
    "    print(row)"
   ]
  },
  {
   "cell_type": "markdown",
   "id": "39957eaf",
   "metadata": {},
   "source": [
    "# 33. Chessboard Pattern: Write a Python program using nested loops to print a chessboard pattern (alternating “X” and “O” characters) of size 8×8.34. Number Pyramid: Write a Python program using nested loops to print a number pyramid like the following:\n",
    "1\n",
    "22\n",
    "333\n",
    "4444\n",
    "55555"
   ]
  },
  {
   "cell_type": "code",
   "execution_count": null,
   "id": "2a88aa35",
   "metadata": {},
   "outputs": [],
   "source": [
    "for i in range(8):\n",
    "    for j in range(8):\n",
    "        if (i + j) % 2 == 0:\n",
    "            print(\"X\", end=\" \")\n",
    "        else:\n",
    "            print(\"0\", end=\" \")\n",
    "    print()"
   ]
  },
  {
   "cell_type": "markdown",
   "id": "65de67aa",
   "metadata": {},
   "source": [
    "# 34. List Sum: Write a Python program to find the sum of all elements in a given list of integers."
   ]
  },
  {
   "cell_type": "code",
   "execution_count": null,
   "id": "fb02aedf",
   "metadata": {},
   "outputs": [],
   "source": [
    "List = [1, 2, 3, 4, 5, 6, 7, 8, 9]\n",
    "listSum = 0\n",
    "for i in range(len(List)):\n",
    "    listSum = listSum + List[i]\n",
    "\n",
    "print(listSum)"
   ]
  },
  {
   "cell_type": "markdown",
   "id": "d0007e79",
   "metadata": {},
   "source": [
    "# 35. List Average: Write a Python program to calculate the average of all elements in a given list of integers."
   ]
  },
  {
   "cell_type": "code",
   "execution_count": null,
   "id": "2822ed52",
   "metadata": {},
   "outputs": [],
   "source": [
    "L = [1, 2, 3, 4, 5, 6, 7, 8, 9, 0, 10, 89, 85]\n",
    "\n",
    "tSum = sum(L)\n",
    "average = tSum / len(L)\n",
    "print(average)"
   ]
  },
  {
   "cell_type": "markdown",
   "id": "3933845c",
   "metadata": {},
   "source": [
    "# 36. List Max and Min: Write a Python program to find the maximum and minimum values in a given list of integers."
   ]
  },
  {
   "cell_type": "code",
   "execution_count": null,
   "id": "f4640b99",
   "metadata": {},
   "outputs": [],
   "source": [
    "def minMax(x):\n",
    "    minimum = min(x)\n",
    "    maximum = max(x)\n",
    "    print(minimum)\n",
    "    print(maximum)\n",
    "\n",
    "\n",
    "L = [1, 2, 3, 4, 5, 6, 7, 8, 9, 0, 10, 89, 85]\n",
    "minMax(L)"
   ]
  },
  {
   "cell_type": "markdown",
   "id": "c6e9cbc6",
   "metadata": {},
   "source": [
    "# 37. List Sorting: Write a Python program to sort a list of integers in ascending order."
   ]
  },
  {
   "cell_type": "code",
   "execution_count": null,
   "id": "d2771fb4",
   "metadata": {},
   "outputs": [],
   "source": [
    "L = [1, 2, 3, 4, 5, .756, 22, 98, 9876, 6, 7, 8, 9, 0, 10, 89, 85]\n",
    "L.sort()\n",
    "print(L)"
   ]
  },
  {
   "cell_type": "markdown",
   "id": "91563063",
   "metadata": {},
   "source": [
    "# 38. List Filtering: Given a list of integers, write a Python program to create a new list that contains only the even numbers from the original list."
   ]
  },
  {
   "cell_type": "code",
   "execution_count": null,
   "id": "eac193bb",
   "metadata": {},
   "outputs": [],
   "source": [
    "L = [1, 2, 3, 4, 5, .756, 22, 98, 9876, 6, 7, 8, 9, 0, 10, 89, 85]\n",
    "\n",
    "new_list = [x for x in L if x % 2 == 0]\n",
    "print(new_list)"
   ]
  },
  {
   "cell_type": "markdown",
   "id": "3d53aeda",
   "metadata": {},
   "source": [
    "# 39. List Reversal: Write a Python program to reverse a given list without using any built-in functions."
   ]
  },
  {
   "cell_type": "code",
   "execution_count": null,
   "id": "b29a5afb",
   "metadata": {},
   "outputs": [],
   "source": [
    "L = [1, 2, 3, 4, 5, .756, 22, 98, 9876, 6, 7, 8, 9, 0, 10, 89, 85]\n",
    "\n",
    "rList = []\n",
    "for i in range(len(L) - 1, -1, -1):\n",
    "    rList.append(L[i])\n",
    "print(rList)"
   ]
  },
  {
   "cell_type": "markdown",
   "id": "4d6472be",
   "metadata": {},
   "source": [
    "# 40. List Manipulation: Given two lists of integers, write a Python program to create a new list that contains elements common to both lists."
   ]
  },
  {
   "cell_type": "code",
   "execution_count": null,
   "id": "e3092cde",
   "metadata": {},
   "outputs": [],
   "source": [
    "L1 = [1, 2, 3, 4, 5, 6, 22, 98, 6, 7, 8, 0, 10, 89, 85]\n",
    "L2 = [1, 2, 3, 4, 5, .756, 22, 98, 9876, 6, 7, 8, 9, 0, 10, 89, 85]\n",
    "newList = [x for x in L1 if x in L2]\n",
    "print(newList)"
   ]
  },
  {
   "cell_type": "markdown",
   "id": "f7688c93",
   "metadata": {},
   "source": [
    "# 41. List Element Count: Write a Python program to count the occurrences of a specific element in a given list."
   ]
  },
  {
   "cell_type": "code",
   "execution_count": null,
   "id": "3ab65745",
   "metadata": {},
   "outputs": [],
   "source": [
    "L = [1, 2, 3, 4, 5, .756, 2, 2, 98, 9876, 6, 2, 2, 7, 8, 9, 0, 10, 89, 85]\n",
    "count = L.count(2)\n",
    "print(count)"
   ]
  },
  {
   "cell_type": "markdown",
   "id": "ec969155",
   "metadata": {},
   "source": [
    "# 42. List Duplicates Removal: Write a Python program to remove duplicates from a  given list while preserving the order of the elements."
   ]
  },
  {
   "cell_type": "code",
   "execution_count": null,
   "id": "fa9a0fe8",
   "metadata": {},
   "outputs": [],
   "source": [
    "L = [1, 2, 3, 4, 5, .756, 2, 2, 98, 9876, 6, 2, 2, 7, 8, 9, 0, 10, 89, 85]\n",
    "list1 = []\n",
    "for i in L:\n",
    "    if i not in list1:\n",
    "        list1.append(i)\n",
    "print(list1)"
   ]
  },
  {
   "cell_type": "markdown",
   "id": "cb9c0f90",
   "metadata": {},
   "source": [
    "# 43. List Comprehension: Given a list of integers, write a Python program to create a new list that contains the squares of the elements using list comprehension."
   ]
  },
  {
   "cell_type": "code",
   "execution_count": null,
   "id": "e4b933c6",
   "metadata": {},
   "outputs": [],
   "source": [
    "L = [1, 2, 3, 4, 5, .756, 2, 2, 8, 9, 6, 2, 2, 7, 8, 9, 0, 10, 89, 85]\n",
    "slist = [x**2 for x in L]\n",
    "print(slist)"
   ]
  },
  {
   "cell_type": "markdown",
   "id": "38df2354",
   "metadata": {},
   "source": [
    "# 44. Matrix Addition: Write a Python program to add two matrices represented as nested lists."
   ]
  },
  {
   "cell_type": "code",
   "execution_count": null,
   "id": "9cd0cd90",
   "metadata": {},
   "outputs": [],
   "source": [
    "X = [[12, 7, 3], [4, 5, 6], [7, 8, 9]]\n",
    "\n",
    "Y = [[5, 8, 1], [6, 7, 3], [4, 5, 9]]\n",
    "\n",
    "result = [[0, 0, 0], [0, 0, 0], [0, 0, 0]]\n",
    "\n",
    "for i in range(len(X)):\n",
    "    for j in range(len(X[0])):\n",
    "        result[i][j] = X[i][j] + Y[i][j]\n",
    "for r in result:\n",
    "    print(r)"
   ]
  },
  {
   "cell_type": "markdown",
   "id": "c5d27572",
   "metadata": {},
   "source": [
    "# 45. Flatten Nested List: Write a Python program to flatten a given nested list and convert it into a single-dimensional list."
   ]
  },
  {
   "cell_type": "code",
   "execution_count": null,
   "id": "4f8123b4",
   "metadata": {},
   "outputs": [],
   "source": [
    "mylist = [[1], [2, 3], [4, 5, 6, 7]]\n",
    "\n",
    "flatlist = []\n",
    "for i in mylist:\n",
    "    for num in i:\n",
    "        flatlist.append(num)\n",
    "\n",
    "print(flat_list)"
   ]
  },
  {
   "cell_type": "markdown",
   "id": "b2f70c4a",
   "metadata": {},
   "source": [
    "# 46. List Element Frequency: Given a nested list containing lists of integers, write a Python program to count the frequency of each element in the entire nested list."
   ]
  },
  {
   "cell_type": "code",
   "execution_count": null,
   "id": "e4f1e1f2",
   "metadata": {},
   "outputs": [],
   "source": [
    "random_list = ['A', 'A', 'B', 'C', 'B', 'D', 'D', 'A', 'B']\n",
    "frequency = {}\n",
    "\n",
    "for item in random_list:\n",
    "    if item in frequency:\n",
    "        frequency[item] += 1\n",
    "    else:\n",
    "        requency[item] = 1\n",
    "\n",
    "print(frequency)"
   ]
  },
  {
   "cell_type": "markdown",
   "id": "56f53e65",
   "metadata": {},
   "source": [
    "# 47. Transpose Matrix: Write a Python program to transpose a given matrix represented as a nested list."
   ]
  },
  {
   "cell_type": "code",
   "execution_count": null,
   "id": "a925aa41",
   "metadata": {},
   "outputs": [],
   "source": [
    "X = [[12, 7], [4, 5], [3, 8]]\n",
    "\n",
    "result = [[0, 0, 0], [0, 0, 0]]\n",
    "\n",
    "for i in range(len(X)):\n",
    "    for j in range(len(X[0])):\n",
    "        result[j][i] = X[i][j]\n",
    "\n",
    "for r in result:\n",
    "    print(r)"
   ]
  },
  {
   "cell_type": "markdown",
   "id": "fa86232f",
   "metadata": {},
   "source": [
    "# 48. List of Lists Concatenation: Given a list of nested lists, write a Python program to concatenate all the sublists into a single flat list."
   ]
  },
  {
   "cell_type": "code",
   "execution_count": null,
   "id": "5b828d56",
   "metadata": {},
   "outputs": [],
   "source": [
    "nested_list = [[1, 2, 3], [4, 5], [6, 7, 8]]\n",
    "flat_list = []\n",
    "for i in nested_list:\n",
    "    for j in i:\n",
    "        flat_list.append(j)\n",
    "print(flat_list)"
   ]
  },
  {
   "cell_type": "markdown",
   "id": "a324be62",
   "metadata": {},
   "source": [
    "# 49. Tuple Concatenation: Write a Python program to concatenate two tuples and create a new tuple."
   ]
  },
  {
   "cell_type": "code",
   "execution_count": null,
   "id": "e2d48b6d",
   "metadata": {},
   "outputs": [],
   "source": [
    "A = (1, 2, 3)\n",
    "B = (4, 5, 6)\n",
    "concatenate = A + B\n",
    "print(concatenate)"
   ]
  },
  {
   "cell_type": "markdown",
   "id": "14e8929f",
   "metadata": {},
   "source": [
    "# 50. Tuple Unpacking: Given a tuple with three elements (x, y, z), write a Python program to unpack the tuple and assign the values to three variables."
   ]
  },
  {
   "cell_type": "code",
   "execution_count": null,
   "id": "4830588d",
   "metadata": {},
   "outputs": [],
   "source": [
    "x, y, z = (1, 2, 3)\n",
    "print(x)\n",
    "print(y)\n",
    "print(z)"
   ]
  },
  {
   "cell_type": "markdown",
   "id": "aa851707",
   "metadata": {},
   "source": [
    "# 51. Tuple Sorting: Write a Python program to sort a tuple of integers in ascending order."
   ]
  },
  {
   "cell_type": "code",
   "execution_count": null,
   "id": "55ebfb66",
   "metadata": {},
   "outputs": [],
   "source": [
    "my_tuple = (4, 1, 7, 3, 9, 2)\n",
    "sorted_list = sorted(my_tuple)\n",
    "print(sorted_list)"
   ]
  },
  {
   "cell_type": "markdown",
   "id": "a16e1de4",
   "metadata": {},
   "source": [
    "# 52. Tuple Frequency Count: Given a tuple containing various elements, write a Python program to count the frequency of a specific element in the tuple."
   ]
  },
  {
   "cell_type": "code",
   "execution_count": null,
   "id": "ffbed334",
   "metadata": {},
   "outputs": [],
   "source": [
    "my_tuple = (\n",
    "    4,\n",
    "    1,\n",
    "    7,\n",
    "    3,\n",
    "    9,\n",
    "    2,\n",
    "    2,\n",
    "    2,\n",
    "    2,\n",
    "    2,\n",
    ")\n",
    "A = 2\n",
    "count = 0\n",
    "for i in my_tuple:\n",
    "    if i == A:\n",
    "        count += 1\n",
    "print(count)"
   ]
  },
  {
   "cell_type": "markdown",
   "id": "48d3c5b6",
   "metadata": {},
   "source": [
    "# 53. Tuple to List: Write a Python program to convert a tuple into a list."
   ]
  },
  {
   "cell_type": "code",
   "execution_count": null,
   "id": "e1d9782d",
   "metadata": {},
   "outputs": [],
   "source": [
    "my_tuple = (1, 2, 3, 4, 5)\n",
    "my_list = list(my_tuple)\n",
    "print(my_list)"
   ]
  },
  {
   "cell_type": "markdown",
   "id": "7233ec89",
   "metadata": {},
   "source": [
    "# 54. Tuple Reversal: Write a Python program to reverse a tuple without using any built-in functions."
   ]
  },
  {
   "cell_type": "code",
   "execution_count": null,
   "id": "7023ddcd",
   "metadata": {},
   "outputs": [],
   "source": [
    "my_tuple = (1, 2, 3, 4, 5)\n",
    "reversed_tuple = my_tuple[::-1]\n",
    "print(reversed_tuple)"
   ]
  },
  {
   "cell_type": "markdown",
   "id": "00b6e035",
   "metadata": {},
   "source": [
    "# 55. Tuple Slicing: Given a tuple, write a Python program to extract a slice of elements from it."
   ]
  },
  {
   "cell_type": "code",
   "execution_count": 7,
   "id": "c2e2e932",
   "metadata": {},
   "outputs": [
    {
     "name": "stdout",
     "output_type": "stream",
     "text": [
      "(2, 3, 4, 5)\n"
     ]
    }
   ],
   "source": [
    "my_tuple = (1, 2, 3, 4, 5, 6, 7, 8, 9)\n",
    "new_tuple = my_tuple[1:5]\n",
    "print(new_tuple)"
   ]
  },
  {
   "cell_type": "markdown",
   "id": "e9b207fe",
   "metadata": {},
   "source": [
    "# 56. Tuple Operations: Given two tuples of integers, write a Python program to perform element-wise addition, subtraction, and multiplication and create new tuples for each operation."
   ]
  },
  {
   "cell_type": "code",
   "execution_count": 20,
   "id": "4dbcede3",
   "metadata": {},
   "outputs": [
    {
     "name": "stdout",
     "output_type": "stream",
     "text": [
      "(6, 6, 6, 6, 6)\n",
      "(-4, -2, 0, 2, 4)\n",
      "(5, 8, 9, 8, 5)\n"
     ]
    }
   ],
   "source": [
    "A = (1, 2, 3, 4, 5)\n",
    "B = (5, 4, 3, 2, 1)\n",
    "\n",
    "addition = []\n",
    "subtraction = []\n",
    "multiplication = []\n",
    "\n",
    "for i in range(len(A)):\n",
    "    addition.append(A[i] + B[i])\n",
    "    subtraction.append(A[i] - B[i])\n",
    "    multiplication.append(A[i] * B[i])\n",
    "\n",
    "print(tuple(addition))\n",
    "print(tuple(subtraction))\n",
    "print(tuple(multiplication))"
   ]
  },
  {
   "cell_type": "markdown",
   "id": "d18f991c",
   "metadata": {},
   "source": [
    "# 57. Tuple Membership Test: Write a Python program that takes an element as input and checks if it exists in a given tuple."
   ]
  },
  {
   "cell_type": "code",
   "execution_count": 22,
   "id": "2d4e97bd",
   "metadata": {},
   "outputs": [
    {
     "name": "stdout",
     "output_type": "stream",
     "text": [
      "give a number: 47\n",
      "Number in not exists\n"
     ]
    }
   ],
   "source": [
    "A = (1, 2, 3, 4, 5)\n",
    "b = int(input(\"give a number: \"))\n",
    "if b in A:\n",
    "    print(\"Number is exists\")\n",
    "else:\n",
    "    print(\"Number in not exists\")"
   ]
  },
  {
   "cell_type": "markdown",
   "id": "61cef7bd",
   "metadata": {},
   "source": [
    "# 58. Tuple Packing: Write a Python program to pack three variables into a single tuple and print the tuple"
   ]
  },
  {
   "cell_type": "code",
   "execution_count": 25,
   "id": "d41d391e",
   "metadata": {},
   "outputs": [
    {
     "name": "stdout",
     "output_type": "stream",
     "text": [
      "(10, 'Hello', 2.1)\n"
     ]
    }
   ],
   "source": [
    "A = 10\n",
    "B = \"Hello\"\n",
    "C = 2.1\n",
    "\n",
    "tup = (A, B, C)\n",
    "print(tup)"
   ]
  },
  {
   "cell_type": "markdown",
   "id": "2fbc385e",
   "metadata": {},
   "source": [
    "# 58. Tuple Packing: Write a Python program to pack three variables into a single tuple and print the tuple."
   ]
  },
  {
   "cell_type": "code",
   "execution_count": 1,
   "id": "3b011055",
   "metadata": {},
   "outputs": [
    {
     "name": "stdout",
     "output_type": "stream",
     "text": [
      "Packed Tuple: (10, 'Hello', 3.14)\n"
     ]
    }
   ],
   "source": [
    "a = 10\n",
    "b = \"Hello\"\n",
    "c = 3.14\n",
    "\n",
    "packed_tuple = (a, b, c)\n",
    "\n",
    "# Print the tuple\n",
    "print(\"Packed Tuple:\", packed_tuple)"
   ]
  },
  {
   "cell_type": "markdown",
   "id": "786952d2",
   "metadata": {},
   "source": [
    "# 59. Nested List Element Access: Given a nested list, write a Python program to access and print specific elements from it."
   ]
  },
  {
   "cell_type": "code",
   "execution_count": 5,
   "id": "908a9454",
   "metadata": {},
   "outputs": [
    {
     "name": "stdout",
     "output_type": "stream",
     "text": [
      "2\n",
      "9\n"
     ]
    }
   ],
   "source": [
    "nested_list = [[1, 2, 3], [4, 5, 6], [7, 8, 9]]\n",
    "print(nested_list[0][1])\n",
    "print(nested_list[2][2])"
   ]
  },
  {
   "cell_type": "markdown",
   "id": "46674deb",
   "metadata": {},
   "source": [
    "# 60. Nested List Flattening: Write a Python program to flatten a nested list and convert it into a single-dimensional list."
   ]
  },
  {
   "cell_type": "code",
   "execution_count": 8,
   "id": "e86ea528",
   "metadata": {},
   "outputs": [
    {
     "name": "stdout",
     "output_type": "stream",
     "text": [
      "[1, 2, 3, 4, 5, 6, 7, 8]\n"
     ]
    }
   ],
   "source": [
    "nested_list = [[1, 2, 3], [4, 5], [6, 7, 8]]\n",
    "flatten_list = []\n",
    "for i in nested_list:\n",
    "    for j in i:\n",
    "        flatten_list.append(j)\n",
    "print(flatten_list)"
   ]
  },
  {
   "cell_type": "markdown",
   "id": "d6bd84ae",
   "metadata": {},
   "source": [
    "# 61. Nested List Sorting: Given a nested list containing lists of integers, write a Python program to sort the sublists based on their lengths"
   ]
  },
  {
   "cell_type": "code",
   "execution_count": 9,
   "id": "d0e8cf1e",
   "metadata": {},
   "outputs": [
    {
     "name": "stdout",
     "output_type": "stream",
     "text": [
      "Sorted Nested List: [[4, 5], [1, 2, 3], [6, 7, 8], [9, 10, 11, 12]]\n"
     ]
    }
   ],
   "source": [
    "nested_list = [[1, 2, 3], [4, 5], [6, 7, 8], [9, 10, 11, 12]]\n",
    "\n",
    "\n",
    "def sort_by_length(sublist):\n",
    "    return len(sublist)\n",
    "\n",
    "\n",
    "sorted_nested_list = sorted(nested_list, key=sort_by_length)\n",
    "print(sorted_nested_list)"
   ]
  },
  {
   "cell_type": "markdown",
   "id": "caac804e",
   "metadata": {},
   "source": [
    "# 62. List of Tuples Conversion: Given a nested list containing tuples of (x, y) coordinates, write a Python program to convert it into a list of x-coordinates and a list of y-coordinates."
   ]
  },
  {
   "cell_type": "code",
   "execution_count": 3,
   "id": "2ceee5f9",
   "metadata": {},
   "outputs": [
    {
     "name": "stdout",
     "output_type": "stream",
     "text": [
      "[7, 7, 7, 7]\n",
      "[8, 8, 8, 8]\n"
     ]
    }
   ],
   "source": [
    "nested_list = [(1, 2), (3, 4), (5, 6), (7, 8)]\n",
    "xcor = []\n",
    "ycor = []\n",
    "for i in nested_list:\n",
    "    x, y = tuple\n",
    "    xcor.append(x)\n",
    "    ycor.append(y)\n",
    "print(xcor)\n",
    "print(ycor)"
   ]
  },
  {
   "cell_type": "markdown",
   "id": "50082d05",
   "metadata": {},
   "source": [
    "# 63. Matrix Transpose: Write a Python program to transpose a given matrix represented as a nested list."
   ]
  },
  {
   "cell_type": "code",
   "execution_count": 4,
   "id": "6581455b",
   "metadata": {},
   "outputs": [
    {
     "name": "stdout",
     "output_type": "stream",
     "text": [
      "[12, 4, 3]\n",
      "[7, 5, 8]\n"
     ]
    }
   ],
   "source": [
    "X = [[12, 7], [4, 5], [3, 8]]\n",
    "\n",
    "result = [[0, 0, 0], [0, 0, 0]]\n",
    "\n",
    "for i in range(len(X)):\n",
    "    for j in range(len(X[0])):\n",
    "        result[j][i] = X[i][j]\n",
    "\n",
    "for r in result:\n",
    "    print(r)"
   ]
  },
  {
   "cell_type": "markdown",
   "id": "eea22a00",
   "metadata": {},
   "source": [
    "# 64. Nested List Concatenation: Given a list of nested lists, write a Python program to concatenate all the sublists into a single flat list."
   ]
  },
  {
   "cell_type": "code",
   "execution_count": 5,
   "id": "f82cb158",
   "metadata": {},
   "outputs": [
    {
     "name": "stdout",
     "output_type": "stream",
     "text": [
      "[1, 2, 3, 4, 5, 6, 7]\n"
     ]
    }
   ],
   "source": [
    "my_list = [[1], [2, 3], [4, 5, 6, 7]]\n",
    "\n",
    "flat_list = []\n",
    "for sublist in my_list:\n",
    "    for num in sublist:\n",
    "        flat_list.append(num)\n",
    "\n",
    "print(flat_list)"
   ]
  },
  {
   "cell_type": "markdown",
   "id": "92a4fe0b",
   "metadata": {},
   "source": [
    "# 65. Count Even Numbers: Write a Python program to count the number of even numbers in a nested list."
   ]
  },
  {
   "cell_type": "code",
   "execution_count": 6,
   "id": "61a83cb8",
   "metadata": {},
   "outputs": [
    {
     "name": "stdout",
     "output_type": "stream",
     "text": [
      "4\n"
     ]
    }
   ],
   "source": [
    "nested_list = [[1, 2, 3], [4, 5, 6], [7, 8, 9]]\n",
    "count = 0\n",
    "for i in nested_list:\n",
    "    for j in i:\n",
    "        if j % 2 == 0:\n",
    "            count += 1\n",
    "print(count)"
   ]
  },
  {
   "cell_type": "markdown",
   "id": "94bb2403",
   "metadata": {},
   "source": [
    "# 66. Maximum Element in Nested List: Write a Python program to find the maximum element in a nested list of integers"
   ]
  },
  {
   "cell_type": "code",
   "execution_count": 13,
   "id": "8b85d62c",
   "metadata": {},
   "outputs": [
    {
     "name": "stdout",
     "output_type": "stream",
     "text": [
      "12\n"
     ]
    }
   ],
   "source": [
    "nested_list = [[1, 2, 3], [4, 12, 6], [7, 8, 9]]\n",
    "\n",
    "mValue = 0\n",
    "for i in nested_list:\n",
    "    for j in i:\n",
    "        if j > mValue:\n",
    "            mValue = j\n",
    "print(mValue)"
   ]
  },
  {
   "cell_type": "markdown",
   "id": "09eca731",
   "metadata": {},
   "source": [
    "# 67. Diagonal Sum of Matrix: Given a square matrix represented as a nested list, write a Python program to calculate the sum of the elements in the main diagonal."
   ]
  },
  {
   "cell_type": "code",
   "execution_count": 18,
   "id": "e818b05e",
   "metadata": {},
   "outputs": [
    {
     "name": "stdout",
     "output_type": "stream",
     "text": [
      "15\n"
     ]
    }
   ],
   "source": [
    "matrix = [[1, 2, 3], [4, 5, 6], [7, 8, 9]]\n",
    "size = len(matrix)\n",
    "diagonal_sum = 0\n",
    "\n",
    "for i in range(len(matrix)):\n",
    "    diagonal_sum += matrix[i][i]\n",
    "\n",
    "print(diagonal_sum)"
   ]
  },
  {
   "cell_type": "markdown",
   "id": "a3edb16a",
   "metadata": {},
   "source": [
    "# 68. Nested List Element Search: Write a Python program to search for a specific element in a nested list and return its position (row and column indices)."
   ]
  },
  {
   "cell_type": "code",
   "execution_count": 23,
   "id": "862081c2",
   "metadata": {},
   "outputs": [
    {
     "name": "stdout",
     "output_type": "stream",
     "text": [
      "Element 7 found at position (2, 0)\n"
     ]
    }
   ],
   "source": [
    "nested_list = [[1, 2, 3], [4, 5, 6], [7, 8, 9]]\n",
    "\n",
    "element_to_find = 7\n",
    "\n",
    "row_index = -1\n",
    "column_index = -1\n",
    "\n",
    "for i in range(len(nested_list)):\n",
    "    for j in range(len(nested_list[i])):\n",
    "        if nested_list[i][j] == element_to_find:\n",
    "            row_index = i\n",
    "            column_index = j\n",
    "            break\n",
    "if row_index != -1 and column_index != -1:\n",
    "    print(\n",
    "        f\"Element {element_to_find} found at position ({row_index}, {column_index})\"\n",
    "    )\n",
    "else:\n",
    "    print(f\"Element {element_to_find} not found in the nested list\")"
   ]
  },
  {
   "cell_type": "markdown",
   "id": "4bbafdac",
   "metadata": {},
   "source": [
    "# 69. Duplicate Removal: Write a Python program that takes a list of elements as input and creates a new set containing only the unique elements from the list."
   ]
  },
  {
   "cell_type": "code",
   "execution_count": 3,
   "id": "f0d8a0d0",
   "metadata": {},
   "outputs": [
    {
     "name": "stdout",
     "output_type": "stream",
     "text": [
      "[1, 2, 3, 4, 5]\n"
     ]
    }
   ],
   "source": [
    "list1 = [1, 2, 2, 3, 4, 4, 5]\n",
    "unique_set = set(input_list)\n",
    "unique_list = list(unique_set)\n",
    "print(unique_list)"
   ]
  },
  {
   "cell_type": "markdown",
   "id": "a1f4d231",
   "metadata": {},
   "source": [
    "# 70. Set Intersection: Given two sets A and B, write a Python program to find their intersection and print the common elements."
   ]
  },
  {
   "cell_type": "code",
   "execution_count": 4,
   "id": "9203a45b",
   "metadata": {},
   "outputs": [
    {
     "name": "stdout",
     "output_type": "stream",
     "text": [
      "{3, 4, 5}\n"
     ]
    }
   ],
   "source": [
    "set_A = {1, 2, 3, 4, 5}\n",
    "set_B = {3, 4, 5, 6, 7}\n",
    "\n",
    "intersection_result = set_A & set_B\n",
    "print(intersection_result)"
   ]
  },
  {
   "cell_type": "markdown",
   "id": "29d737d2",
   "metadata": {},
   "source": [
    "# 71. Set Union: Given two sets A and B, write a Python program to find their union and print all the distinct elements from both sets."
   ]
  },
  {
   "cell_type": "code",
   "execution_count": 5,
   "id": "0d9a6a4e",
   "metadata": {},
   "outputs": [
    {
     "name": "stdout",
     "output_type": "stream",
     "text": [
      "{1, 2, 3, 4, 5, 6, 7}\n"
     ]
    }
   ],
   "source": [
    "set_A = {1, 2, 3, 4, 5}\n",
    "set_B = {3, 4, 5, 6, 7}\n",
    "union_result = set_A | set_B\n",
    "print(union_result)"
   ]
  },
  {
   "cell_type": "markdown",
   "id": "118c5d9d",
   "metadata": {},
   "source": [
    "# 72. Set Difference: Given two sets A and B, write a Python program to find the difference between set A and set B (i.e., elements present in A but not in B) and print the result."
   ]
  },
  {
   "cell_type": "code",
   "execution_count": 6,
   "id": "f321eec8",
   "metadata": {},
   "outputs": [
    {
     "name": "stdout",
     "output_type": "stream",
     "text": [
      "{1, 2}\n"
     ]
    }
   ],
   "source": [
    "set_A = {1, 2, 3, 4, 5}\n",
    "set_B = {3, 4, 5, 6, 7}\n",
    "difference_result = set_A.difference(set_B)\n",
    "print(difference_result)"
   ]
  },
  {
   "cell_type": "markdown",
   "id": "b5b438c6",
   "metadata": {},
   "source": [
    "# 73. Set Symmetric Difference: Given two sets A and B, write a Python program to find the symmetric difference between the two sets (i.e., elements that are present in either set A or set B, but not in both) and print the result."
   ]
  },
  {
   "cell_type": "code",
   "execution_count": 8,
   "id": "05b355ed",
   "metadata": {},
   "outputs": [
    {
     "name": "stdout",
     "output_type": "stream",
     "text": [
      "{1, 2, 6, 7}\n"
     ]
    }
   ],
   "source": [
    "set_A = {1, 2, 3, 4, 5}\n",
    "set_B = {3, 4, 5, 6, 7}\n",
    "\n",
    "symmetric_difference_result = set_A.symmetric_difference(set_B)\n",
    "print(symmetric_difference_result)"
   ]
  },
  {
   "cell_type": "markdown",
   "id": "5ef9bcd3",
   "metadata": {},
   "source": [
    "# 74. Set Operations: Given three sets A, B, and C, write a Python program to find and print the intersection of A and B, the union of B and C, and the difference between C and A."
   ]
  },
  {
   "cell_type": "code",
   "execution_count": 9,
   "id": "1d1417d5",
   "metadata": {},
   "outputs": [
    {
     "name": "stdout",
     "output_type": "stream",
     "text": [
      "Intersection of A and B: {3, 4, 5}\n",
      "Union of B and C: {3, 4, 5, 6, 7, 8, 9}\n",
      "Difference between C and A: {8, 9, 6, 7}\n"
     ]
    }
   ],
   "source": [
    "# Define three sets A, B, and C\n",
    "set_A = {1, 2, 3, 4, 5}\n",
    "set_B = {3, 4, 5, 6, 7}\n",
    "set_C = {5, 6, 7, 8, 9}\n",
    "\n",
    "# Find and print the intersection of A and B\n",
    "intersection_AB = set_A.intersection(set_B)\n",
    "print(\"Intersection of A and B:\", intersection_AB)\n",
    "\n",
    "# Find and print the union of B and C\n",
    "union_BC = set_B.union(set_C)\n",
    "print(\"Union of B and C:\", union_BC)\n",
    "\n",
    "# Find and print the difference between C and A\n",
    "difference_CA = set_C.difference(set_A)\n",
    "print(\"Difference between C and A:\", difference_CA)"
   ]
  },
  {
   "cell_type": "markdown",
   "id": "849608b3",
   "metadata": {},
   "source": [
    "# 75. Set Subset Check: Given two sets A and B, write a Python program to check if set A is a subset of set B and print the result."
   ]
  },
  {
   "cell_type": "code",
   "execution_count": 1,
   "id": "8d1f2365",
   "metadata": {},
   "outputs": [
    {
     "name": "stdout",
     "output_type": "stream",
     "text": [
      "True\n"
     ]
    }
   ],
   "source": [
    "A = {1, 2, 3}\n",
    "B = {1, 2, 3, 4, 5}\n",
    "\n",
    "subset = A.issubset(B)\n",
    "print(subset)"
   ]
  },
  {
   "cell_type": "markdown",
   "id": "3f7dd33c",
   "metadata": {},
   "source": [
    "# 76. Set Superset Check: Given two sets A and B, write a Python program to check if set A is a superset of set B and print the result."
   ]
  },
  {
   "cell_type": "code",
   "execution_count": 2,
   "id": "c9ff4797",
   "metadata": {},
   "outputs": [
    {
     "name": "stdout",
     "output_type": "stream",
     "text": [
      "True\n"
     ]
    }
   ],
   "source": [
    "A = {1, 2, 3, 4, 5}\n",
    "B = {3, 4, 5}\n",
    "\n",
    "superset = A.issuperset(B)\n",
    "print(superset)"
   ]
  },
  {
   "cell_type": "markdown",
   "id": "b9ee77d1",
   "metadata": {},
   "source": [
    "# 77. Set Length Check: Write a Python program that takes a set as input and prints the number of elements in the set."
   ]
  },
  {
   "cell_type": "code",
   "execution_count": 3,
   "id": "43b9e093",
   "metadata": {},
   "outputs": [
    {
     "name": "stdout",
     "output_type": "stream",
     "text": [
      "Number of elements in the set: 7\n"
     ]
    }
   ],
   "source": [
    "my_set = {1, 2, 3, 4, 5, 6, 7}\n",
    "\n",
    "set_length = len(my_set)\n",
    "print(\"Number of elements in the set:\", set_length)"
   ]
  },
  {
   "cell_type": "markdown",
   "id": "bb572367",
   "metadata": {},
   "source": [
    "# 76. Set Membership Test: Write a Python program that takes an element as input and checks if it exists in a given set. Print “Found” if the element is present and “Not Found” otherwise."
   ]
  },
  {
   "cell_type": "code",
   "execution_count": 4,
   "id": "e74c3d98",
   "metadata": {},
   "outputs": [
    {
     "name": "stdout",
     "output_type": "stream",
     "text": [
      "Enter an element to check: 5\n",
      "Found\n"
     ]
    }
   ],
   "source": [
    "my_set = {1, 2, 3, 4, 5}\n",
    "\n",
    "element_to_check = int(input(\"Enter an element to check: \"))\n",
    "\n",
    "if element_to_check in my_set:\n",
    "    print(\"Found\")\n",
    "else:\n",
    "    print(\"Not Found\")"
   ]
  },
  {
   "cell_type": "markdown",
   "id": "97fc5a37",
   "metadata": {},
   "source": [
    "# 77. Dictionary Manipulation: Given a dictionary with student names as keys and their corresponding scores as values, write a Python program to add a new student to the dictionary and update the score of an existing student."
   ]
  },
  {
   "cell_type": "code",
   "execution_count": 2,
   "id": "cdc69081",
   "metadata": {},
   "outputs": [
    {
     "name": "stdout",
     "output_type": "stream",
     "text": [
      "Enter the student's name: joy\n",
      "Enter the student's score: 66\n",
      "Added a new student: joy with a score of 66\n",
      "Updated Student Scores:\n",
      "Alice: 90\n",
      "Bob: 85\n",
      "Charlie: 78\n",
      "David: 92\n",
      "joy: 66\n"
     ]
    }
   ],
   "source": [
    "student_scores = {\"Alice\": 90, \"Bob\": 85, \"Charlie\": 78, \"David\": 92}\n",
    "\n",
    "student_name = input(\"Enter the student's name: \")\n",
    "new_score = int(input(\"Enter the student's score: \"))\n",
    "\n",
    "if student_name in student_scores:\n",
    "    student_scores[student_name] = new_score\n",
    "    print(f\"Updated the score of {student_name} to {new_score}\")\n",
    "else:\n",
    "    student_scores[student_name] = new_score\n",
    "    print(f\"Added a new student: {student_name} with a score of {new_score}\")\n",
    "\n",
    "print(\"Updated Student Scores:\")\n",
    "for name, score in student_scores.items():\n",
    "    print(f\"{name}: {score}\")"
   ]
  },
  {
   "cell_type": "markdown",
   "id": "4d517060",
   "metadata": {},
   "source": [
    "# 78. Dictionary Keys and Values: Write a Python program that takes a dictionary as input and prints all the keys and values in separate lines."
   ]
  },
  {
   "cell_type": "code",
   "execution_count": 5,
   "id": "e2221f5c",
   "metadata": {},
   "outputs": [
    {
     "name": "stdout",
     "output_type": "stream",
     "text": [
      "Keys:\n",
      "Name\n",
      "Age\n",
      "Country\n",
      "Grade\n",
      "\n",
      "Values:\n",
      "Ares\n",
      "25\n",
      "COC\n",
      "A\n"
     ]
    }
   ],
   "source": [
    "my_dict = {\"Name\": \"Ares\", \"Age\": 25, \"Country\": \"COC\", \"Grade\": \"A\"}\n",
    "\n",
    "print(\"Keys:\")\n",
    "for key in my_dict:\n",
    "    print(key)\n",
    "\n",
    "print(\"\\nValues:\")\n",
    "for value in my_dict.values():\n",
    "    print(value)"
   ]
  },
  {
   "cell_type": "markdown",
   "id": "669cd2fe",
   "metadata": {},
   "source": [
    "# 79. Dictionary Length: Write a Python program to calculate and print the number of key-value pairs in a given dictionary."
   ]
  },
  {
   "cell_type": "code",
   "execution_count": 6,
   "id": "641db2fe",
   "metadata": {},
   "outputs": [
    {
     "name": "stdout",
     "output_type": "stream",
     "text": [
      "4\n"
     ]
    }
   ],
   "source": [
    "my_dict = {\"Name\": \"Ares\", \"Age\": 25, \"Country\": \"COC\", \"Grade\": \"A\"}\n",
    "dict_length = len(my_dict)\n",
    "print(dict_length)"
   ]
  },
  {
   "cell_type": "markdown",
   "id": "5694d321",
   "metadata": {},
   "source": [
    "# 80. Dictionary Value Search: Given a dictionary of items and their prices, write a Python program to search for an item based on its price and print the item’s name."
   ]
  },
  {
   "cell_type": "code",
   "execution_count": 9,
   "id": "d2a96aae",
   "metadata": {},
   "outputs": [
    {
     "name": "stdout",
     "output_type": "stream",
     "text": [
      "Enter the price to search for: 5\n",
      "No item found with a price of $5.0.\n"
     ]
    }
   ],
   "source": [
    "items_and_prices = {\n",
    "    \"item1\": 10.99,\n",
    "    \"item2\": 25.50,\n",
    "    \"item3\": 5.75,\n",
    "    \"item4\": 15.99\n",
    "}\n",
    "\n",
    "search_price = float(input(\"Enter the price to search for: \"))\n",
    "\n",
    "found_item = None\n",
    "\n",
    "for item, price in items_and_prices.items():\n",
    "    if price == search_price:\n",
    "        found_item = item\n",
    "        break\n",
    "\n",
    "if found_item is not None:\n",
    "    print(f\"The item with a price of ${search_price} is '{found_item}'.\")\n",
    "else:\n",
    "    print(f\"No item found with a price of ${search_price}.\")"
   ]
  },
  {
   "cell_type": "markdown",
   "id": "20b2c016",
   "metadata": {},
   "source": [
    "# 81. Dictionary Merging: Given two dictionaries, write a Python program to merge them into a single dictionary and print the result."
   ]
  },
  {
   "cell_type": "code",
   "execution_count": 11,
   "id": "63ec9631",
   "metadata": {},
   "outputs": [
    {
     "name": "stdout",
     "output_type": "stream",
     "text": [
      "Merged Dictionary:\n",
      "{'Name': 'Ares', 'Age': 25, 'Country': 'COC', 'Grade': 'A', 'City': 'COC'}\n"
     ]
    }
   ],
   "source": [
    "dict1 = {\"Name\": \"Ares\", \"Age\": 25, \"Country\": \"COC\"}\n",
    "\n",
    "dict2 = {\"Grade\": \"A\", \"City\": \"COC\"}\n",
    "\n",
    "merged_dict = {**dict1, **dict2}\n",
    "\n",
    "print(\"Merged Dictionary:\")\n",
    "print(merged_dict)"
   ]
  },
  {
   "cell_type": "markdown",
   "id": "736785b9",
   "metadata": {},
   "source": [
    "# 82. Dictionary Key Removal: Given a dictionary of items and their quantities, write a Python program to remove a specific item from the dictionary based on user input."
   ]
  },
  {
   "cell_type": "code",
   "execution_count": 15,
   "id": "fc4b2787",
   "metadata": {},
   "outputs": [
    {
     "name": "stdout",
     "output_type": "stream",
     "text": [
      "{'banana': 15, 'orange': 20, 'grape': 5}\n"
     ]
    }
   ],
   "source": [
    "test_dict = {\"apple\": 10, \"banana\": 15, \"orange\": 20, \"grape\": 5}\n",
    "\n",
    "del test_dict['apple']\n",
    "print(test_dict)"
   ]
  },
  {
   "cell_type": "markdown",
   "id": "b0b6946c",
   "metadata": {},
   "source": [
    "# 83. Dictionary Sorting: Given a dictionary with names as keys and corresponding ages as values, write a Python program to sort the dictionary based on age in ascending order."
   ]
  },
  {
   "cell_type": "code",
   "execution_count": 16,
   "id": "7603060a",
   "metadata": {},
   "outputs": [
    {
     "name": "stdout",
     "output_type": "stream",
     "text": [
      "Sorted Dictionary (Ascending Order):\n",
      "Charlie: 22\n",
      "Alice: 25\n",
      "Bob: 30\n",
      "David: 35\n"
     ]
    }
   ],
   "source": [
    "ages = {\"Alice\": 25, \"Bob\": 30, \"Charlie\": 22, \"David\": 35}\n",
    "\n",
    "sorted_ages = dict(sorted(ages.items(), key=lambda item: item[1]))\n",
    "\n",
    "print(\"Sorted Dictionary (Ascending Order):\")\n",
    "for name, age in sorted_ages.items():\n",
    "    print(f\"{name}: {age}\")"
   ]
  },
  {
   "cell_type": "markdown",
   "id": "b705510a",
   "metadata": {},
   "source": [
    "# 84. Dictionary Frequency Count: Write a Python program that takes a string as input and creates a dictionary containing each character as a key and its frequency as the value."
   ]
  },
  {
   "cell_type": "code",
   "execution_count": 18,
   "id": "bd329686",
   "metadata": {},
   "outputs": [
    {
     "name": "stdout",
     "output_type": "stream",
     "text": [
      "Enter a string: mridulmridul\n",
      "Character Frequency Dictionary:\n",
      "m : 2\n",
      "r : 2\n",
      "i : 2\n",
      "d : 2\n",
      "u : 2\n",
      "l : 2\n"
     ]
    }
   ],
   "source": [
    "from collections import Counter\n",
    "\n",
    "input_string = input(\"Enter a string: \")\n",
    "freq_dict = Counter(input_string)\n",
    "\n",
    "print(\"Character Frequency Dictionary:\")\n",
    "for char, freq in freq_dict.items():\n",
    "    print(char, \":\", freq)"
   ]
  },
  {
   "cell_type": "markdown",
   "id": "b3ea0baa",
   "metadata": {},
   "source": [
    "# 85. Dictionary Comprehension: Given a list of integers, write a Python program to create a dictionary where the keys are the elements from the list, and the values are their squares."
   ]
  },
  {
   "cell_type": "code",
   "execution_count": 20,
   "id": "822ddb3c",
   "metadata": {},
   "outputs": [
    {
     "name": "stdout",
     "output_type": "stream",
     "text": [
      "{1: 1, 2: 4, 3: 9, 4: 16, 5: 25}\n"
     ]
    }
   ],
   "source": [
    "integer_list = [1, 2, 3, 4, 5]\n",
    "squared_dict = {x: x**2 for x in integer_list}\n",
    "print(squared_dict)"
   ]
  },
  {
   "cell_type": "markdown",
   "id": "71814bb7",
   "metadata": {},
   "source": [
    "# 86. Dictionary Key Check: Write a Python program that takes a key as input and checks if it exists in a given dictionary. Print “Key Found” if the key is present and “Key Not Found” otherwise."
   ]
  },
  {
   "cell_type": "code",
   "execution_count": 21,
   "id": "161c69c5",
   "metadata": {},
   "outputs": [
    {
     "name": "stdout",
     "output_type": "stream",
     "text": [
      "Enter a key to check: Grade\n",
      "Key Found\n"
     ]
    }
   ],
   "source": [
    "my_dict = {\"Name\": \"Alice\", \"Age\": 25, \"Country\": \"USA\", \"Grade\": \"A\"}\n",
    "\n",
    "key_to_check = input(\"Enter a key to check: \")\n",
    "\n",
    "if key_to_check in my_dict:\n",
    "    print(\"Key Found\")\n",
    "else:\n",
    "    print(\"Key Not Found\")"
   ]
  },
  {
   "cell_type": "markdown",
   "id": "c3f2efdb",
   "metadata": {},
   "source": [
    "# 87. Access Nested Dictionary: Given a nested dictionary containing student details, write a Python program to access and print specific information such as a student’s name, age, and address."
   ]
  },
  {
   "cell_type": "code",
   "execution_count": 22,
   "id": "29167b69",
   "metadata": {},
   "outputs": [
    {
     "name": "stdout",
     "output_type": "stream",
     "text": [
      "Student Name: Alice\n",
      "Student Age: 20\n",
      "Student Address: 123 Main St\n"
     ]
    }
   ],
   "source": [
    "student_details = {\n",
    "    \"student1\": {\n",
    "        \"name\": \"Alice\",\n",
    "        \"age\": 20,\n",
    "        \"address\": \"123 Main St\"\n",
    "    },\n",
    "    \"student2\": {\n",
    "        \"name\": \"Bob\",\n",
    "        \"age\": 22,\n",
    "        \"address\": \"456 Elm St\"\n",
    "    }\n",
    "}\n",
    "\n",
    "student_key = \"student1\"\n",
    "\n",
    "if student_key in student_details:\n",
    "    student = student_details[student_key]\n",
    "    print(f\"Student Name: {student['name']}\")\n",
    "    print(f\"Student Age: {student['age']}\")\n",
    "    print(f\"Student Address: {student['address']}\")\n",
    "else:\n",
    "    print(f\"Student with key '{student_key}' not found.\")"
   ]
  },
  {
   "cell_type": "markdown",
   "id": "a8b44d89",
   "metadata": {},
   "source": [
    "# 88. Nested Dictionary Length: Write a Python program to calculate and print the total number of key-value pairs in a nested dictionary."
   ]
  },
  {
   "cell_type": "code",
   "execution_count": 23,
   "id": "72da4aca",
   "metadata": {},
   "outputs": [
    {
     "name": "stdout",
     "output_type": "stream",
     "text": [
      "Total number of key-value pairs in the nested dictionary: 8\n"
     ]
    }
   ],
   "source": [
    "def count_nested_pairs(dictionary):\n",
    "    count = len(dictionary)\n",
    "    for value in dictionary.values():\n",
    "        if isinstance(value, dict):\n",
    "            count += count_nested_pairs(value)\n",
    "    return count\n",
    "\n",
    "\n",
    "nested_dict = {\n",
    "    \"student1\": {\n",
    "        \"name\": \"John\",\n",
    "        \"age\": 20,\n",
    "        \"address\": \"123 Main St\"\n",
    "    },\n",
    "    \"student2\": {\n",
    "        \"name\": \"Alice\",\n",
    "        \"age\": 22,\n",
    "        \"address\": \"456 Elm St\"\n",
    "    }\n",
    "}\n",
    "\n",
    "total_pairs = count_nested_pairs(nested_dict)\n",
    "print(\"Total number of key-value pairs in the nested dictionary:\", total_pairs)"
   ]
  },
  {
   "cell_type": "markdown",
   "id": "9350e406",
   "metadata": {},
   "source": [
    "# 89. Nested Dictionary Update: Given a nested dictionary of employee details, write a Python program to update an employee’s salary based on their employee ID."
   ]
  },
  {
   "cell_type": "code",
   "execution_count": 24,
   "id": "ac7b2af8",
   "metadata": {},
   "outputs": [
    {
     "name": "stdout",
     "output_type": "stream",
     "text": [
      "Enter the employee's ID: 101\n",
      "Enter the new salary: 70000\n",
      "Updated salary for John (ID: 101) to 70000.0\n"
     ]
    }
   ],
   "source": [
    "def update_salary(details_dict, employee_id, new_salary):\n",
    "    for employee, details in details_dict.items():\n",
    "        if details.get(\"employee_id\") == employee_id:\n",
    "            details[\"salary\"] = new_salary\n",
    "            print(\n",
    "                f\"Updated salary for {details['name']} (ID: {employee_id}) to {new_salary}\"\n",
    "            )\n",
    "            return\n",
    "    print(f\"Employee with ID {employee_id} not found.\")\n",
    "\n",
    "\n",
    "employee_details = {\n",
    "    \"employee1\": {\n",
    "        \"name\": \"John\",\n",
    "        \"employee_id\": 101,\n",
    "        \"salary\": 50000\n",
    "    },\n",
    "    \"employee2\": {\n",
    "        \"name\": \"Alice\",\n",
    "        \"employee_id\": 102,\n",
    "        \"salary\": 60000\n",
    "    }\n",
    "}\n",
    "\n",
    "employee_id = int(input(\"Enter the employee's ID: \"))\n",
    "new_salary = float(input(\"Enter the new salary: \"))\n",
    "\n",
    "update_salary(employee_details, employee_id, new_salary)"
   ]
  },
  {
   "cell_type": "markdown",
   "id": "74dd2042",
   "metadata": {},
   "source": [
    "# 90. Nested Dictionary Sorting: Given a nested dictionary containing product details (product name, price, and quantity), write a Python program to sort the products based on their prices in ascending order."
   ]
  },
  {
   "cell_type": "code",
   "execution_count": 25,
   "id": "f459baab",
   "metadata": {},
   "outputs": [
    {
     "name": "stdout",
     "output_type": "stream",
     "text": [
      "Sorted Products by Price (Ascending Order):\n",
      "Product ID: product3\n",
      "Product Name: Tablet\n",
      "Product Price: $300.00\n",
      "Product Quantity: 15\n",
      "\n",
      "Product ID: product2\n",
      "Product Name: Phone\n",
      "Product Price: $400.00\n",
      "Product Quantity: 20\n",
      "\n",
      "Product ID: product1\n",
      "Product Name: Laptop\n",
      "Product Price: $800.00\n",
      "Product Quantity: 10\n",
      "\n"
     ]
    }
   ],
   "source": [
    "product_details = {\n",
    "    \"product1\": {\n",
    "        \"name\": \"Laptop\",\n",
    "        \"price\": 800,\n",
    "        \"quantity\": 10\n",
    "    },\n",
    "    \"product2\": {\n",
    "        \"name\": \"Phone\",\n",
    "        \"price\": 400,\n",
    "        \"quantity\": 20\n",
    "    },\n",
    "    \"product3\": {\n",
    "        \"name\": \"Tablet\",\n",
    "        \"price\": 300,\n",
    "        \"quantity\": 15\n",
    "    }\n",
    "}\n",
    "\n",
    "sorted_products = dict(\n",
    "    sorted(product_details.items(), key=lambda item: item[1][\"price\"]))\n",
    "\n",
    "# Print the sorted products\n",
    "print(\"Sorted Products by Price (Ascending Order):\")\n",
    "for product_id, details in sorted_products.items():\n",
    "    print(f\"Product ID: {product_id}\")\n",
    "    print(f\"Product Name: {details['name']}\")\n",
    "    print(f\"Product Price: ${details['price']:.2f}\")\n",
    "    print(f\"Product Quantity: {details['quantity']}\")\n",
    "    print()"
   ]
  },
  {
   "cell_type": "markdown",
   "id": "52bdb197",
   "metadata": {},
   "source": [
    "# 91. Nested Dictionary Key Search: Write a Python program that takes a key as input and searches for it in a nested dictionary. If found, print the corresponding value, otherwise, print “Key Not Found.”"
   ]
  },
  {
   "cell_type": "code",
   "execution_count": 4,
   "id": "0fff3faa",
   "metadata": {},
   "outputs": [
    {
     "name": "stdout",
     "output_type": "stream",
     "text": [
      "Enter a key to search for: Math\n",
      "Value for key 'Math': 99\n"
     ]
    }
   ],
   "source": [
    "nested_dict = {\n",
    "    \"Info\": {\n",
    "        \"Name\": \"Jhon\",\n",
    "        \"Age\": \"30\"\n",
    "    },\n",
    "    \"Scores\": {\n",
    "        \"Math\": \"99\",\n",
    "        \"English\": \"85\"\n",
    "    }\n",
    "}\n",
    "\n",
    "search_key = input(\"Enter a key to search for: \")\n",
    "\n",
    "\n",
    "def search_nested_dict(dictionary, key):\n",
    "    for outer_key, inner_dict in dictionary.items():\n",
    "        if key in inner_dict:\n",
    "            return inner_dict[key]\n",
    "    return None\n",
    "\n",
    "\n",
    "result = search_nested_dict(nested_dict, search_key)\n",
    "if result is not None:\n",
    "    print(f\"Value for key '{search_key}': {result}\")\n",
    "else:\n",
    "    print(f\"Key Not Found: '{search_key}'\")"
   ]
  },
  {
   "cell_type": "markdown",
   "id": "94804cc0",
   "metadata": {},
   "source": [
    "# 92. Prime Number Checker: Write a Python program that takes a number as input and determines if it is a prime number or not. Use a `for` loop to check for factors. If a factor is found, `break` out of the loop."
   ]
  },
  {
   "cell_type": "code",
   "execution_count": 2,
   "id": "26cd9d81",
   "metadata": {},
   "outputs": [
    {
     "name": "stdout",
     "output_type": "stream",
     "text": [
      "Enter a number: 2\n",
      "2 is a prime number.\n"
     ]
    }
   ],
   "source": [
    "num = int(input(\"Enter a number: \"))\n",
    "if num < 2:\n",
    "    print(f\"{num} is not a prime number.\")\n",
    "else:\n",
    "    for i in range(2, int(num**0.5) + 1):\n",
    "        if num % i == 0:\n",
    "            print(f\"{num} is not a prime number.\")\n",
    "            break\n",
    "    else:\n",
    "        print(f\"{num} is a prime number.\")"
   ]
  },
  {
   "cell_type": "markdown",
   "id": "10865044",
   "metadata": {},
   "source": [
    "## 93. Even Number Printer: Write a Python program to print all even numbers from 1 to 20. Use a `for` loop and `continue` to skip odd numbers."
   ]
  },
  {
   "cell_type": "code",
   "execution_count": 4,
   "id": "6ee27f26",
   "metadata": {},
   "outputs": [
    {
     "name": "stdout",
     "output_type": "stream",
     "text": [
      "2\n",
      "4\n",
      "6\n",
      "8\n",
      "10\n",
      "12\n",
      "14\n",
      "16\n",
      "18\n",
      "20\n"
     ]
    }
   ],
   "source": [
    "for num in range(1, 21):\n",
    "    if num % 2 != 0:\n",
    "        continue\n",
    "    print(num)"
   ]
  },
  {
   "cell_type": "markdown",
   "id": "397bb962",
   "metadata": {},
   "source": [
    "## 94. Password Validator: Write a Python program that takes a password as input and checks if it meets the following criteria: at least 8 characters long, contains both uppercase and lowercase letters, and has at least one digit. If the password is valid, print “Password accepted.” If not, use `continue` to prompt the user to enter a valid password."
   ]
  },
  {
   "cell_type": "code",
   "execution_count": 5,
   "id": "5faaa23c",
   "metadata": {},
   "outputs": [
    {
     "name": "stdout",
     "output_type": "stream",
     "text": [
      "Enter a password: mridul+305\n",
      "Invalid password. Please enter a password meeting the criteria.\n",
      "Enter a password: Mridul=112\n",
      "Password accepted.\n"
     ]
    }
   ],
   "source": [
    "while True:\n",
    "    # Input a password\n",
    "    password = input(\"Enter a password: \")\n",
    "\n",
    "    # Check password criteria\n",
    "    if len(password) < 8 or not any(\n",
    "            char.islower() for char in password) or not any(\n",
    "                char.isupper()\n",
    "                for char in password) or not any(char.isdigit()\n",
    "                                                 for char in password):\n",
    "        print(\n",
    "            \"Invalid password. Please enter a password meeting the criteria.\")\n",
    "        continue\n",
    "    else:\n",
    "        print(\"Password accepted.\")\n",
    "        break"
   ]
  },
  {
   "cell_type": "markdown",
   "id": "abe111bd",
   "metadata": {},
   "source": [
    "## 95. Divisible by 3 or 5: Write a Python program to print all numbers from 1 to 50 that are divisible by either 3 or 5. Use a `for` loop and `continue` to skip numbers that are not divisible by either 3 or 5."
   ]
  },
  {
   "cell_type": "code",
   "execution_count": 6,
   "id": "924e1f01",
   "metadata": {},
   "outputs": [
    {
     "name": "stdout",
     "output_type": "stream",
     "text": [
      "3\n",
      "5\n",
      "6\n",
      "9\n",
      "10\n",
      "12\n",
      "15\n",
      "18\n",
      "20\n",
      "21\n",
      "24\n",
      "25\n",
      "27\n",
      "30\n",
      "33\n",
      "35\n",
      "36\n",
      "39\n",
      "40\n",
      "42\n",
      "45\n",
      "48\n",
      "50\n"
     ]
    }
   ],
   "source": [
    "for num in range(1, 51):\n",
    "    if num % 3 != 0 and num % 5 != 0:\n",
    "        continue\n",
    "    print(num)"
   ]
  },
  {
   "cell_type": "markdown",
   "id": "37bf71e6",
   "metadata": {},
   "source": [
    "## 96. Positive Number Sum: Write a Python program that takes positive numbers as input until a negative number is entered. Then, calculate and print the sum of all positive numbers entered. Use a `while` loop and `break` to exit the loop when a negative number is encountered"
   ]
  },
  {
   "cell_type": "code",
   "execution_count": 8,
   "id": "a67a0656",
   "metadata": {},
   "outputs": [
    {
     "name": "stdout",
     "output_type": "stream",
     "text": [
      "Enter a number: -1\n",
      "Sum of positive numbers entered: 0\n"
     ]
    }
   ],
   "source": [
    "total_sum = 0\n",
    "\n",
    "while True:\n",
    "    num = int(input(\"Enter a number: \"))\n",
    "    if num < 0:\n",
    "        break\n",
    "    total_sum += num\n",
    "\n",
    "print(\"Sum of positive numbers entered:\", total_sum)"
   ]
  },
  {
   "cell_type": "markdown",
   "id": "10db03c5",
   "metadata": {},
   "source": [
    "##  97. Word Palindrome Checker: Write a Python program that takes a word as input and checks if it is a palindrome (reads the same forwards and backward). Use  `continue` to skip checking the word if its length is less than 3 characters."
   ]
  },
  {
   "cell_type": "code",
   "execution_count": 13,
   "id": "a029aa78",
   "metadata": {},
   "outputs": [
    {
     "name": "stdout",
     "output_type": "stream",
     "text": [
      "Enter a word: man\n",
      "man is not a palindrome.\n"
     ]
    }
   ],
   "source": [
    "word = input(\"Enter a word: \")\n",
    "\n",
    "if len(word) < 3:\n",
    "    print(\"Word length is less than 3 characters.\")\n",
    "    exit()\n",
    "\n",
    "if word == word[::-1]:\n",
    "    print(f\"{word} is a palindrome.\")\n",
    "else:\n",
    "    print(f\"{word} is not a palindrome.\")"
   ]
  },
  {
   "cell_type": "markdown",
   "id": "f1746137",
   "metadata": {},
   "source": [
    "## 98. Odd Number Finder: Write a Python program to find the first odd number from a list of integers. Use a `for` loop and `break` to stop the loop when the first odd number is found."
   ]
  },
  {
   "cell_type": "code",
   "execution_count": 15,
   "id": "8ab9c48a",
   "metadata": {},
   "outputs": [
    {
     "name": "stdout",
     "output_type": "stream",
     "text": [
      "First odd number found: 9\n"
     ]
    }
   ],
   "source": [
    "numbers = [2, 4, 6, 8, 9, 10, 12, 14]\n",
    "\n",
    "for num in numbers:\n",
    "    if num % 2 != 0:\n",
    "        print(\"First odd number found:\", num)\n",
    "        break"
   ]
  },
  {
   "cell_type": "markdown",
   "id": "dfcb4c2d",
   "metadata": {},
   "source": [
    "## 100. Vowel Counter: Write a Python program that takes a string as input and counts the  of vowels (a, e, i, o, u) in it. Use a `for` loop and `continue` to skip counting non-vowel characters.\n"
   ]
  },
  {
   "cell_type": "code",
   "execution_count": 16,
   "id": "18bd06d4",
   "metadata": {},
   "outputs": [
    {
     "name": "stdout",
     "output_type": "stream",
     "text": [
      "Enter a string: aeiou\n",
      "5\n"
     ]
    }
   ],
   "source": [
    "input_string = input(\"Enter a string: \")\n",
    "vowel_count = 0\n",
    "\n",
    "for char in input_string:\n",
    "    if char.lower() not in 'aeiou':\n",
    "        continue\n",
    "    vowel_count += 1\n",
    "\n",
    "print(vowel_count)"
   ]
  },
  {
   "cell_type": "markdown",
   "id": "e2ea884c",
   "metadata": {},
   "source": [
    "## 101. Unique Characters: Write a Python program that takes a string as input and checks if it contains all unique characters (no character repeats). Use a `for` loop and `break` when a character repeats."
   ]
  },
  {
   "cell_type": "code",
   "execution_count": 18,
   "id": "4b338c55",
   "metadata": {},
   "outputs": [
    {
     "name": "stdout",
     "output_type": "stream",
     "text": [
      "Enter a string: mmon\n",
      "The string does not contain all unique characters.\n"
     ]
    }
   ],
   "source": [
    "input_string = input(\"Enter a string: \")\n",
    "is_unique = True\n",
    "\n",
    "for char in input_string:\n",
    "    if input_string.count(char) > 1:\n",
    "        is_unique = False\n",
    "        break\n",
    "\n",
    "if is_unique:\n",
    "    print(\"The string contains all unique characters.\")\n",
    "else:\n",
    "    print(\"The string does not contain all unique characters.\")"
   ]
  },
  {
   "cell_type": "markdown",
   "id": "0d45a6ff",
   "metadata": {},
   "source": [
    "## 102. Factorial Calculator: Write a Python function called `factorial` that takes an integer as input and returns its factorial. Test the function with different values."
   ]
  },
  {
   "cell_type": "code",
   "execution_count": 19,
   "id": "328032d8",
   "metadata": {},
   "outputs": [
    {
     "name": "stdout",
     "output_type": "stream",
     "text": [
      "1\n",
      "120\n",
      "3628800\n"
     ]
    }
   ],
   "source": [
    "def factorial(n):\n",
    "    if n == 0:\n",
    "        return 1\n",
    "    else:\n",
    "        return n * factorial(n - 1)\n",
    "\n",
    "\n",
    "print(factorial(0))\n",
    "print(factorial(5))\n",
    "print(factorial(10))"
   ]
  },
  {
   "cell_type": "markdown",
   "id": "ad590e99",
   "metadata": {},
   "source": [
    "## 103. Palindrome Checker: Write a Python function called `is_palindrome` that takes a string as input and returns `True` if it is a palindrome and `False` otherwise. Test the function with different words."
   ]
  },
  {
   "cell_type": "code",
   "execution_count": 21,
   "id": "6ccff7d0",
   "metadata": {},
   "outputs": [
    {
     "name": "stdout",
     "output_type": "stream",
     "text": [
      "True\n",
      "False\n",
      "True\n",
      "False\n"
     ]
    }
   ],
   "source": [
    "def is_palindrome(word):\n",
    "    return word == word[::-1]\n",
    "\n",
    "\n",
    "print(is_palindrome(\"tenet\"))\n",
    "print(is_palindrome(\"hello\"))\n",
    "print(is_palindrome(\"level\"))\n",
    "print(is_palindrome(\"python\"))"
   ]
  },
  {
   "cell_type": "markdown",
   "id": "ee422bcf",
   "metadata": {},
   "source": [
    "## 104. Even or Odd Checker: Write a Python function called `even_or_odd` that takes an integer as input and returns “Even” if the number is even and “Odd” if the number is odd. Test the function with different numbers."
   ]
  },
  {
   "cell_type": "code",
   "execution_count": 22,
   "id": "b770b735",
   "metadata": {},
   "outputs": [
    {
     "name": "stdout",
     "output_type": "stream",
     "text": [
      "Even\n",
      "Odd\n",
      "Even\n",
      "Odd\n"
     ]
    }
   ],
   "source": [
    "def even_or_odd(number):\n",
    "    if number % 2 == 0:\n",
    "        return \"Even\"\n",
    "    else:\n",
    "        return \"Odd\"\n",
    "\n",
    "\n",
    "print(even_or_odd(4))\n",
    "print(even_or_odd(7))\n",
    "print(even_or_odd(12))\n",
    "print(even_or_odd(21))"
   ]
  },
  {
   "cell_type": "markdown",
   "id": "1f653383",
   "metadata": {},
   "source": [
    "## 105. List Sum Calculator: Write a Python function called `list_sum` that takes a list of integers as input and returns the sum of all elements in the list. Test the function with different lists."
   ]
  },
  {
   "cell_type": "code",
   "execution_count": 23,
   "id": "d81cb19d",
   "metadata": {},
   "outputs": [
    {
     "name": "stdout",
     "output_type": "stream",
     "text": [
      "15\n",
      "50\n",
      "75\n"
     ]
    }
   ],
   "source": [
    "def list_sum(numbers):\n",
    "    total = 0\n",
    "    for num in numbers:\n",
    "        total += num\n",
    "    return total\n",
    "\n",
    "\n",
    "print(list_sum([1, 2, 3, 4, 5]))\n",
    "print(list_sum([-10, 20, 30, -40, 50]))\n",
    "print(list_sum([5, 10, 15, 20, 25]))"
   ]
  },
  {
   "cell_type": "markdown",
   "id": "94f35d48",
   "metadata": {},
   "source": [
    "## 106. Greatest Common Divisor (GCD) Calculator: Write a Python function called `gcd` that takes two integers as input and returns their greatest common divisor. Test the function with different pairs of numbers."
   ]
  },
  {
   "cell_type": "code",
   "execution_count": 24,
   "id": "0c7bba96",
   "metadata": {},
   "outputs": [
    {
     "name": "stdout",
     "output_type": "stream",
     "text": [
      "6\n",
      "24\n",
      "7\n"
     ]
    }
   ],
   "source": [
    "def gcd(a, b):\n",
    "    while b:\n",
    "        a, b = b, a % b\n",
    "    return a\n",
    "\n",
    "\n",
    "print(gcd(48, 18))\n",
    "print(gcd(120, 72))\n",
    "print(gcd(35, 49))"
   ]
  },
  {
   "cell_type": "markdown",
   "id": "baa1fbd1",
   "metadata": {},
   "source": [
    "## 107. Leap Year Checker: Write a Python function called `is_leap_year` that takes a year as input and returns `True` if it is a leap year and `False` otherwise. Test the function with different years."
   ]
  },
  {
   "cell_type": "code",
   "execution_count": 26,
   "id": "b4b48c5d",
   "metadata": {},
   "outputs": [
    {
     "name": "stdout",
     "output_type": "stream",
     "text": [
      "True\n",
      "True\n",
      "False\n",
      "False\n",
      "True\n"
     ]
    }
   ],
   "source": [
    "def is_leap_year(year):\n",
    "    if (year % 4 == 0 and year % 100 != 0) or (year % 400 == 0):\n",
    "        return True\n",
    "    else:\n",
    "        return False\n",
    "\n",
    "\n",
    "print(is_leap_year(2000))\n",
    "print(is_leap_year(2020))\n",
    "print(is_leap_year(1900))\n",
    "print(is_leap_year(2022))\n",
    "print(is_leap_year(2024))"
   ]
  },
  {
   "cell_type": "markdown",
   "id": "c284a1a1",
   "metadata": {},
   "source": [
    "## 108. Math Operations: Write a Python function called `math_operations` that takes three numbers and a string representing an operation ( `add` ,    `subtract` ,  `multiply` , or  `divide` ). The function should return the result of the specified operation on the  three numbers. Implement the math operations as nested functions."
   ]
  },
  {
   "cell_type": "code",
   "execution_count": 29,
   "id": "cc40ee88",
   "metadata": {},
   "outputs": [
    {
     "name": "stdout",
     "output_type": "stream",
     "text": [
      "9\n",
      "3\n",
      "24\n",
      "2.5\n",
      "Invalid operation\n"
     ]
    }
   ],
   "source": [
    "def math_operations(a, b, c, operation):\n",
    "\n",
    "    def add(x, y, z):\n",
    "        return x + y + z\n",
    "\n",
    "    def subtract(x, y, z):\n",
    "        return x - y - z\n",
    "\n",
    "    def multiply(x, y, z):\n",
    "        return x * y * z\n",
    "\n",
    "    def divide(x, y, z):\n",
    "        if y != 0:\n",
    "            return x / y / z\n",
    "        else:\n",
    "            return \"Cannot divide by zero\"\n",
    "\n",
    "    if operation == 'add':\n",
    "        return add(a, b, c)\n",
    "    elif operation == 'subtract':\n",
    "        return subtract(a, b, c)\n",
    "    elif operation == 'multiply':\n",
    "        return multiply(a, b, c)\n",
    "    elif operation == 'divide':\n",
    "        return divide(a, b, c)\n",
    "    else:\n",
    "        return \"Invalid operation\"\n",
    "\n",
    "\n",
    "print(math_operations(2, 3, 4, 'add'))\n",
    "print(math_operations(10, 5, 2, 'subtract'))\n",
    "print(math_operations(3, 4, 2, 'multiply'))\n",
    "print(math_operations(20, 4, 2, 'divide'))\n",
    "print(math_operations(5, 3, 2, 'power'))"
   ]
  },
  {
   "cell_type": "markdown",
   "id": "546c1f0d",
   "metadata": {},
   "source": [
    "## 109. Greeting Generator: Write a Python function called `greeting_generator` that takes a name as input and returns a greeting message using nested functions. The greeting message should be customizable (e.g., “Hello, {name}! How are you today?”)."
   ]
  },
  {
   "cell_type": "code",
   "execution_count": 30,
   "id": "76df2ace",
   "metadata": {},
   "outputs": [
    {
     "name": "stdout",
     "output_type": "stream",
     "text": [
      "Hello, Alice! How are you today?\n",
      "Hello, Bob! How are you today?\n"
     ]
    }
   ],
   "source": [
    "def greeting_generator(name):\n",
    "\n",
    "    def get_greeting():\n",
    "        return f\"Hello, {name}! How are you today?\"\n",
    "\n",
    "    return get_greeting()\n",
    "\n",
    "\n",
    "print(greeting_generator(\"Alice\"))\n",
    "print(greeting_generator(\"Bob\"))"
   ]
  },
  {
   "cell_type": "markdown",
   "id": "47af069a",
   "metadata": {},
   "source": [
    "## 110. Temperature Converter: Write a Python function called `temperature_converter` that takes a temperature value and a string representing the scale (‘C’ for Celsius or ‘F’ for Fahrenheit) as input. The function should convert the temperature from one scale to the other using nested functions and return the converted value."
   ]
  },
  {
   "cell_type": "code",
   "execution_count": 31,
   "id": "c06c60a4",
   "metadata": {},
   "outputs": [
    {
     "name": "stdout",
     "output_type": "stream",
     "text": [
      "0.0\n",
      "37.77777777777778\n",
      "154.4\n",
      "413.6\n"
     ]
    }
   ],
   "source": [
    "def temperature_converter(value, scale):\n",
    "\n",
    "    def celsius_to_fahrenheit(celsius):\n",
    "        return (celsius * 9 / 5) + 32\n",
    "\n",
    "    def fahrenheit_to_celsius(fahrenheit):\n",
    "        return (fahrenheit - 32) * 5 / 9\n",
    "\n",
    "    if scale == 'C':\n",
    "        return fahrenheit_to_celsius(value)\n",
    "    elif scale == 'F':\n",
    "        return celsius_to_fahrenheit(value)\n",
    "    else:\n",
    "        return \"Invalid scale\"\n",
    "\n",
    "\n",
    "print(temperature_converter(32, 'C'))\n",
    "print(temperature_converter(100, 'C'))\n",
    "print(temperature_converter(68, 'F'))\n",
    "print(temperature_converter(212, 'F'))"
   ]
  },
  {
   "cell_type": "markdown",
   "id": "3801338c",
   "metadata": {},
   "source": [
    "# 111. Factorial Calculation: Write a recursive Python function called `factorial` that takes a non-negative integer as input and returns its factorial."
   ]
  },
  {
   "cell_type": "code",
   "execution_count": 32,
   "id": "aaa233a1",
   "metadata": {},
   "outputs": [
    {
     "name": "stdout",
     "output_type": "stream",
     "text": [
      "1\n",
      "120\n",
      "3628800\n"
     ]
    }
   ],
   "source": [
    "def factorial(n):\n",
    "    if n == 0 or n == 1:\n",
    "        return 1\n",
    "    else:\n",
    "        return n * factorial(n - 1)\n",
    "\n",
    "\n",
    "print(factorial(0))\n",
    "print(factorial(5))\n",
    "print(factorial(10))"
   ]
  },
  {
   "cell_type": "markdown",
   "id": "ca820f2c",
   "metadata": {},
   "source": [
    "# 112. Fibonacci Series: Write a recursive Python function called `Fibonacci` that takes an integer N as input and returns the Nth number in the Fibonacci series. The Fibonacci series is defined as follows: F(0) = 0, F(1) = 1, and F(n) = F(n-1) + F(n-2) for n > 1."
   ]
  },
  {
   "cell_type": "code",
   "execution_count": 33,
   "id": "2a8785bd",
   "metadata": {},
   "outputs": [
    {
     "name": "stdout",
     "output_type": "stream",
     "text": [
      "0\n",
      "1\n",
      "5\n",
      "55\n"
     ]
    }
   ],
   "source": [
    "def Fibonacci(n):\n",
    "    if n == 0:\n",
    "        return 0\n",
    "    elif n == 1:\n",
    "        return 1\n",
    "    else:\n",
    "        return Fibonacci(n - 1) + Fibonacci(n - 2)\n",
    "\n",
    "\n",
    "print(Fibonacci(0))\n",
    "print(Fibonacci(1))\n",
    "print(Fibonacci(5))\n",
    "print(Fibonacci(10))"
   ]
  },
  {
   "cell_type": "markdown",
   "id": "ae8f8921",
   "metadata": {},
   "source": [
    "# 113. The sum of Digits: Write a recursive Python function called `sum_of_digits` that takes an integer as input and returns the sum of its digits."
   ]
  },
  {
   "cell_type": "code",
   "execution_count": 34,
   "id": "dab67e95",
   "metadata": {},
   "outputs": [
    {
     "name": "stdout",
     "output_type": "stream",
     "text": [
      "15\n",
      "24\n",
      "25\n"
     ]
    }
   ],
   "source": [
    "def sum_of_digits(n):\n",
    "    if n == 0:\n",
    "        return 0\n",
    "    else:\n",
    "        return n % 10 + sum_of_digits(n // 10)\n",
    "\n",
    "\n",
    "print(sum_of_digits(12345))\n",
    "print(sum_of_digits(987))\n",
    "print(sum_of_digits(13579))"
   ]
  },
  {
   "cell_type": "markdown",
   "id": "9f424dba",
   "metadata": {},
   "source": [
    "# 114. Binary Search: Write a recursive Python function called `binary_search` that takes a sorted list and a target value as input and returns the index of the target value in the list using binary search. If the target value is not in the list, return -1."
   ]
  },
  {
   "cell_type": "code",
   "execution_count": 35,
   "id": "0ecde9cd",
   "metadata": {},
   "outputs": [
    {
     "name": "stdout",
     "output_type": "stream",
     "text": [
      "Index of 7: 6\n",
      "Index of 11: -1\n"
     ]
    }
   ],
   "source": [
    "def binary_search(sorted_list, target, low=0, high=None):\n",
    "    if high is None:\n",
    "        high = len(sorted_list) - 1\n",
    "\n",
    "    if low <= high:\n",
    "        mid = (low + high) // 2\n",
    "\n",
    "        if sorted_list[mid] == target:\n",
    "            return mid\n",
    "        elif sorted_list[mid] < target:\n",
    "            return binary_search(sorted_list, target, mid + 1, high)\n",
    "        else:\n",
    "            return binary_search(sorted_list, target, low, mid - 1)\n",
    "    else:\n",
    "        return -1\n",
    "\n",
    "\n",
    "sorted_list = [1, 2, 3, 4, 5, 6, 7, 8, 9, 10]\n",
    "target1 = 7\n",
    "target2 = 11\n",
    "\n",
    "index1 = binary_search(sorted_list, target1)\n",
    "index2 = binary_search(sorted_list, target2)\n",
    "\n",
    "print(f\"Index of {target1}: {index1}\")\n",
    "print(f\"Index of {target2}: {index2}\")"
   ]
  },
  {
   "cell_type": "markdown",
   "id": "112d951d",
   "metadata": {},
   "source": [
    "# 115. Power Calculation: Write a recursive Python function called `power` that takes two positive integers, base and exponent, as input and returns the value of base raised to the exponent."
   ]
  },
  {
   "cell_type": "code",
   "execution_count": 36,
   "id": "98e6ab3e",
   "metadata": {},
   "outputs": [
    {
     "name": "stdout",
     "output_type": "stream",
     "text": [
      "8\n",
      "81\n",
      "25\n"
     ]
    }
   ],
   "source": [
    "def power(base, exponent):\n",
    "    if exponent == 0:\n",
    "        return 1\n",
    "    else:\n",
    "        return base * power(base, exponent - 1)\n",
    "\n",
    "\n",
    "print(power(2, 3))\n",
    "print(power(3, 4))\n",
    "print(power(5, 2))"
   ]
  },
  {
   "cell_type": "code",
   "execution_count": null,
   "id": "d5e49cd9",
   "metadata": {},
   "outputs": [],
   "source": []
  },
  {
   "cell_type": "code",
   "execution_count": null,
   "id": "76b277c3",
   "metadata": {},
   "outputs": [],
   "source": []
  },
  {
   "cell_type": "code",
   "execution_count": null,
   "id": "cfeeaead",
   "metadata": {},
   "outputs": [],
   "source": []
  },
  {
   "cell_type": "code",
   "execution_count": 1,
   "id": "8ae70fc1",
   "metadata": {},
   "outputs": [
    {
     "data": {
      "text/plain": [
       "\"\\nfrom turtle import *\\nspeed(50*100)\\nbgcolor('yellow')\\ncolor('red')\\ni = 5\\nwhile i<200:\\n    circle(i)\\n    print(i* '==')\\n    i=i+1\\n    left(5)\\n    backward(10)\\n\""
      ]
     },
     "execution_count": 1,
     "metadata": {},
     "output_type": "execute_result"
    }
   ],
   "source": [
    "\"\"\"\n",
    "from turtle import *\n",
    "speed(50*100)\n",
    "bgcolor('yellow')\n",
    "color('red')\n",
    "i = 5\n",
    "while i<200:\n",
    "    circle(i)\n",
    "    print(i* '==')\n",
    "    i=i+1\n",
    "    left(5)\n",
    "    backward(10)\n",
    "\"\"\""
   ]
  },
  {
   "cell_type": "code",
   "execution_count": null,
   "id": "fc17b256",
   "metadata": {},
   "outputs": [],
   "source": []
  }
 ],
 "metadata": {
  "kernelspec": {
   "display_name": "Python 3 (ipykernel)",
   "language": "python",
   "name": "python3"
  },
  "language_info": {
   "codemirror_mode": {
    "name": "ipython",
    "version": 3
   },
   "file_extension": ".py",
   "mimetype": "text/x-python",
   "name": "python",
   "nbconvert_exporter": "python",
   "pygments_lexer": "ipython3",
   "version": "3.8.10"
  }
 },
 "nbformat": 4,
 "nbformat_minor": 5
}
