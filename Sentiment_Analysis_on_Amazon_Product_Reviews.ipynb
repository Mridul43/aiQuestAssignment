{
  "cells": [
    {
      "cell_type": "markdown",
      "metadata": {
        "id": "xczaHV-kaHIq"
      },
      "source": [
        "# Project Title: Sentiment Analysis on Amazon Product Reviews"
      ]
    },
    {
      "cell_type": "code",
      "execution_count": 55,
      "metadata": {
        "colab": {
          "base_uri": "https://localhost:8080/"
        },
        "id": "zzKRUv8Rg_MP",
        "outputId": "43668a81-a1cb-4cbe-e475-f87fc4c80e33"
      },
      "outputs": [
        {
          "output_type": "stream",
          "name": "stderr",
          "text": [
            "[nltk_data] Downloading package stopwords to /root/nltk_data...\n",
            "[nltk_data]   Package stopwords is already up-to-date!\n",
            "[nltk_data] Downloading package punkt to /root/nltk_data...\n",
            "[nltk_data]   Package punkt is already up-to-date!\n"
          ]
        }
      ],
      "source": [
        "import pandas as pd\n",
        "import numpy as np\n",
        "import matplotlib.pyplot as plt\n",
        "import seaborn as sns\n",
        "\n",
        "from sklearn.model_selection import train_test_split\n",
        "from sklearn.metrics import confusion_matrix, accuracy_score, precision_score\n",
        "from sklearn.metrics import recall_score, f1_score, confusion_matrix\n",
        "from sklearn.linear_model import LogisticRegression\n",
        "from sklearn.naive_bayes import BernoulliNB, MultinomialNB\n",
        "from sklearn.svm import SVC\n",
        "from sklearn.ensemble import RandomForestClassifier\n",
        "from sklearn.ensemble import GradientBoostingClassifier\n",
        "\n",
        "import nltk\n",
        "from nltk.tokenize import word_tokenize\n",
        "from sklearn.feature_extraction.text import TfidfVectorizer\n",
        "from sklearn.feature_extraction.text import CountVectorizer\n",
        "from nltk.corpus import stopwords\n",
        "from nltk.stem import PorterStemmer\n",
        "from wordcloud import WordCloud, STOPWORDS\n",
        "import string\n",
        "\n",
        "nltk.download('stopwords')\n",
        "nltk.download('punkt')\n",
        "\n",
        "import warnings\n",
        "warnings.filterwarnings(\"ignore\")"
      ]
    },
    {
      "cell_type": "code",
      "execution_count": 56,
      "metadata": {
        "id": "bFmEBK0KkquD"
      },
      "outputs": [],
      "source": [
        "df = pd.read_csv(\"amazon.csv\")"
      ]
    },
    {
      "cell_type": "code",
      "execution_count": 57,
      "metadata": {
        "colab": {
          "base_uri": "https://localhost:8080/",
          "height": 363
        },
        "id": "fbxKlllVmszN",
        "outputId": "5f4d193e-0475-4282-ca4e-b7134ebd1e38"
      },
      "outputs": [
        {
          "output_type": "execute_result",
          "data": {
            "text/plain": [
              "                                              reviewText  Positive\n",
              "4598   This app will not run on an Android.  I was go...         0\n",
              "19557  This reader is SO much better than Google's - ...         1\n",
              "10375  This has been very helpful to me.  There are s...         1\n",
              "2882   I got this app on my kindle fire and it works ...         1\n",
              "13488  ive never played diner dash...but ive seen pic...         1\n",
              "11557  This is so great! I love the way you can easil...         1\n",
              "14210  As this is a application organizer what busine...         0\n",
              "11766  First off I want to clarify my device so other...         1\n",
              "18318  THIS WAS THE BIGGEST TIME WASTER EVER IT SUCKE...         0\n",
              "1532   The Twitter app is good if you like to spend t...         1"
            ],
            "text/html": [
              "\n",
              "  <div id=\"df-f951f3bf-76a1-4bc9-a0cb-94bf6c9756d8\" class=\"colab-df-container\">\n",
              "    <div>\n",
              "<style scoped>\n",
              "    .dataframe tbody tr th:only-of-type {\n",
              "        vertical-align: middle;\n",
              "    }\n",
              "\n",
              "    .dataframe tbody tr th {\n",
              "        vertical-align: top;\n",
              "    }\n",
              "\n",
              "    .dataframe thead th {\n",
              "        text-align: right;\n",
              "    }\n",
              "</style>\n",
              "<table border=\"1\" class=\"dataframe\">\n",
              "  <thead>\n",
              "    <tr style=\"text-align: right;\">\n",
              "      <th></th>\n",
              "      <th>reviewText</th>\n",
              "      <th>Positive</th>\n",
              "    </tr>\n",
              "  </thead>\n",
              "  <tbody>\n",
              "    <tr>\n",
              "      <th>4598</th>\n",
              "      <td>This app will not run on an Android.  I was go...</td>\n",
              "      <td>0</td>\n",
              "    </tr>\n",
              "    <tr>\n",
              "      <th>19557</th>\n",
              "      <td>This reader is SO much better than Google's - ...</td>\n",
              "      <td>1</td>\n",
              "    </tr>\n",
              "    <tr>\n",
              "      <th>10375</th>\n",
              "      <td>This has been very helpful to me.  There are s...</td>\n",
              "      <td>1</td>\n",
              "    </tr>\n",
              "    <tr>\n",
              "      <th>2882</th>\n",
              "      <td>I got this app on my kindle fire and it works ...</td>\n",
              "      <td>1</td>\n",
              "    </tr>\n",
              "    <tr>\n",
              "      <th>13488</th>\n",
              "      <td>ive never played diner dash...but ive seen pic...</td>\n",
              "      <td>1</td>\n",
              "    </tr>\n",
              "    <tr>\n",
              "      <th>11557</th>\n",
              "      <td>This is so great! I love the way you can easil...</td>\n",
              "      <td>1</td>\n",
              "    </tr>\n",
              "    <tr>\n",
              "      <th>14210</th>\n",
              "      <td>As this is a application organizer what busine...</td>\n",
              "      <td>0</td>\n",
              "    </tr>\n",
              "    <tr>\n",
              "      <th>11766</th>\n",
              "      <td>First off I want to clarify my device so other...</td>\n",
              "      <td>1</td>\n",
              "    </tr>\n",
              "    <tr>\n",
              "      <th>18318</th>\n",
              "      <td>THIS WAS THE BIGGEST TIME WASTER EVER IT SUCKE...</td>\n",
              "      <td>0</td>\n",
              "    </tr>\n",
              "    <tr>\n",
              "      <th>1532</th>\n",
              "      <td>The Twitter app is good if you like to spend t...</td>\n",
              "      <td>1</td>\n",
              "    </tr>\n",
              "  </tbody>\n",
              "</table>\n",
              "</div>\n",
              "    <div class=\"colab-df-buttons\">\n",
              "\n",
              "  <div class=\"colab-df-container\">\n",
              "    <button class=\"colab-df-convert\" onclick=\"convertToInteractive('df-f951f3bf-76a1-4bc9-a0cb-94bf6c9756d8')\"\n",
              "            title=\"Convert this dataframe to an interactive table.\"\n",
              "            style=\"display:none;\">\n",
              "\n",
              "  <svg xmlns=\"http://www.w3.org/2000/svg\" height=\"24px\" viewBox=\"0 -960 960 960\">\n",
              "    <path d=\"M120-120v-720h720v720H120Zm60-500h600v-160H180v160Zm220 220h160v-160H400v160Zm0 220h160v-160H400v160ZM180-400h160v-160H180v160Zm440 0h160v-160H620v160ZM180-180h160v-160H180v160Zm440 0h160v-160H620v160Z\"/>\n",
              "  </svg>\n",
              "    </button>\n",
              "\n",
              "  <style>\n",
              "    .colab-df-container {\n",
              "      display:flex;\n",
              "      gap: 12px;\n",
              "    }\n",
              "\n",
              "    .colab-df-convert {\n",
              "      background-color: #E8F0FE;\n",
              "      border: none;\n",
              "      border-radius: 50%;\n",
              "      cursor: pointer;\n",
              "      display: none;\n",
              "      fill: #1967D2;\n",
              "      height: 32px;\n",
              "      padding: 0 0 0 0;\n",
              "      width: 32px;\n",
              "    }\n",
              "\n",
              "    .colab-df-convert:hover {\n",
              "      background-color: #E2EBFA;\n",
              "      box-shadow: 0px 1px 2px rgba(60, 64, 67, 0.3), 0px 1px 3px 1px rgba(60, 64, 67, 0.15);\n",
              "      fill: #174EA6;\n",
              "    }\n",
              "\n",
              "    .colab-df-buttons div {\n",
              "      margin-bottom: 4px;\n",
              "    }\n",
              "\n",
              "    [theme=dark] .colab-df-convert {\n",
              "      background-color: #3B4455;\n",
              "      fill: #D2E3FC;\n",
              "    }\n",
              "\n",
              "    [theme=dark] .colab-df-convert:hover {\n",
              "      background-color: #434B5C;\n",
              "      box-shadow: 0px 1px 3px 1px rgba(0, 0, 0, 0.15);\n",
              "      filter: drop-shadow(0px 1px 2px rgba(0, 0, 0, 0.3));\n",
              "      fill: #FFFFFF;\n",
              "    }\n",
              "  </style>\n",
              "\n",
              "    <script>\n",
              "      const buttonEl =\n",
              "        document.querySelector('#df-f951f3bf-76a1-4bc9-a0cb-94bf6c9756d8 button.colab-df-convert');\n",
              "      buttonEl.style.display =\n",
              "        google.colab.kernel.accessAllowed ? 'block' : 'none';\n",
              "\n",
              "      async function convertToInteractive(key) {\n",
              "        const element = document.querySelector('#df-f951f3bf-76a1-4bc9-a0cb-94bf6c9756d8');\n",
              "        const dataTable =\n",
              "          await google.colab.kernel.invokeFunction('convertToInteractive',\n",
              "                                                    [key], {});\n",
              "        if (!dataTable) return;\n",
              "\n",
              "        const docLinkHtml = 'Like what you see? Visit the ' +\n",
              "          '<a target=\"_blank\" href=https://colab.research.google.com/notebooks/data_table.ipynb>data table notebook</a>'\n",
              "          + ' to learn more about interactive tables.';\n",
              "        element.innerHTML = '';\n",
              "        dataTable['output_type'] = 'display_data';\n",
              "        await google.colab.output.renderOutput(dataTable, element);\n",
              "        const docLink = document.createElement('div');\n",
              "        docLink.innerHTML = docLinkHtml;\n",
              "        element.appendChild(docLink);\n",
              "      }\n",
              "    </script>\n",
              "  </div>\n",
              "\n",
              "\n",
              "<div id=\"df-ebbea788-19c1-449e-b2a8-a0f822ff42b4\">\n",
              "  <button class=\"colab-df-quickchart\" onclick=\"quickchart('df-ebbea788-19c1-449e-b2a8-a0f822ff42b4')\"\n",
              "            title=\"Suggest charts\"\n",
              "            style=\"display:none;\">\n",
              "\n",
              "<svg xmlns=\"http://www.w3.org/2000/svg\" height=\"24px\"viewBox=\"0 0 24 24\"\n",
              "     width=\"24px\">\n",
              "    <g>\n",
              "        <path d=\"M19 3H5c-1.1 0-2 .9-2 2v14c0 1.1.9 2 2 2h14c1.1 0 2-.9 2-2V5c0-1.1-.9-2-2-2zM9 17H7v-7h2v7zm4 0h-2V7h2v10zm4 0h-2v-4h2v4z\"/>\n",
              "    </g>\n",
              "</svg>\n",
              "  </button>\n",
              "\n",
              "<style>\n",
              "  .colab-df-quickchart {\n",
              "      --bg-color: #E8F0FE;\n",
              "      --fill-color: #1967D2;\n",
              "      --hover-bg-color: #E2EBFA;\n",
              "      --hover-fill-color: #174EA6;\n",
              "      --disabled-fill-color: #AAA;\n",
              "      --disabled-bg-color: #DDD;\n",
              "  }\n",
              "\n",
              "  [theme=dark] .colab-df-quickchart {\n",
              "      --bg-color: #3B4455;\n",
              "      --fill-color: #D2E3FC;\n",
              "      --hover-bg-color: #434B5C;\n",
              "      --hover-fill-color: #FFFFFF;\n",
              "      --disabled-bg-color: #3B4455;\n",
              "      --disabled-fill-color: #666;\n",
              "  }\n",
              "\n",
              "  .colab-df-quickchart {\n",
              "    background-color: var(--bg-color);\n",
              "    border: none;\n",
              "    border-radius: 50%;\n",
              "    cursor: pointer;\n",
              "    display: none;\n",
              "    fill: var(--fill-color);\n",
              "    height: 32px;\n",
              "    padding: 0;\n",
              "    width: 32px;\n",
              "  }\n",
              "\n",
              "  .colab-df-quickchart:hover {\n",
              "    background-color: var(--hover-bg-color);\n",
              "    box-shadow: 0 1px 2px rgba(60, 64, 67, 0.3), 0 1px 3px 1px rgba(60, 64, 67, 0.15);\n",
              "    fill: var(--button-hover-fill-color);\n",
              "  }\n",
              "\n",
              "  .colab-df-quickchart-complete:disabled,\n",
              "  .colab-df-quickchart-complete:disabled:hover {\n",
              "    background-color: var(--disabled-bg-color);\n",
              "    fill: var(--disabled-fill-color);\n",
              "    box-shadow: none;\n",
              "  }\n",
              "\n",
              "  .colab-df-spinner {\n",
              "    border: 2px solid var(--fill-color);\n",
              "    border-color: transparent;\n",
              "    border-bottom-color: var(--fill-color);\n",
              "    animation:\n",
              "      spin 1s steps(1) infinite;\n",
              "  }\n",
              "\n",
              "  @keyframes spin {\n",
              "    0% {\n",
              "      border-color: transparent;\n",
              "      border-bottom-color: var(--fill-color);\n",
              "      border-left-color: var(--fill-color);\n",
              "    }\n",
              "    20% {\n",
              "      border-color: transparent;\n",
              "      border-left-color: var(--fill-color);\n",
              "      border-top-color: var(--fill-color);\n",
              "    }\n",
              "    30% {\n",
              "      border-color: transparent;\n",
              "      border-left-color: var(--fill-color);\n",
              "      border-top-color: var(--fill-color);\n",
              "      border-right-color: var(--fill-color);\n",
              "    }\n",
              "    40% {\n",
              "      border-color: transparent;\n",
              "      border-right-color: var(--fill-color);\n",
              "      border-top-color: var(--fill-color);\n",
              "    }\n",
              "    60% {\n",
              "      border-color: transparent;\n",
              "      border-right-color: var(--fill-color);\n",
              "    }\n",
              "    80% {\n",
              "      border-color: transparent;\n",
              "      border-right-color: var(--fill-color);\n",
              "      border-bottom-color: var(--fill-color);\n",
              "    }\n",
              "    90% {\n",
              "      border-color: transparent;\n",
              "      border-bottom-color: var(--fill-color);\n",
              "    }\n",
              "  }\n",
              "</style>\n",
              "\n",
              "  <script>\n",
              "    async function quickchart(key) {\n",
              "      const quickchartButtonEl =\n",
              "        document.querySelector('#' + key + ' button');\n",
              "      quickchartButtonEl.disabled = true;  // To prevent multiple clicks.\n",
              "      quickchartButtonEl.classList.add('colab-df-spinner');\n",
              "      try {\n",
              "        const charts = await google.colab.kernel.invokeFunction(\n",
              "            'suggestCharts', [key], {});\n",
              "      } catch (error) {\n",
              "        console.error('Error during call to suggestCharts:', error);\n",
              "      }\n",
              "      quickchartButtonEl.classList.remove('colab-df-spinner');\n",
              "      quickchartButtonEl.classList.add('colab-df-quickchart-complete');\n",
              "    }\n",
              "    (() => {\n",
              "      let quickchartButtonEl =\n",
              "        document.querySelector('#df-ebbea788-19c1-449e-b2a8-a0f822ff42b4 button');\n",
              "      quickchartButtonEl.style.display =\n",
              "        google.colab.kernel.accessAllowed ? 'block' : 'none';\n",
              "    })();\n",
              "  </script>\n",
              "</div>\n",
              "\n",
              "    </div>\n",
              "  </div>\n"
            ]
          },
          "metadata": {},
          "execution_count": 57
        }
      ],
      "source": [
        "df.sample(10)"
      ]
    },
    {
      "cell_type": "code",
      "execution_count": 58,
      "metadata": {
        "id": "G9rzB2cioNE4"
      },
      "outputs": [],
      "source": [
        "df = df.rename(columns={'Positive' : 'score'})"
      ]
    },
    {
      "cell_type": "code",
      "execution_count": 59,
      "metadata": {
        "id": "iOarKJKGngNO"
      },
      "outputs": [],
      "source": [
        "df1 = df.copy()\n",
        "df2 = df.copy()\n",
        "df3 = df.copy()\n",
        "df4 = df.copy()"
      ]
    },
    {
      "cell_type": "code",
      "execution_count": 60,
      "metadata": {
        "id": "4Yndz3Jdwhb-"
      },
      "outputs": [],
      "source": [
        "def des_analysis(dataframe):\n",
        "    methods = {\n",
        "        \"shape\": lambda: print(dataframe.shape),\n",
        "        \"columns\": lambda: print(dataframe.columns),\n",
        "        \"info\": lambda: print(dataframe.info()),\n",
        "        \"Descriptive\": lambda: print(dataframe.describe().T),\n",
        "        \"Null_values\": lambda: print(dataframe.isnull().sum()),\n",
        "        \"Unique_Values\": lambda: print(dataframe.nunique()),\n",
        "        \"Data_types\": lambda: print(dataframe.dtypes),\n",
        "        \"Duplicate_Values\": lambda: print(dataframe.duplicated().sum())\n",
        "    }\n",
        "    for method in methods:\n",
        "        print(\n",
        "            f\"---------------------------- {method} ------------------------------------------\\n\"\n",
        "        )\n",
        "        if method in methods:\n",
        "            methods[method]()\n",
        "            print(\"\\n\")"
      ]
    },
    {
      "cell_type": "code",
      "execution_count": 61,
      "metadata": {
        "colab": {
          "base_uri": "https://localhost:8080/"
        },
        "id": "XgNnZLSgnT7M",
        "outputId": "d16d8c83-5a42-433c-976e-e998b2fcc072"
      },
      "outputs": [
        {
          "output_type": "stream",
          "name": "stdout",
          "text": [
            "---------------------------- shape ------------------------------------------\n",
            "\n",
            "(20000, 2)\n",
            "\n",
            "\n",
            "---------------------------- columns ------------------------------------------\n",
            "\n",
            "Index(['reviewText', 'score'], dtype='object')\n",
            "\n",
            "\n",
            "---------------------------- info ------------------------------------------\n",
            "\n",
            "<class 'pandas.core.frame.DataFrame'>\n",
            "RangeIndex: 20000 entries, 0 to 19999\n",
            "Data columns (total 2 columns):\n",
            " #   Column      Non-Null Count  Dtype \n",
            "---  ------      --------------  ----- \n",
            " 0   reviewText  20000 non-null  object\n",
            " 1   score       20000 non-null  int64 \n",
            "dtypes: int64(1), object(1)\n",
            "memory usage: 312.6+ KB\n",
            "None\n",
            "\n",
            "\n",
            "---------------------------- Descriptive ------------------------------------------\n",
            "\n",
            "         count     mean       std  min  25%  50%  75%  max\n",
            "score  20000.0  0.76165  0.426085  0.0  1.0  1.0  1.0  1.0\n",
            "\n",
            "\n",
            "---------------------------- Null_values ------------------------------------------\n",
            "\n",
            "reviewText    0\n",
            "score         0\n",
            "dtype: int64\n",
            "\n",
            "\n",
            "---------------------------- Unique_Values ------------------------------------------\n",
            "\n",
            "reviewText    20000\n",
            "score             2\n",
            "dtype: int64\n",
            "\n",
            "\n",
            "---------------------------- Data_types ------------------------------------------\n",
            "\n",
            "reviewText    object\n",
            "score          int64\n",
            "dtype: object\n",
            "\n",
            "\n",
            "---------------------------- Duplicate_Values ------------------------------------------\n",
            "\n",
            "0\n",
            "\n",
            "\n"
          ]
        }
      ],
      "source": [
        "des_analysis(df)"
      ]
    },
    {
      "cell_type": "code",
      "execution_count": 62,
      "metadata": {
        "colab": {
          "base_uri": "https://localhost:8080/",
          "height": 447
        },
        "id": "HqS1xzK_nUE6",
        "outputId": "ee2a5cb1-dd29-4d6a-febb-ec37a408f7e0"
      },
      "outputs": [
        {
          "output_type": "execute_result",
          "data": {
            "text/plain": [
              "<Axes: >"
            ]
          },
          "metadata": {},
          "execution_count": 62
        },
        {
          "output_type": "display_data",
          "data": {
            "text/plain": [
              "<Figure size 640x480 with 1 Axes>"
            ],
            "image/png": "[encoded data removed]"
          },
          "metadata": {}
        }
      ],
      "source": [
        "df.score.value_counts().plot(kind='barh')"
      ]
    },
    {
      "cell_type": "code",
      "execution_count": 63,
      "metadata": {
        "id": "UE_cXK0DpAfj"
      },
      "outputs": [],
      "source": [
        "st = set(stopwords.words('english'))\n"
      ]
    },
    {
      "cell_type": "code",
      "execution_count": 64,
      "metadata": {
        "id": "FZ3d8EvWwP_w"
      },
      "outputs": [],
      "source": [
        "def preprocess_text(text):\n",
        "    try:\n",
        "        # Check if the input is a string\n",
        "        if isinstance(text, str):\n",
        "            # Remove punctuation\n",
        "            text = text.translate(str.maketrans(\"\", \"\", string.punctuation))\n",
        "\n",
        "            # Tokenize the text\n",
        "            tokens = word_tokenize(text)\n",
        "\n",
        "            # Remove stopwords\n",
        "            stop_words = set(stopwords.words('english'))\n",
        "            tokens = [word for word in tokens if word.lower() not in stop_words]\n",
        "\n",
        "            # Join the tokens back into a string\n",
        "            processed_text = ' '.join(tokens)\n",
        "\n",
        "            return processed_text\n",
        "        else:\n",
        "            return \"\"\n",
        "    except Exception as e:\n",
        "        print(f\"An error occurred: {e}\")\n",
        "        return \"\""
      ]
    },
    {
      "cell_type": "code",
      "execution_count": 65,
      "metadata": {
        "id": "Ulu36iVrsvEQ"
      },
      "outputs": [],
      "source": [
        "df['reviewText'] = df['reviewText'].apply(preprocess_text)"
      ]
    },
    {
      "cell_type": "code",
      "execution_count": 66,
      "metadata": {
        "colab": {
          "base_uri": "https://localhost:8080/"
        },
        "id": "NPqrt4fHuv-0",
        "outputId": "5aff6e2f-241c-4ffd-ab2b-7b75f88f4b4b"
      },
      "outputs": [
        {
          "output_type": "execute_result",
          "data": {
            "text/plain": [
              "0        one best apps acording bunch people agree bomb...\n",
              "1        pretty good version game free LOTS different l...\n",
              "2        really cool game bunch levels find golden eggs...\n",
              "3        silly game frustrating lots fun definitely rec...\n",
              "4        terrific game pad Hrs fun grandkids love Great...\n",
              "                               ...                        \n",
              "19995    app fricken stupidit froze kindle wont allow p...\n",
              "19996    Please add need neighbors Ginger1016 thanks bu...\n",
              "19997    love game awesome wish free stuff houses didnt...\n",
              "19998    love love love app side fashion story fights w...\n",
              "19999    game rip list things MAKE BETTERbull First NEE...\n",
              "Name: reviewText, Length: 20000, dtype: object"
            ]
          },
          "metadata": {},
          "execution_count": 66
        }
      ],
      "source": [
        "df['reviewText']"
      ]
    },
    {
      "cell_type": "code",
      "execution_count": 67,
      "metadata": {
        "colab": {
          "base_uri": "https://localhost:8080/",
          "height": 424
        },
        "id": "3pQMHXOFsvPw",
        "outputId": "3ceb5318-e9c1-4995-edbc-a5edd98e5a01"
      },
      "outputs": [
        {
          "output_type": "display_data",
          "data": {
            "text/plain": [
              "<Figure size 1000x700 with 1 Axes>"
            ],
            "image/png": "[encoded data removed]"
          },
          "metadata": {}
        }
      ],
      "source": [
        "#https://www.datacamp.com/tutorial/wordcloud-python\n",
        "# Start with one review:\n",
        "text = df.reviewText[0]\n",
        "\n",
        "# Create and generate a word cloud image:\n",
        "wordcloud = WordCloud(max_font_size=50, max_words=100, background_color=\"white\").generate(text)\n",
        "\n",
        "# Display the generated image:\n",
        "plt.figure(figsize=(10, 7))\n",
        "plt.imshow(wordcloud, interpolation='bilinear')\n",
        "plt.axis(\"off\")\n",
        "plt.show()"
      ]
    },
    {
      "cell_type": "code",
      "execution_count": 68,
      "metadata": {
        "id": "OrvPSmLAtm53"
      },
      "outputs": [],
      "source": [
        "x = df.drop(['score'], axis=1)\n",
        "y = df['score']\n",
        "\n",
        "x = x.values.ravel()"
      ]
    },
    {
      "cell_type": "code",
      "execution_count": 69,
      "metadata": {
        "id": "JRax18lItm_m"
      },
      "outputs": [],
      "source": [
        "xtrain, xtest, ytrain, ytest = train_test_split(x, y, test_size=0.2, random_state=42)"
      ]
    },
    {
      "cell_type": "code",
      "execution_count": 70,
      "metadata": {
        "colab": {
          "base_uri": "https://localhost:8080/"
        },
        "id": "vr5ob3H_tnIe",
        "outputId": "d0ac0983-f3ba-4283-f33b-af412639e866"
      },
      "outputs": [
        {
          "output_type": "execute_result",
          "data": {
            "text/plain": [
              "((16000,), (16000,), (4000,), (4000,))"
            ]
          },
          "metadata": {},
          "execution_count": 70
        }
      ],
      "source": [
        "xtrain.shape, ytrain.shape, xtest.shape, ytest.shape"
      ]
    },
    {
      "cell_type": "markdown",
      "source": [
        "# CountVactorizer"
      ],
      "metadata": {
        "id": "RW1Eqkx_lLyp"
      }
    },
    {
      "cell_type": "code",
      "execution_count": 71,
      "metadata": {
        "colab": {
          "base_uri": "https://localhost:8080/"
        },
        "id": "PwmyiT89za2k",
        "outputId": "b9a61526-825e-42dc-aa76-c59248341f5b"
      },
      "outputs": [
        {
          "output_type": "execute_result",
          "data": {
            "text/plain": [
              "(<16000x10000 sparse matrix of type '<class 'numpy.int64'>'\n",
              " \twith 239572 stored elements in Compressed Sparse Row format>,\n",
              " <4000x10000 sparse matrix of type '<class 'numpy.int64'>'\n",
              " \twith 58694 stored elements in Compressed Sparse Row format>)"
            ]
          },
          "metadata": {},
          "execution_count": 71
        }
      ],
      "source": [
        "#countvactorizer\n",
        "count_v = CountVectorizer(max_features=10000)\n",
        "#count_v.fit(xtrain)\n",
        "\n",
        "cv_xtrain = count_v.fit_transform(xtrain)\n",
        "cv_xtest = count_v.transform(xtest)\n",
        "\n",
        "cv_xtrain, cv_xtest"
      ]
    },
    {
      "cell_type": "markdown",
      "source": [
        "# TfidfVactorizer"
      ],
      "metadata": {
        "id": "vTPzpGcDlUI-"
      }
    },
    {
      "cell_type": "code",
      "execution_count": 72,
      "metadata": {
        "colab": {
          "base_uri": "https://localhost:8080/"
        },
        "id": "V5rRtnFA4VyI",
        "outputId": "f87bab65-dd67-4546-c620-6c089ef5f80a"
      },
      "outputs": [
        {
          "output_type": "execute_result",
          "data": {
            "text/plain": [
              "(<16000x10000 sparse matrix of type '<class 'numpy.float64'>'\n",
              " \twith 239572 stored elements in Compressed Sparse Row format>,\n",
              " <4000x10000 sparse matrix of type '<class 'numpy.float64'>'\n",
              " \twith 58694 stored elements in Compressed Sparse Row format>)"
            ]
          },
          "metadata": {},
          "execution_count": 72
        }
      ],
      "source": [
        "#TfidfVectorizer\n",
        "tfidf_vactorizer = TfidfVectorizer(max_features=10000)\n",
        "tfidf_vactorizer.fit(xtrain)\n",
        "\n",
        "tfidf_xtrain = tfidf_vactorizer.transform(xtrain)\n",
        "tfidf_xtest = tfidf_vactorizer.transform(xtest)\n",
        "\n",
        "tfidf_xtrain, tfidf_xtest"
      ]
    },
    {
      "cell_type": "code",
      "execution_count": 73,
      "metadata": {
        "id": "MGxdZxgpza5t"
      },
      "outputs": [],
      "source": [
        "#train_and_test\n",
        "def train_And_test(model, xtrain, ytrain, xtest, ytest):\n",
        "  model.fit(xtrain, ytrain)  #[:, None]\n",
        "  y_pred_train = model.predict(xtrain)\n",
        "  y_pred_xtest = model.predict(xtest)\n",
        "  print()\n",
        "  print(model)\n",
        "  print(f\"Train Accuracy Score : {accuracy_score(ytrain, y_pred_train)}\")\n",
        "  print(f\"Test Accuracy Score : {accuracy_score(ytest, y_pred_xtest)}\")\n",
        "  print(f\"Train Precision Score : {precision_score(ytrain, y_pred_train)}\")\n",
        "  print(f\"Test Precision Score : {precision_score(ytest, y_pred_xtest)}\")\n",
        "  print(f\"Train Recall Score : {recall_score(ytrain, y_pred_train)}\")\n",
        "  print(f\"Test Recall Score : {recall_score(ytest, y_pred_xtest)}\")\n",
        "  print(f\"Train F1 Score : {f1_score(ytrain, y_pred_train)}\")\n",
        "  print(f\"Test F1 Score : {f1_score(ytest, y_pred_xtest)}\")\n",
        "  print(f\"Train Confision Matrix : {confusion_matrix(ytrain, y_pred_train)}\")\n",
        "  print(f\"Test Confusion Matrix : {confusion_matrix(ytest, y_pred_xtest)}\")\n",
        "  print('\\n',20*'-')\n"
      ]
    },
    {
      "cell_type": "markdown",
      "metadata": {
        "id": "yoBGxnJBUfk2"
      },
      "source": [
        "# countvactorizer"
      ]
    },
    {
      "cell_type": "code",
      "execution_count": 74,
      "metadata": {
        "colab": {
          "base_uri": "https://localhost:8080/"
        },
        "id": "5Vv87_Rq6L6C",
        "outputId": "16fade3b-24c3-45d3-c2ab-84283e240ab0"
      },
      "outputs": [
        {
          "output_type": "stream",
          "name": "stdout",
          "text": [
            "\n",
            "LogisticRegression()\n",
            "Train Accuracy Score : 0.9684375\n",
            "Test Accuracy Score : 0.892\n",
            "Train Precision Score : 0.9726581459310791\n",
            "Test Precision Score : 0.9185375240538807\n",
            "Train Recall Score : 0.9863013698630136\n",
            "Test Recall Score : 0.9414858645627876\n",
            "Train F1 Score : 0.9794322486050584\n",
            "Test F1 Score : 0.9298701298701298\n",
            "Train Confision Matrix : [[ 3471   338]\n",
            " [  167 12024]]\n",
            "Test Confusion Matrix : [[ 704  254]\n",
            " [ 178 2864]]\n",
            "\n",
            " --------------------\n"
          ]
        }
      ],
      "source": [
        "#logisticregression\n",
        "lr = LogisticRegression()\n",
        "train_And_test(model=lr, xtrain=cv_xtrain, ytrain=ytrain, xtest=cv_xtest, ytest=ytest)"
      ]
    },
    {
      "cell_type": "code",
      "execution_count": 75,
      "metadata": {
        "colab": {
          "base_uri": "https://localhost:8080/"
        },
        "id": "SzdUeJ4ISlrY",
        "outputId": "65cf171e-170c-4361-cb64-f0f899d3f860"
      },
      "outputs": [
        {
          "output_type": "stream",
          "name": "stdout",
          "text": [
            "\n",
            "LogisticRegression(C=0.001, max_iter=500, random_state=1)\n",
            "Train Accuracy Score : 0.7645625\n",
            "Test Accuracy Score : 0.7625\n",
            "Train Precision Score : 0.7639428499812007\n",
            "Test Precision Score : 0.7621553884711779\n",
            "Train Recall Score : 1.0\n",
            "Test Recall Score : 0.9996712689020382\n",
            "Train F1 Score : 0.8661764183452343\n",
            "Test F1 Score : 0.8649032992036405\n",
            "Train Confision Matrix : [[   42  3767]\n",
            " [    0 12191]]\n",
            "Test Confusion Matrix : [[   9  949]\n",
            " [   1 3041]]\n",
            "\n",
            " --------------------\n",
            "\n",
            "LogisticRegression(C=0.01, max_iter=500, random_state=1)\n",
            "Train Accuracy Score : 0.8596875\n",
            "Test Accuracy Score : 0.853\n",
            "Train Precision Score : 0.8552142857142857\n",
            "Test Precision Score : 0.8515759312320917\n",
            "Train Recall Score : 0.9821179558690838\n",
            "Test Recall Score : 0.9769888231426693\n",
            "Train F1 Score : 0.914283532511168\n",
            "Test F1 Score : 0.909981628903858\n",
            "Train Confision Matrix : [[ 1782  2027]\n",
            " [  218 11973]]\n",
            "Test Confusion Matrix : [[ 440  518]\n",
            " [  70 2972]]\n",
            "\n",
            " --------------------\n",
            "\n",
            "LogisticRegression(C=0.1, max_iter=500, random_state=1)\n",
            "Train Accuracy Score : 0.92275\n",
            "Test Accuracy Score : 0.8935\n",
            "Train Precision Score : 0.9278294149808639\n",
            "Test Precision Score : 0.9064636420136731\n",
            "Train Recall Score : 0.9744073496841933\n",
            "Test Recall Score : 0.9589086127547666\n",
            "Train F1 Score : 0.9505481315515724\n",
            "Test F1 Score : 0.9319488817891374\n",
            "Train Confision Matrix : [[ 2885   924]\n",
            " [  312 11879]]\n",
            "Test Confusion Matrix : [[ 657  301]\n",
            " [ 125 2917]]\n",
            "\n",
            " --------------------\n",
            "\n",
            "LogisticRegression(C=10, max_iter=500, random_state=1)\n",
            "Train Accuracy Score : 0.994125\n",
            "Test Accuracy Score : 0.8775\n",
            "Train Precision Score : 0.9941181276039539\n",
            "Test Precision Score : 0.9164490861618799\n",
            "Train Recall Score : 0.9981953900418341\n",
            "Test Recall Score : 0.9230769230769231\n",
            "Train F1 Score : 0.9961525867714472\n",
            "Test F1 Score : 0.9197510645266952\n",
            "Train Confision Matrix : [[ 3737    72]\n",
            " [   22 12169]]\n",
            "Test Confusion Matrix : [[ 702  256]\n",
            " [ 234 2808]]\n",
            "\n",
            " --------------------\n"
          ]
        }
      ],
      "source": [
        "C = [0.001, 0.01, 0.1, 10]\n",
        "\n",
        "for c in C:\n",
        "  lr = LogisticRegression(C=c, max_iter=500, random_state=1)\n",
        "  train_And_test(model=lr, xtrain=cv_xtrain, ytrain=ytrain, xtest=cv_xtest, ytest=ytest)"
      ]
    },
    {
      "cell_type": "code",
      "execution_count": 76,
      "metadata": {
        "colab": {
          "base_uri": "https://localhost:8080/"
        },
        "id": "JTGT-1dPTW-J",
        "outputId": "f649db1d-54bf-42cb-afdb-73ab9f0fae58"
      },
      "outputs": [
        {
          "output_type": "stream",
          "name": "stdout",
          "text": [
            "\n",
            "BernoulliNB()\n",
            "Train Accuracy Score : 0.923625\n",
            "Test Accuracy Score : 0.88925\n",
            "Train Precision Score : 0.9504722792607803\n",
            "Test Precision Score : 0.9201422567086971\n",
            "Train Recall Score : 0.9492248379952424\n",
            "Test Recall Score : 0.9355687047994741\n",
            "Train F1 Score : 0.9498481490601658\n",
            "Test F1 Score : 0.9277913610431948\n",
            "Train Confision Matrix : [[ 3206   603]\n",
            " [  619 11572]]\n",
            "Test Confusion Matrix : [[ 711  247]\n",
            " [ 196 2846]]\n",
            "\n",
            " --------------------\n"
          ]
        }
      ],
      "source": [
        "#BernoulliNB\n",
        "bnb = BernoulliNB()\n",
        "train_And_test(model=bnb, xtrain=cv_xtrain, ytrain=ytrain, xtest=cv_xtest, ytest=ytest)"
      ]
    },
    {
      "cell_type": "code",
      "execution_count": 77,
      "metadata": {
        "colab": {
          "base_uri": "https://localhost:8080/"
        },
        "id": "WMam-iEaVNmT",
        "outputId": "90421b21-927a-4a24-a4b5-812247e14734"
      },
      "outputs": [
        {
          "output_type": "stream",
          "name": "stdout",
          "text": [
            "\n",
            "BernoulliNB(alpha=0.001)\n",
            "Train Accuracy Score : 0.9485625\n",
            "Test Accuracy Score : 0.8685\n",
            "Train Precision Score : 0.9724854530340815\n",
            "Test Precision Score : 0.9006369426751593\n",
            "Train Recall Score : 0.9596423591173817\n",
            "Test Recall Score : 0.9296515450361604\n",
            "Train F1 Score : 0.9660212212542835\n",
            "Test F1 Score : 0.9149142672274345\n",
            "Train Confision Matrix : [[ 3478   331]\n",
            " [  492 11699]]\n",
            "Test Confusion Matrix : [[ 646  312]\n",
            " [ 214 2828]]\n",
            "\n",
            " --------------------\n",
            "\n",
            "BernoulliNB(alpha=0.01)\n",
            "Train Accuracy Score : 0.9453125\n",
            "Test Accuracy Score : 0.87775\n",
            "Train Precision Score : 0.9718932443703086\n",
            "Test Precision Score : 0.9121730707135938\n",
            "Train Recall Score : 0.9558690837503077\n",
            "Test Recall Score : 0.9286653517422748\n",
            "Train F1 Score : 0.9638145651544601\n",
            "Test F1 Score : 0.9203453331161426\n",
            "Train Confision Matrix : [[ 3472   337]\n",
            " [  538 11653]]\n",
            "Test Confusion Matrix : [[ 686  272]\n",
            " [ 217 2825]]\n",
            "\n",
            " --------------------\n",
            "\n",
            "BernoulliNB(alpha=0.1)\n",
            "Train Accuracy Score : 0.93925\n",
            "Test Accuracy Score : 0.89\n",
            "Train Precision Score : 0.9701617634733049\n",
            "Test Precision Score : 0.9296565389696169\n",
            "Train Recall Score : 0.9494709211713559\n",
            "Test Recall Score : 0.9253780407626562\n",
            "Train F1 Score : 0.9597048337617113\n",
            "Test F1 Score : 0.9275123558484348\n",
            "Train Confision Matrix : [[ 3453   356]\n",
            " [  616 11575]]\n",
            "Test Confusion Matrix : [[ 745  213]\n",
            " [ 227 2815]]\n",
            "\n",
            " --------------------\n",
            "\n",
            "BernoulliNB(alpha=10)\n",
            "Train Accuracy Score : 0.7635625\n",
            "Test Accuracy Score : 0.7615\n",
            "Train Precision Score : 0.7631776637035182\n",
            "Test Precision Score : 0.7612612612612613\n",
            "Train Recall Score : 1.0\n",
            "Test Recall Score : 1.0\n",
            "Train F1 Score : 0.8656843600213031\n",
            "Test F1 Score : 0.8644501278772379\n",
            "Train Confision Matrix : [[   26  3783]\n",
            " [    0 12191]]\n",
            "Test Confusion Matrix : [[   4  954]\n",
            " [   0 3042]]\n",
            "\n",
            " --------------------\n"
          ]
        }
      ],
      "source": [
        "alpha = [0.001, 0.01, 0.1, 10]\n",
        "\n",
        "for a in alpha:\n",
        "  bnb = BernoulliNB(alpha=a)\n",
        "  train_And_test(model=bnb, xtrain=cv_xtrain, ytrain=ytrain, xtest=cv_xtest, ytest=ytest)"
      ]
    },
    {
      "cell_type": "code",
      "execution_count": 78,
      "metadata": {
        "colab": {
          "base_uri": "https://localhost:8080/"
        },
        "id": "0-yTAIpWV0wj",
        "outputId": "2a8ad924-b5a3-48a3-e5a6-87b5d329833b"
      },
      "outputs": [
        {
          "output_type": "stream",
          "name": "stdout",
          "text": [
            "\n",
            "MultinomialNB()\n",
            "Train Accuracy Score : 0.9256875\n",
            "Test Accuracy Score : 0.89675\n",
            "Train Precision Score : 0.9568178043514366\n",
            "Test Precision Score : 0.9305601048149361\n",
            "Train Recall Score : 0.9451234517266837\n",
            "Test Recall Score : 0.9339250493096647\n",
            "Train F1 Score : 0.9509346758552386\n",
            "Test F1 Score : 0.9322395406070549\n",
            "Train Confision Matrix : [[ 3289   520]\n",
            " [  669 11522]]\n",
            "Test Confusion Matrix : [[ 746  212]\n",
            " [ 201 2841]]\n",
            "\n",
            " --------------------\n"
          ]
        }
      ],
      "source": [
        "#MultinomialNB\n",
        "mnb = MultinomialNB()\n",
        "train_And_test(model=mnb, xtrain=cv_xtrain, ytrain=ytrain, xtest=cv_xtest, ytest=ytest)"
      ]
    },
    {
      "cell_type": "code",
      "execution_count": 79,
      "metadata": {
        "colab": {
          "base_uri": "https://localhost:8080/"
        },
        "id": "2kntErXXW8Ph",
        "outputId": "81b35b14-f251-443a-b2fb-1722486c90ca"
      },
      "outputs": [
        {
          "output_type": "stream",
          "name": "stdout",
          "text": [
            "\n",
            "MultinomialNB(alpha=0.001)\n",
            "Train Accuracy Score : 0.94775\n",
            "Test Accuracy Score : 0.86925\n",
            "Train Precision Score : 0.9715923249439322\n",
            "Test Precision Score : 0.901498246732547\n",
            "Train Recall Score : 0.9594783036666393\n",
            "Test Recall Score : 0.9296515450361604\n",
            "Train F1 Score : 0.9654973173751548\n",
            "Test F1 Score : 0.9153584722446998\n",
            "Train Confision Matrix : [[ 3467   342]\n",
            " [  494 11697]]\n",
            "Test Confusion Matrix : [[ 649  309]\n",
            " [ 214 2828]]\n",
            "\n",
            " --------------------\n",
            "\n",
            "MultinomialNB(alpha=0.01)\n",
            "Train Accuracy Score : 0.944125\n",
            "Test Accuracy Score : 0.87875\n",
            "Train Precision Score : 0.9709045435598166\n",
            "Test Precision Score : 0.9138879896406604\n",
            "Train Recall Score : 0.9552948896727094\n",
            "Test Recall Score : 0.928007889546351\n",
            "Train F1 Score : 0.963036467377822\n",
            "Test F1 Score : 0.9208938183004404\n",
            "Train Confision Matrix : [[ 3460   349]\n",
            " [  545 11646]]\n",
            "Test Confusion Matrix : [[ 692  266]\n",
            " [ 219 2823]]\n",
            "\n",
            " --------------------\n",
            "\n",
            "MultinomialNB(alpha=0.1)\n",
            "Train Accuracy Score : 0.938\n",
            "Test Accuracy Score : 0.88975\n",
            "Train Precision Score : 0.9692449509762843\n",
            "Test Precision Score : 0.929633300297324\n",
            "Train Recall Score : 0.9487326716430153\n",
            "Test Recall Score : 0.9250493096646942\n",
            "Train F1 Score : 0.9588791245232963\n",
            "Test F1 Score : 0.9273356401384083\n",
            "Train Confision Matrix : [[ 3442   367]\n",
            " [  625 11566]]\n",
            "Test Confusion Matrix : [[ 745  213]\n",
            " [ 228 2814]]\n",
            "\n",
            " --------------------\n",
            "\n",
            "MultinomialNB(alpha=10)\n",
            "Train Accuracy Score : 0.8460625\n",
            "Test Accuracy Score : 0.82725\n",
            "Train Precision Score : 0.8358652119872946\n",
            "Test Precision Score : 0.8188228912394901\n",
            "Train Recall Score : 0.9929456156180789\n",
            "Test Recall Score : 0.9924391847468771\n",
            "Train F1 Score : 0.9076594308851648\n",
            "Test F1 Score : 0.897310150096597\n",
            "Train Confision Matrix : [[ 1432  2377]\n",
            " [   86 12105]]\n",
            "Test Confusion Matrix : [[ 290  668]\n",
            " [  23 3019]]\n",
            "\n",
            " --------------------\n"
          ]
        }
      ],
      "source": [
        "alpha = [0.001, 0.01, 0.1, 10]\n",
        "\n",
        "for a in alpha:\n",
        "  mnb = MultinomialNB(alpha=a)\n",
        "  train_And_test(model=mnb, xtrain=cv_xtrain, ytrain=ytrain, xtest=cv_xtest, ytest=ytest)"
      ]
    },
    {
      "cell_type": "code",
      "execution_count": 80,
      "metadata": {
        "colab": {
          "base_uri": "https://localhost:8080/"
        },
        "id": "5DVM6weZW8Wh",
        "outputId": "3c7eb09e-f10d-4121-adfb-606576e3b882"
      },
      "outputs": [
        {
          "output_type": "stream",
          "name": "stdout",
          "text": [
            "\n",
            "RandomForestClassifier()\n",
            "Train Accuracy Score : 1.0\n",
            "Test Accuracy Score : 0.8785\n",
            "Train Precision Score : 1.0\n",
            "Test Precision Score : 0.8891595615103532\n",
            "Train Recall Score : 1.0\n",
            "Test Recall Score : 0.9598948060486522\n",
            "Train F1 Score : 1.0\n",
            "Test F1 Score : 0.92317420170724\n",
            "Train Confision Matrix : [[ 3809     0]\n",
            " [    0 12191]]\n",
            "Test Confusion Matrix : [[ 594  364]\n",
            " [ 122 2920]]\n",
            "\n",
            " --------------------\n"
          ]
        }
      ],
      "source": [
        "#RandomForestClassifier()\n",
        "rf = RandomForestClassifier()\n",
        "train_And_test(model=rf, xtrain=cv_xtrain, ytrain=ytrain, xtest=cv_xtest, ytest=ytest)"
      ]
    },
    {
      "cell_type": "code",
      "execution_count": 81,
      "metadata": {
        "colab": {
          "base_uri": "https://localhost:8080/"
        },
        "id": "GE9_dzuuXqug",
        "outputId": "0e58275a-7e49-492b-d2d0-166a8c8e18a7"
      },
      "outputs": [
        {
          "output_type": "stream",
          "name": "stdout",
          "text": [
            "\n",
            "GradientBoostingClassifier()\n",
            "Train Accuracy Score : 0.850375\n",
            "Test Accuracy Score : 0.83875\n",
            "Train Precision Score : 0.8424805984758442\n",
            "Test Precision Score : 0.8344962322076472\n",
            "Train Recall Score : 0.9884340907226643\n",
            "Test Recall Score : 0.9829059829059829\n",
            "Train F1 Score : 0.9096399184721069\n",
            "Test F1 Score : 0.9026415094339624\n",
            "Train Confision Matrix : [[ 1556  2253]\n",
            " [  141 12050]]\n",
            "Test Confusion Matrix : [[ 365  593]\n",
            " [  52 2990]]\n",
            "\n",
            " --------------------\n"
          ]
        }
      ],
      "source": [
        "# GradientBoostingClassifier()\n",
        "gdb =  GradientBoostingClassifier()\n",
        "train_And_test(model=gdb, xtrain=cv_xtrain, ytrain=ytrain, xtest=cv_xtest, ytest=ytest)"
      ]
    },
    {
      "cell_type": "code",
      "execution_count": 81,
      "metadata": {
        "id": "sdZnL02GXqxX"
      },
      "outputs": [],
      "source": []
    },
    {
      "cell_type": "markdown",
      "metadata": {
        "id": "QExGj-JSaX9Y"
      },
      "source": [
        "# TfidfVectorizer"
      ]
    },
    {
      "cell_type": "code",
      "execution_count": 82,
      "metadata": {
        "colab": {
          "base_uri": "https://localhost:8080/"
        },
        "id": "wtVcc0U2abJ3",
        "outputId": "e605d0fa-646c-4e58-c94c-ac57700bd7bc"
      },
      "outputs": [
        {
          "output_type": "stream",
          "name": "stdout",
          "text": [
            "\n",
            "LogisticRegression()\n",
            "Train Accuracy Score : 0.9195625\n",
            "Test Accuracy Score : 0.89125\n",
            "Train Precision Score : 0.9186760866226387\n",
            "Test Precision Score : 0.8982584784601283\n",
            "Train Recall Score : 0.981297678615372\n",
            "Test Recall Score : 0.9664694280078896\n",
            "Train F1 Score : 0.948954904216079\n",
            "Test F1 Score : 0.9311163895486936\n",
            "Train Confision Matrix : [[ 2750  1059]\n",
            " [  228 11963]]\n",
            "Test Confusion Matrix : [[ 625  333]\n",
            " [ 102 2940]]\n",
            "\n",
            " --------------------\n"
          ]
        }
      ],
      "source": [
        "#logisticregression\n",
        "lr = LogisticRegression()\n",
        "train_And_test(model=lr, xtrain=tfidf_xtrain, ytrain=ytrain, xtest=tfidf_xtest, ytest=ytest)"
      ]
    },
    {
      "cell_type": "code",
      "execution_count": 83,
      "metadata": {
        "colab": {
          "base_uri": "https://localhost:8080/"
        },
        "id": "XF6JhD_ua2cA",
        "outputId": "82b60998-ae77-4b80-e3dc-2834a309c92a"
      },
      "outputs": [
        {
          "output_type": "stream",
          "name": "stdout",
          "text": [
            "\n",
            "BernoulliNB()\n",
            "Train Accuracy Score : 0.923625\n",
            "Test Accuracy Score : 0.88925\n",
            "Train Precision Score : 0.9504722792607803\n",
            "Test Precision Score : 0.9201422567086971\n",
            "Train Recall Score : 0.9492248379952424\n",
            "Test Recall Score : 0.9355687047994741\n",
            "Train F1 Score : 0.9498481490601658\n",
            "Test F1 Score : 0.9277913610431948\n",
            "Train Confision Matrix : [[ 3206   603]\n",
            " [  619 11572]]\n",
            "Test Confusion Matrix : [[ 711  247]\n",
            " [ 196 2846]]\n",
            "\n",
            " --------------------\n"
          ]
        }
      ],
      "source": [
        "#BernoulliNB\n",
        "bnb = BernoulliNB()\n",
        "train_And_test(model=bnb, xtrain=tfidf_xtrain, ytrain=ytrain, xtest=tfidf_xtest, ytest=ytest)"
      ]
    },
    {
      "cell_type": "code",
      "execution_count": 84,
      "metadata": {
        "colab": {
          "base_uri": "https://localhost:8080/"
        },
        "id": "dnnL3NQMa2jS",
        "outputId": "5b9dae9f-05c9-4c13-8897-7523b490ebfb"
      },
      "outputs": [
        {
          "output_type": "stream",
          "name": "stdout",
          "text": [
            "\n",
            "MultinomialNB()\n",
            "Train Accuracy Score : 0.867\n",
            "Test Accuracy Score : 0.8335\n",
            "Train Precision Score : 0.8538077491034386\n",
            "Test Precision Score : 0.824235807860262\n",
            "Train Recall Score : 0.9959806414568124\n",
            "Test Recall Score : 0.9927679158448389\n",
            "Train F1 Score : 0.9194305618658185\n",
            "Test F1 Score : 0.9006859528780197\n",
            "Train Confision Matrix : [[ 1730  2079]\n",
            " [   49 12142]]\n",
            "Test Confusion Matrix : [[ 314  644]\n",
            " [  22 3020]]\n",
            "\n",
            " --------------------\n"
          ]
        }
      ],
      "source": [
        "#MultinomialNB\n",
        "mnb = MultinomialNB()\n",
        "train_And_test(model=mnb, xtrain=tfidf_xtrain, ytrain=ytrain, xtest=tfidf_xtest, ytest=ytest)"
      ]
    },
    {
      "cell_type": "code",
      "execution_count": 85,
      "metadata": {
        "colab": {
          "base_uri": "https://localhost:8080/"
        },
        "id": "mVqF3L2tbX2i",
        "outputId": "3a3cf741-83d2-4f0f-ec86-9c5ac620524c"
      },
      "outputs": [
        {
          "output_type": "stream",
          "name": "stdout",
          "text": [
            "\n",
            "RandomForestClassifier()\n",
            "Train Accuracy Score : 1.0\n",
            "Test Accuracy Score : 0.874\n",
            "Train Precision Score : 1.0\n",
            "Test Precision Score : 0.8815393866506314\n",
            "Train Recall Score : 1.0\n",
            "Test Recall Score : 0.9638395792241946\n",
            "Train F1 Score : 1.0\n",
            "Test F1 Score : 0.9208542713567839\n",
            "Train Confision Matrix : [[ 3809     0]\n",
            " [    0 12191]]\n",
            "Test Confusion Matrix : [[ 564  394]\n",
            " [ 110 2932]]\n",
            "\n",
            " --------------------\n"
          ]
        }
      ],
      "source": [
        "#RandomForestClassifier()\n",
        "rf = RandomForestClassifier()\n",
        "train_And_test(model=rf, xtrain=tfidf_xtrain, ytrain=ytrain, xtest=tfidf_xtest, ytest=ytest)"
      ]
    },
    {
      "cell_type": "code",
      "execution_count": 86,
      "metadata": {
        "colab": {
          "base_uri": "https://localhost:8080/"
        },
        "id": "hHYzth6AbX29",
        "outputId": "92fd433b-eb8d-4687-cfa9-124206f9e580"
      },
      "outputs": [
        {
          "output_type": "stream",
          "name": "stdout",
          "text": [
            "\n",
            "GradientBoostingClassifier()\n",
            "Train Accuracy Score : 0.8549375\n",
            "Test Accuracy Score : 0.841\n",
            "Train Precision Score : 0.845927379784102\n",
            "Test Precision Score : 0.8373527762198542\n",
            "Train Recall Score : 0.9899105897793454\n",
            "Test Recall Score : 0.9815910585141354\n",
            "Train F1 Score : 0.9122727444532638\n",
            "Test F1 Score : 0.9037530266343826\n",
            "Train Confision Matrix : [[ 1611  2198]\n",
            " [  123 12068]]\n",
            "Test Confusion Matrix : [[ 378  580]\n",
            " [  56 2986]]\n",
            "\n",
            " --------------------\n"
          ]
        }
      ],
      "source": [
        "# GradientBoostingClassifier()\n",
        "gdb =  GradientBoostingClassifier()\n",
        "train_And_test(model=gdb, xtrain=tfidf_xtrain, ytrain=ytrain, xtest=tfidf_xtest, ytest=ytest)"
      ]
    },
    {
      "cell_type": "code",
      "execution_count": 86,
      "metadata": {
        "id": "UPiuHrpruTrR"
      },
      "outputs": [],
      "source": []
    },
    {
      "cell_type": "markdown",
      "metadata": {
        "id": "VQtaQ3QTuWFa"
      },
      "source": [
        "# Hypermeter Tuning LogisticRegression Model"
      ]
    },
    {
      "cell_type": "code",
      "execution_count": 87,
      "metadata": {
        "id": "-MEzFyvXuYhj"
      },
      "outputs": [],
      "source": [
        "from sklearn.model_selection import GridSearchCV"
      ]
    },
    {
      "cell_type": "markdown",
      "source": [
        "### CountVactirizer"
      ],
      "metadata": {
        "id": "ChfhoqlOl2f8"
      }
    },
    {
      "cell_type": "markdown",
      "source": [
        "#### GridSearchCV"
      ],
      "metadata": {
        "id": "OURfV-MUmdHo"
      }
    },
    {
      "cell_type": "code",
      "execution_count": 89,
      "metadata": {
        "id": "cBokcSvGueH3"
      },
      "outputs": [],
      "source": [
        "param_grid = {\n",
        "    'C': [0.001, 0.01, 0.1, 1, 10],\n",
        "    'max_iter': [100, 200, 300, 500]\n",
        "}"
      ]
    },
    {
      "cell_type": "code",
      "execution_count": 90,
      "metadata": {
        "colab": {
          "base_uri": "https://localhost:8080/",
          "height": 135
        },
        "id": "D6tC02kVukfB",
        "outputId": "45537ab5-1cbf-485c-9bcd-ee68eca9cdd5"
      },
      "outputs": [
        {
          "output_type": "stream",
          "name": "stdout",
          "text": [
            "Fitting 5 folds for each of 20 candidates, totalling 100 fits\n"
          ]
        },
        {
          "output_type": "execute_result",
          "data": {
            "text/plain": [
              "GridSearchCV(cv=5, estimator=LogisticRegression(), n_jobs=-1,\n",
              "             param_grid={'C': [0.001, 0.01, 0.1, 1, 10],\n",
              "                         'max_iter': [100, 200, 300, 500]},\n",
              "             scoring='accuracy', verbose=1)"
            ],
            "text/html": [
              "<style>#sk-container-id-5 {color: black;background-color: white;}#sk-container-id-5 pre{padding: 0;}#sk-container-id-5 div.sk-toggleable {background-color: white;}#sk-container-id-5 label.sk-toggleable__label {cursor: pointer;display: block;width: 100%;margin-bottom: 0;padding: 0.3em;box-sizing: border-box;text-align: center;}#sk-container-id-5 label.sk-toggleable__label-arrow:before {content: \"▸\";float: left;margin-right: 0.25em;color: #696969;}#sk-container-id-5 label.sk-toggleable__label-arrow:hover:before {color: black;}#sk-container-id-5 div.sk-estimator:hover label.sk-toggleable__label-arrow:before {color: black;}#sk-container-id-5 div.sk-toggleable__content {max-height: 0;max-width: 0;overflow: hidden;text-align: left;background-color: #f0f8ff;}#sk-container-id-5 div.sk-toggleable__content pre {margin: 0.2em;color: black;border-radius: 0.25em;background-color: #f0f8ff;}#sk-container-id-5 input.sk-toggleable__control:checked~div.sk-toggleable__content {max-height: 200px;max-width: 100%;overflow: auto;}#sk-container-id-5 input.sk-toggleable__control:checked~label.sk-toggleable__label-arrow:before {content: \"▾\";}#sk-container-id-5 div.sk-estimator input.sk-toggleable__control:checked~label.sk-toggleable__label {background-color: #d4ebff;}#sk-container-id-5 div.sk-label input.sk-toggleable__control:checked~label.sk-toggleable__label {background-color: #d4ebff;}#sk-container-id-5 input.sk-hidden--visually {border: 0;clip: rect(1px 1px 1px 1px);clip: rect(1px, 1px, 1px, 1px);height: 1px;margin: -1px;overflow: hidden;padding: 0;position: absolute;width: 1px;}#sk-container-id-5 div.sk-estimator {font-family: monospace;background-color: #f0f8ff;border: 1px dotted black;border-radius: 0.25em;box-sizing: border-box;margin-bottom: 0.5em;}#sk-container-id-5 div.sk-estimator:hover {background-color: #d4ebff;}#sk-container-id-5 div.sk-parallel-item::after {content: \"\";width: 100%;border-bottom: 1px solid gray;flex-grow: 1;}#sk-container-id-5 div.sk-label:hover label.sk-toggleable__label {background-color: #d4ebff;}#sk-container-id-5 div.sk-serial::before {content: \"\";position: absolute;border-left: 1px solid gray;box-sizing: border-box;top: 0;bottom: 0;left: 50%;z-index: 0;}#sk-container-id-5 div.sk-serial {display: flex;flex-direction: column;align-items: center;background-color: white;padding-right: 0.2em;padding-left: 0.2em;position: relative;}#sk-container-id-5 div.sk-item {position: relative;z-index: 1;}#sk-container-id-5 div.sk-parallel {display: flex;align-items: stretch;justify-content: center;background-color: white;position: relative;}#sk-container-id-5 div.sk-item::before, #sk-container-id-5 div.sk-parallel-item::before {content: \"\";position: absolute;border-left: 1px solid gray;box-sizing: border-box;top: 0;bottom: 0;left: 50%;z-index: -1;}#sk-container-id-5 div.sk-parallel-item {display: flex;flex-direction: column;z-index: 1;position: relative;background-color: white;}#sk-container-id-5 div.sk-parallel-item:first-child::after {align-self: flex-end;width: 50%;}#sk-container-id-5 div.sk-parallel-item:last-child::after {align-self: flex-start;width: 50%;}#sk-container-id-5 div.sk-parallel-item:only-child::after {width: 0;}#sk-container-id-5 div.sk-dashed-wrapped {border: 1px dashed gray;margin: 0 0.4em 0.5em 0.4em;box-sizing: border-box;padding-bottom: 0.4em;background-color: white;}#sk-container-id-5 div.sk-label label {font-family: monospace;font-weight: bold;display: inline-block;line-height: 1.2em;}#sk-container-id-5 div.sk-label-container {text-align: center;}#sk-container-id-5 div.sk-container {/* jupyter's `normalize.less` sets `[hidden] { display: none; }` but bootstrap.min.css set `[hidden] { display: none !important; }` so we also need the `!important` here to be able to override the default hidden behavior on the sphinx rendered scikit-learn.org. See: https://github.com/scikit-learn/scikit-learn/issues/21755 */display: inline-block !important;position: relative;}#sk-container-id-5 div.sk-text-repr-fallback {display: none;}</style><div id=\"sk-container-id-5\" class=\"sk-top-container\"><div class=\"sk-text-repr-fallback\"><pre>GridSearchCV(cv=5, estimator=LogisticRegression(), n_jobs=-1,\n",
              "             param_grid={&#x27;C&#x27;: [0.001, 0.01, 0.1, 1, 10],\n",
              "                         &#x27;max_iter&#x27;: [100, 200, 300, 500]},\n",
              "             scoring=&#x27;accuracy&#x27;, verbose=1)</pre><b>In a Jupyter environment, please rerun this cell to show the HTML representation or trust the notebook. <br />On GitHub, the HTML representation is unable to render, please try loading this page with nbviewer.org.</b></div><div class=\"sk-container\" hidden><div class=\"sk-item sk-dashed-wrapped\"><div class=\"sk-label-container\"><div class=\"sk-label sk-toggleable\"><input class=\"sk-toggleable__control sk-hidden--visually\" id=\"sk-estimator-id-13\" type=\"checkbox\" ><label for=\"sk-estimator-id-13\" class=\"sk-toggleable__label sk-toggleable__label-arrow\">GridSearchCV</label><div class=\"sk-toggleable__content\"><pre>GridSearchCV(cv=5, estimator=LogisticRegression(), n_jobs=-1,\n",
              "             param_grid={&#x27;C&#x27;: [0.001, 0.01, 0.1, 1, 10],\n",
              "                         &#x27;max_iter&#x27;: [100, 200, 300, 500]},\n",
              "             scoring=&#x27;accuracy&#x27;, verbose=1)</pre></div></div></div><div class=\"sk-parallel\"><div class=\"sk-parallel-item\"><div class=\"sk-item\"><div class=\"sk-label-container\"><div class=\"sk-label sk-toggleable\"><input class=\"sk-toggleable__control sk-hidden--visually\" id=\"sk-estimator-id-14\" type=\"checkbox\" ><label for=\"sk-estimator-id-14\" class=\"sk-toggleable__label sk-toggleable__label-arrow\">estimator: LogisticRegression</label><div class=\"sk-toggleable__content\"><pre>LogisticRegression()</pre></div></div></div><div class=\"sk-serial\"><div class=\"sk-item\"><div class=\"sk-estimator sk-toggleable\"><input class=\"sk-toggleable__control sk-hidden--visually\" id=\"sk-estimator-id-15\" type=\"checkbox\" ><label for=\"sk-estimator-id-15\" class=\"sk-toggleable__label sk-toggleable__label-arrow\">LogisticRegression</label><div class=\"sk-toggleable__content\"><pre>LogisticRegression()</pre></div></div></div></div></div></div></div></div></div></div>"
            ]
          },
          "metadata": {},
          "execution_count": 90
        }
      ],
      "source": [
        "cv_grid_search = GridSearchCV(lr, param_grid, cv=5, scoring='accuracy', verbose=1, n_jobs=-1)\n",
        "cv_grid_search.fit(cv_xtrain, ytrain)"
      ]
    },
    {
      "cell_type": "code",
      "execution_count": 91,
      "metadata": {
        "colab": {
          "base_uri": "https://localhost:8080/"
        },
        "id": "6E1iPE5qvEhZ",
        "outputId": "c3a4313d-a319-4fc3-a99d-cb611736c77f"
      },
      "outputs": [
        {
          "output_type": "stream",
          "name": "stdout",
          "text": [
            "Best Parameters:  {'C': 1, 'max_iter': 100}\n",
            "Best Accuracy:  0.8939375\n"
          ]
        }
      ],
      "source": [
        "print(\"Best Parameters: \", cv_grid_search.best_params_)\n",
        "print(\"Best Accuracy: \", cv_grid_search.best_score_)"
      ]
    },
    {
      "cell_type": "code",
      "execution_count": 92,
      "metadata": {
        "colab": {
          "base_uri": "https://localhost:8080/"
        },
        "id": "mUMlaoMmvney",
        "outputId": "1d0c475c-ce2b-44dc-a482-454b80073f9f"
      },
      "outputs": [
        {
          "output_type": "stream",
          "name": "stdout",
          "text": [
            "\n",
            "LogisticRegression(C=1)\n",
            "Train Accuracy Score : 0.9684375\n",
            "Test Accuracy Score : 0.892\n",
            "Train Precision Score : 0.9726581459310791\n",
            "Test Precision Score : 0.9185375240538807\n",
            "Train Recall Score : 0.9863013698630136\n",
            "Test Recall Score : 0.9414858645627876\n",
            "Train F1 Score : 0.9794322486050584\n",
            "Test F1 Score : 0.9298701298701298\n",
            "Train Confision Matrix : [[ 3471   338]\n",
            " [  167 12024]]\n",
            "Test Confusion Matrix : [[ 704  254]\n",
            " [ 178 2864]]\n",
            "\n",
            " --------------------\n"
          ]
        }
      ],
      "source": [
        "lr = LogisticRegression(C=1, max_iter=100)\n",
        "train_And_test(model=lr, xtrain=cv_xtrain, ytrain=ytrain, xtest=cv_xtest, ytest=ytest)"
      ]
    },
    {
      "cell_type": "markdown",
      "source": [
        "#### RandomizedSearchCV"
      ],
      "metadata": {
        "id": "eqbtlLA3mlHC"
      }
    },
    {
      "cell_type": "code",
      "execution_count": 93,
      "metadata": {
        "id": "LYXsBQELvnn6"
      },
      "outputs": [],
      "source": [
        "from sklearn.model_selection import RandomizedSearchCV"
      ]
    },
    {
      "cell_type": "code",
      "execution_count": 94,
      "metadata": {
        "id": "lFNomDFfyDyS"
      },
      "outputs": [],
      "source": [
        "param_dist = {\n",
        "    'C': [0.001, 0.01, 0.1, 1, 10],\n",
        "    'max_iter': [100, 200, 300, 500]\n",
        "}"
      ]
    },
    {
      "cell_type": "code",
      "execution_count": 95,
      "metadata": {
        "colab": {
          "base_uri": "https://localhost:8080/",
          "height": 135
        },
        "id": "fTw84OGCxlYS",
        "outputId": "f08599c6-b35c-453e-db63-d516a9db6517"
      },
      "outputs": [
        {
          "output_type": "stream",
          "name": "stdout",
          "text": [
            "Fitting 5 folds for each of 10 candidates, totalling 50 fits\n"
          ]
        },
        {
          "output_type": "execute_result",
          "data": {
            "text/plain": [
              "RandomizedSearchCV(cv=5, estimator=LogisticRegression(C=1), n_jobs=-1,\n",
              "                   param_distributions={'C': [0.001, 0.01, 0.1, 1, 10],\n",
              "                                        'max_iter': [100, 200, 300, 500]},\n",
              "                   scoring='accuracy', verbose=1)"
            ],
            "text/html": [
              "<style>#sk-container-id-6 {color: black;background-color: white;}#sk-container-id-6 pre{padding: 0;}#sk-container-id-6 div.sk-toggleable {background-color: white;}#sk-container-id-6 label.sk-toggleable__label {cursor: pointer;display: block;width: 100%;margin-bottom: 0;padding: 0.3em;box-sizing: border-box;text-align: center;}#sk-container-id-6 label.sk-toggleable__label-arrow:before {content: \"▸\";float: left;margin-right: 0.25em;color: #696969;}#sk-container-id-6 label.sk-toggleable__label-arrow:hover:before {color: black;}#sk-container-id-6 div.sk-estimator:hover label.sk-toggleable__label-arrow:before {color: black;}#sk-container-id-6 div.sk-toggleable__content {max-height: 0;max-width: 0;overflow: hidden;text-align: left;background-color: #f0f8ff;}#sk-container-id-6 div.sk-toggleable__content pre {margin: 0.2em;color: black;border-radius: 0.25em;background-color: #f0f8ff;}#sk-container-id-6 input.sk-toggleable__control:checked~div.sk-toggleable__content {max-height: 200px;max-width: 100%;overflow: auto;}#sk-container-id-6 input.sk-toggleable__control:checked~label.sk-toggleable__label-arrow:before {content: \"▾\";}#sk-container-id-6 div.sk-estimator input.sk-toggleable__control:checked~label.sk-toggleable__label {background-color: #d4ebff;}#sk-container-id-6 div.sk-label input.sk-toggleable__control:checked~label.sk-toggleable__label {background-color: #d4ebff;}#sk-container-id-6 input.sk-hidden--visually {border: 0;clip: rect(1px 1px 1px 1px);clip: rect(1px, 1px, 1px, 1px);height: 1px;margin: -1px;overflow: hidden;padding: 0;position: absolute;width: 1px;}#sk-container-id-6 div.sk-estimator {font-family: monospace;background-color: #f0f8ff;border: 1px dotted black;border-radius: 0.25em;box-sizing: border-box;margin-bottom: 0.5em;}#sk-container-id-6 div.sk-estimator:hover {background-color: #d4ebff;}#sk-container-id-6 div.sk-parallel-item::after {content: \"\";width: 100%;border-bottom: 1px solid gray;flex-grow: 1;}#sk-container-id-6 div.sk-label:hover label.sk-toggleable__label {background-color: #d4ebff;}#sk-container-id-6 div.sk-serial::before {content: \"\";position: absolute;border-left: 1px solid gray;box-sizing: border-box;top: 0;bottom: 0;left: 50%;z-index: 0;}#sk-container-id-6 div.sk-serial {display: flex;flex-direction: column;align-items: center;background-color: white;padding-right: 0.2em;padding-left: 0.2em;position: relative;}#sk-container-id-6 div.sk-item {position: relative;z-index: 1;}#sk-container-id-6 div.sk-parallel {display: flex;align-items: stretch;justify-content: center;background-color: white;position: relative;}#sk-container-id-6 div.sk-item::before, #sk-container-id-6 div.sk-parallel-item::before {content: \"\";position: absolute;border-left: 1px solid gray;box-sizing: border-box;top: 0;bottom: 0;left: 50%;z-index: -1;}#sk-container-id-6 div.sk-parallel-item {display: flex;flex-direction: column;z-index: 1;position: relative;background-color: white;}#sk-container-id-6 div.sk-parallel-item:first-child::after {align-self: flex-end;width: 50%;}#sk-container-id-6 div.sk-parallel-item:last-child::after {align-self: flex-start;width: 50%;}#sk-container-id-6 div.sk-parallel-item:only-child::after {width: 0;}#sk-container-id-6 div.sk-dashed-wrapped {border: 1px dashed gray;margin: 0 0.4em 0.5em 0.4em;box-sizing: border-box;padding-bottom: 0.4em;background-color: white;}#sk-container-id-6 div.sk-label label {font-family: monospace;font-weight: bold;display: inline-block;line-height: 1.2em;}#sk-container-id-6 div.sk-label-container {text-align: center;}#sk-container-id-6 div.sk-container {/* jupyter's `normalize.less` sets `[hidden] { display: none; }` but bootstrap.min.css set `[hidden] { display: none !important; }` so we also need the `!important` here to be able to override the default hidden behavior on the sphinx rendered scikit-learn.org. See: https://github.com/scikit-learn/scikit-learn/issues/21755 */display: inline-block !important;position: relative;}#sk-container-id-6 div.sk-text-repr-fallback {display: none;}</style><div id=\"sk-container-id-6\" class=\"sk-top-container\"><div class=\"sk-text-repr-fallback\"><pre>RandomizedSearchCV(cv=5, estimator=LogisticRegression(C=1), n_jobs=-1,\n",
              "                   param_distributions={&#x27;C&#x27;: [0.001, 0.01, 0.1, 1, 10],\n",
              "                                        &#x27;max_iter&#x27;: [100, 200, 300, 500]},\n",
              "                   scoring=&#x27;accuracy&#x27;, verbose=1)</pre><b>In a Jupyter environment, please rerun this cell to show the HTML representation or trust the notebook. <br />On GitHub, the HTML representation is unable to render, please try loading this page with nbviewer.org.</b></div><div class=\"sk-container\" hidden><div class=\"sk-item sk-dashed-wrapped\"><div class=\"sk-label-container\"><div class=\"sk-label sk-toggleable\"><input class=\"sk-toggleable__control sk-hidden--visually\" id=\"sk-estimator-id-16\" type=\"checkbox\" ><label for=\"sk-estimator-id-16\" class=\"sk-toggleable__label sk-toggleable__label-arrow\">RandomizedSearchCV</label><div class=\"sk-toggleable__content\"><pre>RandomizedSearchCV(cv=5, estimator=LogisticRegression(C=1), n_jobs=-1,\n",
              "                   param_distributions={&#x27;C&#x27;: [0.001, 0.01, 0.1, 1, 10],\n",
              "                                        &#x27;max_iter&#x27;: [100, 200, 300, 500]},\n",
              "                   scoring=&#x27;accuracy&#x27;, verbose=1)</pre></div></div></div><div class=\"sk-parallel\"><div class=\"sk-parallel-item\"><div class=\"sk-item\"><div class=\"sk-label-container\"><div class=\"sk-label sk-toggleable\"><input class=\"sk-toggleable__control sk-hidden--visually\" id=\"sk-estimator-id-17\" type=\"checkbox\" ><label for=\"sk-estimator-id-17\" class=\"sk-toggleable__label sk-toggleable__label-arrow\">estimator: LogisticRegression</label><div class=\"sk-toggleable__content\"><pre>LogisticRegression(C=1)</pre></div></div></div><div class=\"sk-serial\"><div class=\"sk-item\"><div class=\"sk-estimator sk-toggleable\"><input class=\"sk-toggleable__control sk-hidden--visually\" id=\"sk-estimator-id-18\" type=\"checkbox\" ><label for=\"sk-estimator-id-18\" class=\"sk-toggleable__label sk-toggleable__label-arrow\">LogisticRegression</label><div class=\"sk-toggleable__content\"><pre>LogisticRegression(C=1)</pre></div></div></div></div></div></div></div></div></div></div>"
            ]
          },
          "metadata": {},
          "execution_count": 95
        }
      ],
      "source": [
        "cv_random_search = RandomizedSearchCV(lr, param_distributions=param_dist, n_iter=10, cv=5, scoring='accuracy', verbose=1, n_jobs=-1)\n",
        "cv_random_search.fit(cv_xtrain, ytrain)"
      ]
    },
    {
      "cell_type": "code",
      "execution_count": 96,
      "metadata": {
        "colab": {
          "base_uri": "https://localhost:8080/"
        },
        "id": "K1UXX30mx5pS",
        "outputId": "fe9f30aa-aafb-4c87-add8-c99aa93e194c"
      },
      "outputs": [
        {
          "output_type": "stream",
          "name": "stdout",
          "text": [
            "Best Parameters:  {'max_iter': 300, 'C': 1}\n",
            "Best Accuracy:  0.8939375\n"
          ]
        }
      ],
      "source": [
        "print(\"Best Parameters: \", cv_random_search.best_params_)\n",
        "print(\"Best Accuracy: \", cv_random_search.best_score_)"
      ]
    },
    {
      "cell_type": "code",
      "execution_count": 97,
      "metadata": {
        "colab": {
          "base_uri": "https://localhost:8080/"
        },
        "id": "7evRiqptyRRT",
        "outputId": "4ae0e09f-314a-4de2-f30a-d0e4e45f3259"
      },
      "outputs": [
        {
          "output_type": "stream",
          "name": "stdout",
          "text": [
            "\n",
            "LogisticRegression(C=1)\n",
            "Train Accuracy Score : 0.9684375\n",
            "Test Accuracy Score : 0.892\n",
            "Train Precision Score : 0.9726581459310791\n",
            "Test Precision Score : 0.9185375240538807\n",
            "Train Recall Score : 0.9863013698630136\n",
            "Test Recall Score : 0.9414858645627876\n",
            "Train F1 Score : 0.9794322486050584\n",
            "Test F1 Score : 0.9298701298701298\n",
            "Train Confision Matrix : [[ 3471   338]\n",
            " [  167 12024]]\n",
            "Test Confusion Matrix : [[ 704  254]\n",
            " [ 178 2864]]\n",
            "\n",
            " --------------------\n"
          ]
        }
      ],
      "source": [
        "lr = LogisticRegression(C=1, max_iter=100)\n",
        "train_And_test(model=lr, xtrain=cv_xtrain, ytrain=ytrain, xtest=cv_xtest, ytest=ytest)"
      ]
    },
    {
      "cell_type": "markdown",
      "source": [
        "# tfidfVacorizer"
      ],
      "metadata": {
        "id": "zlB1IRIxm6f0"
      }
    },
    {
      "cell_type": "markdown",
      "source": [
        "#### RandomizedSearchCV"
      ],
      "metadata": {
        "id": "b_3-TVvJm0fj"
      }
    },
    {
      "cell_type": "code",
      "execution_count": 99,
      "metadata": {
        "colab": {
          "base_uri": "https://localhost:8080/",
          "height": 135
        },
        "id": "-0xBsQ24yxRe",
        "outputId": "55f3f64e-8d9c-42a3-b692-025d8ffa6c3e"
      },
      "outputs": [
        {
          "output_type": "stream",
          "name": "stdout",
          "text": [
            "Fitting 5 folds for each of 10 candidates, totalling 50 fits\n"
          ]
        },
        {
          "output_type": "execute_result",
          "data": {
            "text/plain": [
              "RandomizedSearchCV(cv=5, estimator=LogisticRegression(C=1), n_jobs=-1,\n",
              "                   param_distributions={'C': [0.001, 0.01, 0.1, 1, 10],\n",
              "                                        'max_iter': [100, 200, 300, 500]},\n",
              "                   scoring='accuracy', verbose=1)"
            ],
            "text/html": [
              "<style>#sk-container-id-7 {color: black;background-color: white;}#sk-container-id-7 pre{padding: 0;}#sk-container-id-7 div.sk-toggleable {background-color: white;}#sk-container-id-7 label.sk-toggleable__label {cursor: pointer;display: block;width: 100%;margin-bottom: 0;padding: 0.3em;box-sizing: border-box;text-align: center;}#sk-container-id-7 label.sk-toggleable__label-arrow:before {content: \"▸\";float: left;margin-right: 0.25em;color: #696969;}#sk-container-id-7 label.sk-toggleable__label-arrow:hover:before {color: black;}#sk-container-id-7 div.sk-estimator:hover label.sk-toggleable__label-arrow:before {color: black;}#sk-container-id-7 div.sk-toggleable__content {max-height: 0;max-width: 0;overflow: hidden;text-align: left;background-color: #f0f8ff;}#sk-container-id-7 div.sk-toggleable__content pre {margin: 0.2em;color: black;border-radius: 0.25em;background-color: #f0f8ff;}#sk-container-id-7 input.sk-toggleable__control:checked~div.sk-toggleable__content {max-height: 200px;max-width: 100%;overflow: auto;}#sk-container-id-7 input.sk-toggleable__control:checked~label.sk-toggleable__label-arrow:before {content: \"▾\";}#sk-container-id-7 div.sk-estimator input.sk-toggleable__control:checked~label.sk-toggleable__label {background-color: #d4ebff;}#sk-container-id-7 div.sk-label input.sk-toggleable__control:checked~label.sk-toggleable__label {background-color: #d4ebff;}#sk-container-id-7 input.sk-hidden--visually {border: 0;clip: rect(1px 1px 1px 1px);clip: rect(1px, 1px, 1px, 1px);height: 1px;margin: -1px;overflow: hidden;padding: 0;position: absolute;width: 1px;}#sk-container-id-7 div.sk-estimator {font-family: monospace;background-color: #f0f8ff;border: 1px dotted black;border-radius: 0.25em;box-sizing: border-box;margin-bottom: 0.5em;}#sk-container-id-7 div.sk-estimator:hover {background-color: #d4ebff;}#sk-container-id-7 div.sk-parallel-item::after {content: \"\";width: 100%;border-bottom: 1px solid gray;flex-grow: 1;}#sk-container-id-7 div.sk-label:hover label.sk-toggleable__label {background-color: #d4ebff;}#sk-container-id-7 div.sk-serial::before {content: \"\";position: absolute;border-left: 1px solid gray;box-sizing: border-box;top: 0;bottom: 0;left: 50%;z-index: 0;}#sk-container-id-7 div.sk-serial {display: flex;flex-direction: column;align-items: center;background-color: white;padding-right: 0.2em;padding-left: 0.2em;position: relative;}#sk-container-id-7 div.sk-item {position: relative;z-index: 1;}#sk-container-id-7 div.sk-parallel {display: flex;align-items: stretch;justify-content: center;background-color: white;position: relative;}#sk-container-id-7 div.sk-item::before, #sk-container-id-7 div.sk-parallel-item::before {content: \"\";position: absolute;border-left: 1px solid gray;box-sizing: border-box;top: 0;bottom: 0;left: 50%;z-index: -1;}#sk-container-id-7 div.sk-parallel-item {display: flex;flex-direction: column;z-index: 1;position: relative;background-color: white;}#sk-container-id-7 div.sk-parallel-item:first-child::after {align-self: flex-end;width: 50%;}#sk-container-id-7 div.sk-parallel-item:last-child::after {align-self: flex-start;width: 50%;}#sk-container-id-7 div.sk-parallel-item:only-child::after {width: 0;}#sk-container-id-7 div.sk-dashed-wrapped {border: 1px dashed gray;margin: 0 0.4em 0.5em 0.4em;box-sizing: border-box;padding-bottom: 0.4em;background-color: white;}#sk-container-id-7 div.sk-label label {font-family: monospace;font-weight: bold;display: inline-block;line-height: 1.2em;}#sk-container-id-7 div.sk-label-container {text-align: center;}#sk-container-id-7 div.sk-container {/* jupyter's `normalize.less` sets `[hidden] { display: none; }` but bootstrap.min.css set `[hidden] { display: none !important; }` so we also need the `!important` here to be able to override the default hidden behavior on the sphinx rendered scikit-learn.org. See: https://github.com/scikit-learn/scikit-learn/issues/21755 */display: inline-block !important;position: relative;}#sk-container-id-7 div.sk-text-repr-fallback {display: none;}</style><div id=\"sk-container-id-7\" class=\"sk-top-container\"><div class=\"sk-text-repr-fallback\"><pre>RandomizedSearchCV(cv=5, estimator=LogisticRegression(C=1), n_jobs=-1,\n",
              "                   param_distributions={&#x27;C&#x27;: [0.001, 0.01, 0.1, 1, 10],\n",
              "                                        &#x27;max_iter&#x27;: [100, 200, 300, 500]},\n",
              "                   scoring=&#x27;accuracy&#x27;, verbose=1)</pre><b>In a Jupyter environment, please rerun this cell to show the HTML representation or trust the notebook. <br />On GitHub, the HTML representation is unable to render, please try loading this page with nbviewer.org.</b></div><div class=\"sk-container\" hidden><div class=\"sk-item sk-dashed-wrapped\"><div class=\"sk-label-container\"><div class=\"sk-label sk-toggleable\"><input class=\"sk-toggleable__control sk-hidden--visually\" id=\"sk-estimator-id-19\" type=\"checkbox\" ><label for=\"sk-estimator-id-19\" class=\"sk-toggleable__label sk-toggleable__label-arrow\">RandomizedSearchCV</label><div class=\"sk-toggleable__content\"><pre>RandomizedSearchCV(cv=5, estimator=LogisticRegression(C=1), n_jobs=-1,\n",
              "                   param_distributions={&#x27;C&#x27;: [0.001, 0.01, 0.1, 1, 10],\n",
              "                                        &#x27;max_iter&#x27;: [100, 200, 300, 500]},\n",
              "                   scoring=&#x27;accuracy&#x27;, verbose=1)</pre></div></div></div><div class=\"sk-parallel\"><div class=\"sk-parallel-item\"><div class=\"sk-item\"><div class=\"sk-label-container\"><div class=\"sk-label sk-toggleable\"><input class=\"sk-toggleable__control sk-hidden--visually\" id=\"sk-estimator-id-20\" type=\"checkbox\" ><label for=\"sk-estimator-id-20\" class=\"sk-toggleable__label sk-toggleable__label-arrow\">estimator: LogisticRegression</label><div class=\"sk-toggleable__content\"><pre>LogisticRegression(C=1)</pre></div></div></div><div class=\"sk-serial\"><div class=\"sk-item\"><div class=\"sk-estimator sk-toggleable\"><input class=\"sk-toggleable__control sk-hidden--visually\" id=\"sk-estimator-id-21\" type=\"checkbox\" ><label for=\"sk-estimator-id-21\" class=\"sk-toggleable__label sk-toggleable__label-arrow\">LogisticRegression</label><div class=\"sk-toggleable__content\"><pre>LogisticRegression(C=1)</pre></div></div></div></div></div></div></div></div></div></div>"
            ]
          },
          "metadata": {},
          "execution_count": 99
        }
      ],
      "source": [
        "#random_search_tfidf\n",
        "random_search_tfidf = RandomizedSearchCV(lr, param_distributions=param_dist, n_iter=10, cv=5, scoring='accuracy', verbose=1, n_jobs=-1)\n",
        "random_search_tfidf.fit(tfidf_xtrain, ytrain)"
      ]
    },
    {
      "cell_type": "code",
      "execution_count": 100,
      "metadata": {
        "colab": {
          "base_uri": "https://localhost:8080/"
        },
        "id": "zBYYh-nbzSyq",
        "outputId": "4d244312-9a2a-4f15-d892-a47f1d949018"
      },
      "outputs": [
        {
          "output_type": "stream",
          "name": "stdout",
          "text": [
            "Best Parameters:  {'max_iter': 200, 'C': 10}\n",
            "Best Accuracy:  0.8955\n"
          ]
        }
      ],
      "source": [
        "print(\"Best Parameters: \", random_search_tfidf.best_params_)\n",
        "print(\"Best Accuracy: \", random_search_tfidf.best_score_)"
      ]
    },
    {
      "cell_type": "code",
      "execution_count": 101,
      "metadata": {
        "colab": {
          "base_uri": "https://localhost:8080/"
        },
        "id": "M3MwFK7Zyxbv",
        "outputId": "adc4dfc8-e5fd-408e-fc4d-3ae5856fb373"
      },
      "outputs": [
        {
          "output_type": "stream",
          "name": "stdout",
          "text": [
            "\n",
            "LogisticRegression(C=10, max_iter=500)\n",
            "Train Accuracy Score : 0.9743125\n",
            "Test Accuracy Score : 0.893\n",
            "Train Precision Score : 0.9769230769230769\n",
            "Test Precision Score : 0.9157124681933843\n",
            "Train Recall Score : 0.9896645066032319\n",
            "Test Recall Score : 0.9464168310322156\n",
            "Train F1 Score : 0.983252516197384\n",
            "Test F1 Score : 0.9308115098609764\n",
            "Train Confision Matrix : [[ 3524   285]\n",
            " [  126 12065]]\n",
            "Test Confusion Matrix : [[ 693  265]\n",
            " [ 163 2879]]\n",
            "\n",
            " --------------------\n"
          ]
        }
      ],
      "source": [
        "lr = LogisticRegression(C=10, max_iter=500)\n",
        "train_And_test(model=lr, xtrain=tfidf_xtrain, ytrain=ytrain, xtest=tfidf_xtest, ytest=ytest)"
      ]
    },
    {
      "cell_type": "markdown",
      "source": [
        "#### GridSearchCV"
      ],
      "metadata": {
        "id": "M-5vbZvtnCZn"
      }
    },
    {
      "cell_type": "code",
      "execution_count": 102,
      "metadata": {
        "colab": {
          "base_uri": "https://localhost:8080/",
          "height": 135
        },
        "id": "Cyq2P3ZY0Vrc",
        "outputId": "9bb19984-d811-44aa-f3fb-5503c41015db"
      },
      "outputs": [
        {
          "output_type": "stream",
          "name": "stdout",
          "text": [
            "Fitting 5 folds for each of 20 candidates, totalling 100 fits\n"
          ]
        },
        {
          "output_type": "execute_result",
          "data": {
            "text/plain": [
              "GridSearchCV(cv=5, estimator=LogisticRegression(C=10, max_iter=500), n_jobs=-1,\n",
              "             param_grid={'C': [0.001, 0.01, 0.1, 1, 10],\n",
              "                         'max_iter': [100, 200, 300, 500]},\n",
              "             scoring='accuracy', verbose=1)"
            ],
            "text/html": [
              "<style>#sk-container-id-8 {color: black;background-color: white;}#sk-container-id-8 pre{padding: 0;}#sk-container-id-8 div.sk-toggleable {background-color: white;}#sk-container-id-8 label.sk-toggleable__label {cursor: pointer;display: block;width: 100%;margin-bottom: 0;padding: 0.3em;box-sizing: border-box;text-align: center;}#sk-container-id-8 label.sk-toggleable__label-arrow:before {content: \"▸\";float: left;margin-right: 0.25em;color: #696969;}#sk-container-id-8 label.sk-toggleable__label-arrow:hover:before {color: black;}#sk-container-id-8 div.sk-estimator:hover label.sk-toggleable__label-arrow:before {color: black;}#sk-container-id-8 div.sk-toggleable__content {max-height: 0;max-width: 0;overflow: hidden;text-align: left;background-color: #f0f8ff;}#sk-container-id-8 div.sk-toggleable__content pre {margin: 0.2em;color: black;border-radius: 0.25em;background-color: #f0f8ff;}#sk-container-id-8 input.sk-toggleable__control:checked~div.sk-toggleable__content {max-height: 200px;max-width: 100%;overflow: auto;}#sk-container-id-8 input.sk-toggleable__control:checked~label.sk-toggleable__label-arrow:before {content: \"▾\";}#sk-container-id-8 div.sk-estimator input.sk-toggleable__control:checked~label.sk-toggleable__label {background-color: #d4ebff;}#sk-container-id-8 div.sk-label input.sk-toggleable__control:checked~label.sk-toggleable__label {background-color: #d4ebff;}#sk-container-id-8 input.sk-hidden--visually {border: 0;clip: rect(1px 1px 1px 1px);clip: rect(1px, 1px, 1px, 1px);height: 1px;margin: -1px;overflow: hidden;padding: 0;position: absolute;width: 1px;}#sk-container-id-8 div.sk-estimator {font-family: monospace;background-color: #f0f8ff;border: 1px dotted black;border-radius: 0.25em;box-sizing: border-box;margin-bottom: 0.5em;}#sk-container-id-8 div.sk-estimator:hover {background-color: #d4ebff;}#sk-container-id-8 div.sk-parallel-item::after {content: \"\";width: 100%;border-bottom: 1px solid gray;flex-grow: 1;}#sk-container-id-8 div.sk-label:hover label.sk-toggleable__label {background-color: #d4ebff;}#sk-container-id-8 div.sk-serial::before {content: \"\";position: absolute;border-left: 1px solid gray;box-sizing: border-box;top: 0;bottom: 0;left: 50%;z-index: 0;}#sk-container-id-8 div.sk-serial {display: flex;flex-direction: column;align-items: center;background-color: white;padding-right: 0.2em;padding-left: 0.2em;position: relative;}#sk-container-id-8 div.sk-item {position: relative;z-index: 1;}#sk-container-id-8 div.sk-parallel {display: flex;align-items: stretch;justify-content: center;background-color: white;position: relative;}#sk-container-id-8 div.sk-item::before, #sk-container-id-8 div.sk-parallel-item::before {content: \"\";position: absolute;border-left: 1px solid gray;box-sizing: border-box;top: 0;bottom: 0;left: 50%;z-index: -1;}#sk-container-id-8 div.sk-parallel-item {display: flex;flex-direction: column;z-index: 1;position: relative;background-color: white;}#sk-container-id-8 div.sk-parallel-item:first-child::after {align-self: flex-end;width: 50%;}#sk-container-id-8 div.sk-parallel-item:last-child::after {align-self: flex-start;width: 50%;}#sk-container-id-8 div.sk-parallel-item:only-child::after {width: 0;}#sk-container-id-8 div.sk-dashed-wrapped {border: 1px dashed gray;margin: 0 0.4em 0.5em 0.4em;box-sizing: border-box;padding-bottom: 0.4em;background-color: white;}#sk-container-id-8 div.sk-label label {font-family: monospace;font-weight: bold;display: inline-block;line-height: 1.2em;}#sk-container-id-8 div.sk-label-container {text-align: center;}#sk-container-id-8 div.sk-container {/* jupyter's `normalize.less` sets `[hidden] { display: none; }` but bootstrap.min.css set `[hidden] { display: none !important; }` so we also need the `!important` here to be able to override the default hidden behavior on the sphinx rendered scikit-learn.org. See: https://github.com/scikit-learn/scikit-learn/issues/21755 */display: inline-block !important;position: relative;}#sk-container-id-8 div.sk-text-repr-fallback {display: none;}</style><div id=\"sk-container-id-8\" class=\"sk-top-container\"><div class=\"sk-text-repr-fallback\"><pre>GridSearchCV(cv=5, estimator=LogisticRegression(C=10, max_iter=500), n_jobs=-1,\n",
              "             param_grid={&#x27;C&#x27;: [0.001, 0.01, 0.1, 1, 10],\n",
              "                         &#x27;max_iter&#x27;: [100, 200, 300, 500]},\n",
              "             scoring=&#x27;accuracy&#x27;, verbose=1)</pre><b>In a Jupyter environment, please rerun this cell to show the HTML representation or trust the notebook. <br />On GitHub, the HTML representation is unable to render, please try loading this page with nbviewer.org.</b></div><div class=\"sk-container\" hidden><div class=\"sk-item sk-dashed-wrapped\"><div class=\"sk-label-container\"><div class=\"sk-label sk-toggleable\"><input class=\"sk-toggleable__control sk-hidden--visually\" id=\"sk-estimator-id-22\" type=\"checkbox\" ><label for=\"sk-estimator-id-22\" class=\"sk-toggleable__label sk-toggleable__label-arrow\">GridSearchCV</label><div class=\"sk-toggleable__content\"><pre>GridSearchCV(cv=5, estimator=LogisticRegression(C=10, max_iter=500), n_jobs=-1,\n",
              "             param_grid={&#x27;C&#x27;: [0.001, 0.01, 0.1, 1, 10],\n",
              "                         &#x27;max_iter&#x27;: [100, 200, 300, 500]},\n",
              "             scoring=&#x27;accuracy&#x27;, verbose=1)</pre></div></div></div><div class=\"sk-parallel\"><div class=\"sk-parallel-item\"><div class=\"sk-item\"><div class=\"sk-label-container\"><div class=\"sk-label sk-toggleable\"><input class=\"sk-toggleable__control sk-hidden--visually\" id=\"sk-estimator-id-23\" type=\"checkbox\" ><label for=\"sk-estimator-id-23\" class=\"sk-toggleable__label sk-toggleable__label-arrow\">estimator: LogisticRegression</label><div class=\"sk-toggleable__content\"><pre>LogisticRegression(C=10, max_iter=500)</pre></div></div></div><div class=\"sk-serial\"><div class=\"sk-item\"><div class=\"sk-estimator sk-toggleable\"><input class=\"sk-toggleable__control sk-hidden--visually\" id=\"sk-estimator-id-24\" type=\"checkbox\" ><label for=\"sk-estimator-id-24\" class=\"sk-toggleable__label sk-toggleable__label-arrow\">LogisticRegression</label><div class=\"sk-toggleable__content\"><pre>LogisticRegression(C=10, max_iter=500)</pre></div></div></div></div></div></div></div></div></div></div>"
            ]
          },
          "metadata": {},
          "execution_count": 102
        }
      ],
      "source": [
        "#GridSearchCV tfidf\n",
        "tfidf_grid_search = GridSearchCV(lr, param_grid, cv=5, scoring='accuracy', verbose=1, n_jobs=-1)\n",
        "tfidf_grid_search.fit(tfidf_xtrain, ytrain)"
      ]
    },
    {
      "cell_type": "code",
      "execution_count": 103,
      "metadata": {
        "colab": {
          "base_uri": "https://localhost:8080/"
        },
        "id": "PkD_Uyda03U3",
        "outputId": "485c916d-d930-4424-9468-3dde6a70aa6c"
      },
      "outputs": [
        {
          "output_type": "stream",
          "name": "stdout",
          "text": [
            "Best Parameters:  {'C': 10, 'max_iter': 200}\n",
            "Best Accuracy:  0.8955\n"
          ]
        }
      ],
      "source": [
        "print(\"Best Parameters: \", tfidf_grid_search.best_params_)\n",
        "print(\"Best Accuracy: \", tfidf_grid_search.best_score_)"
      ]
    },
    {
      "cell_type": "code",
      "execution_count": 104,
      "metadata": {
        "colab": {
          "base_uri": "https://localhost:8080/"
        },
        "id": "5WBGsQV_1RE8",
        "outputId": "969b5a78-10d7-4003-9eb6-9053a834edb9"
      },
      "outputs": [
        {
          "output_type": "stream",
          "name": "stdout",
          "text": [
            "\n",
            "LogisticRegression(C=10, max_iter=200)\n",
            "Train Accuracy Score : 0.9743125\n",
            "Test Accuracy Score : 0.893\n",
            "Train Precision Score : 0.9769230769230769\n",
            "Test Precision Score : 0.9157124681933843\n",
            "Train Recall Score : 0.9896645066032319\n",
            "Test Recall Score : 0.9464168310322156\n",
            "Train F1 Score : 0.983252516197384\n",
            "Test F1 Score : 0.9308115098609764\n",
            "Train Confision Matrix : [[ 3524   285]\n",
            " [  126 12065]]\n",
            "Test Confusion Matrix : [[ 693  265]\n",
            " [ 163 2879]]\n",
            "\n",
            " --------------------\n"
          ]
        }
      ],
      "source": [
        "lr = LogisticRegression(C=10, max_iter=200)\n",
        "train_And_test(model=lr, xtrain=tfidf_xtrain, ytrain=ytrain, xtest=tfidf_xtest, ytest=ytest)"
      ]
    },
    {
      "cell_type": "markdown",
      "source": [
        "### The best model is LogisticRegression with tfidfVacorizer in RandomizedSearchCV"
      ],
      "metadata": {
        "id": "fhD44n2upVP7"
      }
    }
  ],
  "metadata": {
    "colab": {
      "provenance": []
    },
    "kernelspec": {
      "display_name": "Python 3 (ipykernel)",
      "language": "python",
      "name": "python3"
    },
    "language_info": {
      "codemirror_mode": {
        "name": "ipython",
        "version": 3
      },
      "file_extension": ".py",
      "mimetype": "text/x-python",
      "name": "python",
      "nbconvert_exporter": "python",
      "pygments_lexer": "ipython3",
      "version": "3.8.10"
    }
  },
  "nbformat": 4,
  "nbformat_minor": 0
}