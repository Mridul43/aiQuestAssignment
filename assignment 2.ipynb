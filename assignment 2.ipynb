{
 "cells": [
  {
   "cell_type": "markdown",
   "id": "07a4d742",
   "metadata": {},
   "source": [
    "# 1. Take values of the length & breadth of a rectangle from user input and check if it is square or not."
   ]
  },
  {
   "cell_type": "code",
   "execution_count": 21,
   "id": "ea07c7f5",
   "metadata": {},
   "outputs": [
    {
     "name": "stdout",
     "output_type": "stream",
     "text": [
      "x5\n",
      "y5\n",
      "it is a squere\n"
     ]
    }
   ],
   "source": [
    "x = int(input(\"x\"))\n",
    "y = int(input(\"y\"))\n",
    "\n",
    "if x == y :\n",
    "    print(\"it is a squere\")\n",
    "else: \n",
    "    print(\"it is a ractangle\")"
   ]
  },
  {
   "cell_type": "markdown",
   "id": "f62ff649",
   "metadata": {},
   "source": [
    "# 2. Take three integer values from the user and print the greatest among them."
   ]
  },
  {
   "cell_type": "code",
   "execution_count": null,
   "id": "485e34ab",
   "metadata": {},
   "outputs": [],
   "source": [
    "x = int(input(\"x =\"))\n",
    "y = int(input(\"y =\"))\n",
    "z = int(input(\"z =\"))\n",
    "\n",
    "print(max(x, y, z))\n"
   ]
  },
  {
   "cell_type": "markdown",
   "id": "0215fe2b",
   "metadata": {},
   "source": [
    "# 3.A student will not be allowed to sit in an exam if his/her attendance is less than 75%"
   ]
  },
  {
   "cell_type": "code",
   "execution_count": 24,
   "id": "338fe800",
   "metadata": {},
   "outputs": [
    {
     "name": "stdout",
     "output_type": "stream",
     "text": [
      "Enter the total number of classes: 100\n",
      "Enter the number of classes attended: 90\n",
      "You are allowed to sit in the exam.\n"
     ]
    }
   ],
   "source": [
    "total_classes = int(input(\"Enter the total number of classes: \"))\n",
    "attended_classes = int(input(\"Enter the number of classes attended: \"))\n",
    "\n",
    "percentage = (attended_classes / total_classes) * 100\n",
    "\n",
    "if percentage >= 75:\n",
    "    print(\"You are allowed to sit in the exam.\")\n",
    "else:\n",
    "    print(\"Sorry,You are not allowed to sit in the exam.\")"
   ]
  },
  {
   "cell_type": "markdown",
   "id": "41130944",
   "metadata": {},
   "source": [
    "# 4. A school has the following rules for the grading system:Below 25 – F, 25 to 44 – E, 45 to 49 – D, 50 to 59 – C, 60 to 79 – B, 80 to 89 - A, Above 90 - A+ Now, Ask the user to enter marks and print the corresponding grade."
   ]
  },
  {
   "cell_type": "code",
   "execution_count": 47,
   "id": "e0f6ab8c",
   "metadata": {},
   "outputs": [
    {
     "name": "stdout",
     "output_type": "stream",
     "text": [
      "Marks1000\n",
      "A+\n"
     ]
    }
   ],
   "source": [
    "a = int(input(\"Marks\"))\n",
    "\n",
    "if a < 25:\n",
    "    print('F')\n",
    "elif a >= 25 and a < 44:\n",
    "    print('E')\n",
    "elif a >= 45  and a < 49:\n",
    "    print('D')\n",
    "elif a >= 50 and a < 59:\n",
    "    print('C')\n",
    "elif a >= 60 and a < 79:\n",
    "    print('B')\n",
    "elif a>= 80 and a < 89:\n",
    "    print('A')\n",
    "else:\n",
    "    print('A+')"
   ]
  },
  {
   "cell_type": "markdown",
   "id": "c3ec992b",
   "metadata": {},
   "source": [
    "# 5. Print the following pattern using for and while loop.\n",
    "# 1 2 3 4 5 6 7\n",
    "# 1 2 3 4 5 6\n",
    "# 1 2 3 4 5\n",
    "# 1 2 3 4"
   ]
  },
  {
   "cell_type": "code",
   "execution_count": 58,
   "id": "f8746d28",
   "metadata": {},
   "outputs": [
    {
     "name": "stdout",
     "output_type": "stream",
     "text": [
      "1 2 3 4 5 6 7 \n",
      "1 2 3 4 5 6 \n",
      "1 2 3 4 5 \n",
      "1 2 3 4 \n",
      "1 2 3 \n",
      "1 2 \n",
      "1 \n"
     ]
    }
   ],
   "source": [
    "num = 7\n",
    "for i in range(num, 0, -1):\n",
    "    for j in range(1, i + 1):\n",
    "        print(j, end=' ')\n",
    "    print()"
   ]
  },
  {
   "cell_type": "markdown",
   "id": "d488c93b",
   "metadata": {},
   "source": [
    "# 6. Display numbers from -100 to -10 using for loop."
   ]
  },
  {
   "cell_type": "code",
   "execution_count": 4,
   "id": "11838fa4",
   "metadata": {},
   "outputs": [
    {
     "name": "stdout",
     "output_type": "stream",
     "text": [
      "-100\n",
      "-99\n",
      "-98\n",
      "-97\n",
      "-96\n",
      "-95\n",
      "-94\n",
      "-93\n",
      "-92\n",
      "-91\n",
      "-90\n",
      "-89\n",
      "-88\n",
      "-87\n",
      "-86\n",
      "-85\n",
      "-84\n",
      "-83\n",
      "-82\n",
      "-81\n",
      "-80\n",
      "-79\n",
      "-78\n",
      "-77\n",
      "-76\n",
      "-75\n",
      "-74\n",
      "-73\n",
      "-72\n",
      "-71\n",
      "-70\n",
      "-69\n",
      "-68\n",
      "-67\n",
      "-66\n",
      "-65\n",
      "-64\n",
      "-63\n",
      "-62\n",
      "-61\n",
      "-60\n",
      "-59\n",
      "-58\n",
      "-57\n",
      "-56\n",
      "-55\n",
      "-54\n",
      "-53\n",
      "-52\n",
      "-51\n",
      "-50\n",
      "-49\n",
      "-48\n",
      "-47\n",
      "-46\n",
      "-45\n",
      "-44\n",
      "-43\n",
      "-42\n",
      "-41\n",
      "-40\n",
      "-39\n",
      "-38\n",
      "-37\n",
      "-36\n",
      "-35\n",
      "-34\n",
      "-33\n",
      "-32\n",
      "-31\n",
      "-30\n",
      "-29\n",
      "-28\n",
      "-27\n",
      "-26\n",
      "-25\n",
      "-24\n",
      "-23\n",
      "-22\n",
      "-21\n",
      "-20\n",
      "-19\n",
      "-18\n",
      "-17\n",
      "-16\n",
      "-15\n",
      "-14\n",
      "-13\n",
      "-12\n",
      "-11\n",
      "-10\n"
     ]
    }
   ],
   "source": [
    "for i in range(-100, -9):\n",
    "    print(i)"
   ]
  },
  {
   "cell_type": "markdown",
   "id": "8d338449",
   "metadata": {},
   "source": [
    "# 7. Write a program to sum all prime numbers within a range of 10 to 1000."
   ]
  },
  {
   "cell_type": "code",
   "execution_count": 19,
   "id": "44c0a172",
   "metadata": {},
   "outputs": [
    {
     "name": "stdout",
     "output_type": "stream",
     "text": [
      "76110\n"
     ]
    }
   ],
   "source": [
    "start_range = 10\n",
    "end_range = 1000\n",
    "sum = 0\n",
    "for num in range(start_range, end_range + 1):\n",
    "    if num > 1:\n",
    "        is_prime = True\n",
    "        for i in range(2, int(num ** 0.5) + 1):\n",
    "            if num % i == 0:\n",
    "                is_prime = False\n",
    "                break\n",
    "        if is_prime:\n",
    "            sum += num\n",
    "            \n",
    "print(sum)"
   ]
  },
  {
   "cell_type": "markdown",
   "id": "98e8875b",
   "metadata": {},
   "source": [
    "# 8. Find the factorial of an n! (Hint, n=7: 7*6*5*4*3*2*1)."
   ]
  },
  {
   "cell_type": "code",
   "execution_count": 32,
   "id": "591ff9da",
   "metadata": {},
   "outputs": [
    {
     "name": "stdout",
     "output_type": "stream",
     "text": [
      "The factorial of 7 is 5040\n"
     ]
    }
   ],
   "source": [
    "num = 7\n",
    "factorial = 1\n",
    "\n",
    "for i in range(1,num + 1):\n",
    "    factorial = factorial*i\n",
    "print(\"The factorial of\",num,\"is\",factorial)"
   ]
  },
  {
   "cell_type": "markdown",
   "id": "b3cef5a1",
   "metadata": {},
   "source": [
    "# 9. Reverse a given integer number 27956240710."
   ]
  },
  {
   "cell_type": "code",
   "execution_count": 40,
   "id": "ba528615",
   "metadata": {},
   "outputs": [
    {
     "name": "stdout",
     "output_type": "stream",
     "text": [
      "1704265972\n"
     ]
    }
   ],
   "source": [
    "num = 27956240710\n",
    "reversed_num = int(str(num)[::-1])\n",
    "\n",
    "print(reversed_num) "
   ]
  },
  {
   "cell_type": "markdown",
   "id": "8ccef8fc",
   "metadata": {},
   "source": [
    "# 10. Print the following pattern using for and while loop.\n"
   ]
  },
  {
   "cell_type": "code",
   "execution_count": 12,
   "id": "7f54f808",
   "metadata": {},
   "outputs": [
    {
     "name": "stdout",
     "output_type": "stream",
     "text": [
      "# \n",
      "# # \n",
      "# # # \n",
      "# # # # \n",
      "# # # \n",
      "# # \n",
      "# \n"
     ]
    }
   ],
   "source": [
    "size = 4\n",
    "\n",
    "i = 1\n",
    "while i <= size:\n",
    "    print(\"# \" * i)\n",
    "    i += 1\n",
    "i = size - 1\n",
    "while i > 0:\n",
    "    print(\"# \" * i)\n",
    "    i -= 1"
   ]
  },
  {
   "cell_type": "markdown",
   "id": "7068e533",
   "metadata": {},
   "source": [
    "# 11. Display the Fibonacci series of 15 elements using the for and while loop."
   ]
  },
  {
   "cell_type": "code",
   "execution_count": 15,
   "id": "dece8077",
   "metadata": {},
   "outputs": [
    {
     "name": "stdout",
     "output_type": "stream",
     "text": [
      "0\n",
      "1\n",
      "1\n",
      "2\n",
      "3\n",
      "5\n",
      "8\n",
      "13\n",
      "21\n",
      "34\n",
      "55\n",
      "89\n",
      "144\n",
      "233\n",
      "377\n"
     ]
    }
   ],
   "source": [
    "n = 15\n",
    "n1, n2 = 0, 1 \n",
    "i = 0\n",
    "\n",
    "while(i<n): \n",
    "      print(n1)\n",
    "      sum = n1 + n2 \n",
    "      n1 = n2\n",
    "      n2 = sum\n",
    "      i += 1"
   ]
  },
  {
   "cell_type": "markdown",
   "id": "af8e2356",
   "metadata": {},
   "source": [
    "# 12. Remove 2 and add 3 to the list and replace True with False. Li = [1,3,5, [2,3], True] Output = [1,3,5, [3,3], False]"
   ]
  },
  {
   "cell_type": "code",
   "execution_count": 20,
   "id": "371facef",
   "metadata": {},
   "outputs": [
    {
     "name": "stdout",
     "output_type": "stream",
     "text": [
      "[1, 3, 5, [3, 3], False]\n"
     ]
    }
   ],
   "source": [
    "Li = [1, 3, 5, [2, 3], True]\n",
    "\n",
    "Li[3][0] = 3\n",
    "Li[-1] = False\n",
    "\n",
    "print(Li)"
   ]
  },
  {
   "cell_type": "markdown",
   "id": "8a86af51",
   "metadata": {},
   "source": [
    "# 13. Find the intersection (common) of two sets. S1 = {1,4,6,8} S2 = {True, 1,2,10}"
   ]
  },
  {
   "cell_type": "code",
   "execution_count": 21,
   "id": "af4d74e1",
   "metadata": {},
   "outputs": [
    {
     "name": "stdout",
     "output_type": "stream",
     "text": [
      "{True}\n"
     ]
    }
   ],
   "source": [
    "S1 = {1, 4, 6, 8}\n",
    "S2 = {True, 1, 2, 10}\n",
    "intersection = S1 & S2\n",
    "print(intersection)"
   ]
  },
  {
   "cell_type": "markdown",
   "id": "3147d6b2",
   "metadata": {},
   "source": [
    "# 14. Input a list from the user then Remove duplicates from a list and create a set and find the max number. User_input = [1,9,3,4,5,200,54]"
   ]
  },
  {
   "cell_type": "code",
   "execution_count": 1,
   "id": "8812bf89",
   "metadata": {},
   "outputs": [
    {
     "name": "stdout",
     "output_type": "stream",
     "text": [
      "200\n"
     ]
    }
   ],
   "source": [
    "User_input = [1,9,3,4,5,200,54]\n",
    "\n",
    "print(max(User_input))"
   ]
  },
  {
   "cell_type": "markdown",
   "id": "170472cf",
   "metadata": {},
   "source": [
    "# 15. Rename the key of a dictionary.Dict = { \"name\": \"Shakil\", \"age\":27, \"city\": “Berlin”, \"country\": \"Germany\" } Write a program to rename a key ‘country’ to a ‘region’ in the following dictionary."
   ]
  },
  {
   "cell_type": "code",
   "execution_count": 2,
   "id": "4802dafc",
   "metadata": {},
   "outputs": [
    {
     "name": "stdout",
     "output_type": "stream",
     "text": [
      "{'name': 'Shakil', 'age': 27, 'city': 'Berlin', 'region': 'Germany'}\n"
     ]
    }
   ],
   "source": [
    "Dict = { \"name\": \"Shakil\", \"age\": 27, \"city\": \"Berlin\", \"country\": \"Germany\" }\n",
    "Dict['region'] = Dict.pop('country')\n",
    "print(Dict)\n"
   ]
  },
  {
   "cell_type": "markdown",
   "id": "41e29fa8",
   "metadata": {},
   "source": [
    "# 16. Creating a data frame using the list.num = [10,100,300] (column name is number)"
   ]
  },
  {
   "cell_type": "code",
   "execution_count": 3,
   "id": "7b1b219b",
   "metadata": {},
   "outputs": [
    {
     "name": "stdout",
     "output_type": "stream",
     "text": [
      "   number\n",
      "0      10\n",
      "1     100\n",
      "2     300\n"
     ]
    }
   ],
   "source": [
    "import pandas as pd\n",
    "num = [10, 100, 300]\n",
    "df = pd.DataFrame({\"number\": num})\n",
    "print(df)\n"
   ]
  },
  {
   "cell_type": "markdown",
   "id": "0c51ceca",
   "metadata": {},
   "source": [
    "# 17. Change the value of a key in a given dictionary. Write a Python program to change ‘age’ to 28 in the following dictionary. Dict = { \"name\": \"Shakil\", \"age\":27, \"city\": “Berlin”, \"country\": \"Germany\"}"
   ]
  },
  {
   "cell_type": "code",
   "execution_count": 16,
   "id": "ef716efa",
   "metadata": {},
   "outputs": [
    {
     "name": "stdout",
     "output_type": "stream",
     "text": [
      "{'name': 'Shakil', 'age': 28, 'city': 'Berlin', 'country': 'Germany'}\n"
     ]
    }
   ],
   "source": [
    "Dict = { \"name\": \"Shakil\", \"age\":27, \"city\": \"Berlin\", \"country\": \"Germany\"}\n",
    "Dict[\"age\"] = 28\n",
    "print(Dict)"
   ]
  },
  {
   "cell_type": "code",
   "execution_count": null,
   "id": "b95b1532",
   "metadata": {},
   "outputs": [],
   "source": []
  }
 ],
 "metadata": {
  "kernelspec": {
   "display_name": "Python 3 (ipykernel)",
   "language": "python",
   "name": "python3"
  },
  "language_info": {
   "codemirror_mode": {
    "name": "ipython",
    "version": 3
   },
   "file_extension": ".py",
   "mimetype": "text/x-python",
   "name": "python",
   "nbconvert_exporter": "python",
   "pygments_lexer": "ipython3",
   "version": "3.8.10"
  }
 },
 "nbformat": 4,
 "nbformat_minor": 5
}
